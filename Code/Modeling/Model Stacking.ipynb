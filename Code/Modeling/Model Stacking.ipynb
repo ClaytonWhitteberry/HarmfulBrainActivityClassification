{
 "cells": [
  {
   "cell_type": "markdown",
   "id": "50c7a554",
   "metadata": {},
   "source": [
    "### Stacking Attempt  \n",
    "  \n",
    "Model stacking is the process of taking a few different base models which are trained on the training set and then make predictions on the validation set. The predictions of these base models on the validation set then are combined as a new feature set. The meta model is trained on this new feature set and makes predicts on the testing set."
   ]
  },
  {
   "cell_type": "code",
   "execution_count": 1,
   "id": "f77bde38",
   "metadata": {},
   "outputs": [],
   "source": [
    "import numpy as np\n",
    "import pandas as pd\n",
    "import matplotlib.pyplot as plt\n",
    "import fastparquet, pyarrow\n",
    "import mne\n",
    "from mne.decoding import Scaler\n",
    "from sklearn.preprocessing import StandardScaler, MinMaxScaler\n",
    "from sklearn.model_selection import train_test_split\n",
    "from sklearn.neighbors import KNeighborsClassifier\n",
    "from sklearn.metrics import classification_report, f1_score, accuracy_score, precision_score, recall_score\n",
    "from sklearn.metrics import multilabel_confusion_matrix, ConfusionMatrixDisplay\n",
    "from utils import *"
   ]
  },
  {
   "cell_type": "code",
   "execution_count": 2,
   "id": "93df0685",
   "metadata": {},
   "outputs": [],
   "source": [
    "mne.set_log_level('WARNING')"
   ]
  },
  {
   "cell_type": "code",
   "execution_count": 3,
   "id": "91998143",
   "metadata": {},
   "outputs": [],
   "source": [
    "df = pd.read_csv('by_patient.csv')"
   ]
  },
  {
   "cell_type": "code",
   "execution_count": 4,
   "id": "8933b5a4",
   "metadata": {},
   "outputs": [],
   "source": [
    "other_df = activity_df(df, 'Other', 'expert_consensus')\n",
    "seizure_df = activity_df(df, 'Seizure', 'expert_consensus')\n",
    "gpd_df = activity_df(df, 'GPD', 'expert_consensus')\n",
    "lpd_df = activity_df(df, 'LPD', 'expert_consensus')\n",
    "grda_df = activity_df(df, 'GRDA', 'expert_consensus')\n",
    "lrda_df = activity_df(df, 'LRDA', 'expert_consensus')\n",
    "activity_df_list = [other_df, seizure_df, gpd_df, lpd_df, grda_df, lrda_df]"
   ]
  },
  {
   "cell_type": "code",
   "execution_count": 5,
   "id": "78ba8447",
   "metadata": {},
   "outputs": [],
   "source": [
    "activity_indexes = pd.read_csv('activity_indexes.csv')"
   ]
  },
  {
   "cell_type": "code",
   "execution_count": 6,
   "id": "539f8fce",
   "metadata": {},
   "outputs": [],
   "source": [
    "index_lists = [activity_indexes[col] for col in activity_indexes.columns]"
   ]
  },
  {
   "cell_type": "code",
   "execution_count": 7,
   "id": "8c0b9417",
   "metadata": {},
   "outputs": [],
   "source": [
    "y = get_yvals(2000)['activity']"
   ]
  },
  {
   "cell_type": "code",
   "execution_count": 8,
   "id": "5196df83",
   "metadata": {},
   "outputs": [],
   "source": [
    "activities = ['GPD', 'GRDA', 'LPD', 'LRDA', 'Other', 'Seizure']"
   ]
  },
  {
   "cell_type": "markdown",
   "id": "c1181b11",
   "metadata": {},
   "source": [
    "### Hjorth + Band Power Features"
   ]
  },
  {
   "cell_type": "code",
   "execution_count": 9,
   "id": "154a6cbd",
   "metadata": {},
   "outputs": [],
   "source": [
    "X1 = pd.read_csv('band_pow_df.csv')\n",
    "X2 = pd.read_csv('time_mob_df.csv')\n",
    "X3 = pd.read_csv('spectral_mob_df.csv')\n",
    "X4 = pd.read_csv('time_comp_df.csv')\n",
    "X5 = pd.read_csv('freq_comp_df.csv')\n",
    "\n",
    "xlist = [X1, X2, X3, X4, X5]\n",
    "\n",
    "full_set = pd.DataFrame()\n",
    "\n",
    "for x in xlist:\n",
    "    cols = x.columns\n",
    "    scaler = StandardScaler()\n",
    "    x = scaler.fit_transform(x)\n",
    "    x = pd.DataFrame(x, columns = cols)\n",
    "    full_set = pd.concat([full_set, x], axis = 1)"
   ]
  },
  {
   "cell_type": "code",
   "execution_count": 10,
   "id": "9acf87e4",
   "metadata": {},
   "outputs": [],
   "source": [
    "X = full_set.copy()"
   ]
  },
  {
   "cell_type": "code",
   "execution_count": 11,
   "id": "e9d389b5",
   "metadata": {},
   "outputs": [],
   "source": [
    "from sklearn.decomposition import PCA\n",
    "pca = PCA(n_components = 40)\n",
    "X_pca = pca.fit_transform(X)"
   ]
  },
  {
   "cell_type": "markdown",
   "id": "587c4b5b",
   "metadata": {},
   "source": [
    "### Base Models  \n",
    "  \n",
    "Because KNN has performed the best so far, I intend to use that as the meta model. The base models will be XGBoost and LinearSVC. I could also maybe try KNN as a third base model and then use an RNN as a meta model if implementation is simple enough."
   ]
  },
  {
   "cell_type": "code",
   "execution_count": 12,
   "id": "562725e3",
   "metadata": {},
   "outputs": [],
   "source": [
    "from sklearn.neighbors import KNeighborsClassifier\n",
    "from sklearn.ensemble import GradientBoostingClassifier, RandomForestClassifier\n",
    "from sklearn.svm import LinearSVC\n",
    "from sklearn.tree import DecisionTreeClassifier"
   ]
  },
  {
   "cell_type": "code",
   "execution_count": 33,
   "id": "11c56421",
   "metadata": {},
   "outputs": [],
   "source": [
    "X_train, X_val, y_train, y_val = train_test_split(X_pca, y, test_size = 0.2, random_state = 42)\n",
    "\n",
    "xgb = GradientBoostingClassifier(random_state = 42)\n",
    "svc = LinearSVC(random_state = 42, dual = 'auto')"
   ]
  },
  {
   "cell_type": "code",
   "execution_count": 34,
   "id": "31990133",
   "metadata": {},
   "outputs": [],
   "source": [
    "xgb.fit(X_train, y_train)\n",
    "svc.fit(X_train, y_train)\n",
    "\n",
    "xgb_predictions = xgb.predict(X_val)\n",
    "svc_predictions = svc.predict(X_val)"
   ]
  },
  {
   "cell_type": "code",
   "execution_count": 17,
   "id": "262addbe",
   "metadata": {},
   "outputs": [],
   "source": [
    "X_val_meta = pd.DataFrame([xgb_predictions, svc_predictions],\n",
    "                          index = ['xgb', 'svc']).transpose()"
   ]
  },
  {
   "cell_type": "code",
   "execution_count": 22,
   "id": "c0dc755e",
   "metadata": {},
   "outputs": [],
   "source": [
    "X_val_meta = pd.get_dummies(X_val_meta, dtype = 'int64')"
   ]
  },
  {
   "cell_type": "code",
   "execution_count": 27,
   "id": "b848532d",
   "metadata": {},
   "outputs": [],
   "source": [
    "X_train_new, X_test, y_train_new, y_test = train_test_split(X_val_meta, y_val, test_size = 0.3, random_state = 42)"
   ]
  },
  {
   "cell_type": "code",
   "execution_count": 30,
   "id": "3ffdd73c",
   "metadata": {},
   "outputs": [
    {
     "name": "stdout",
     "output_type": "stream",
     "text": [
      "Meta Training\n",
      "              precision    recall  f1-score   support\n",
      "\n",
      "         GPD       0.72      0.79      0.75       281\n",
      "        GRDA       0.57      0.61      0.59       256\n",
      "         LPD       0.54      0.54      0.54       258\n",
      "        LRDA       0.62      0.61      0.62       312\n",
      "       Other       0.51      0.46      0.48       275\n",
      "     Seizure       0.61      0.57      0.59       298\n",
      "\n",
      "    accuracy                           0.60      1680\n",
      "   macro avg       0.59      0.60      0.59      1680\n",
      "weighted avg       0.60      0.60      0.60      1680\n",
      "\n",
      "Meta Testing\n",
      "              precision    recall  f1-score   support\n",
      "\n",
      "         GPD       0.78      0.84      0.81       127\n",
      "        GRDA       0.66      0.54      0.59       116\n",
      "         LPD       0.55      0.54      0.55       123\n",
      "        LRDA       0.48      0.68      0.56        99\n",
      "       Other       0.44      0.39      0.42       127\n",
      "     Seizure       0.58      0.51      0.54       128\n",
      "\n",
      "    accuracy                           0.58       720\n",
      "   macro avg       0.58      0.58      0.58       720\n",
      "weighted avg       0.58      0.58      0.58       720\n",
      "\n"
     ]
    }
   ],
   "source": [
    "knn = KNeighborsClassifier(n_neighbors = 3)\n",
    "knn.fit(X_train_new, y_train_new)\n",
    "train_predictions = knn.predict(X_train_new)\n",
    "meta_predictions = knn.predict(X_test)\n",
    "print('Meta Training')\n",
    "print(classification_report(y_train_new, train_predictions))\n",
    "print('Meta Testing')\n",
    "print(classification_report(y_test, meta_predictions))"
   ]
  },
  {
   "cell_type": "code",
   "execution_count": 36,
   "id": "d33b0616",
   "metadata": {},
   "outputs": [],
   "source": [
    "X_train, X_val, y_train, y_val = train_test_split(X_pca, y, test_size = 0.2, random_state = 42)\n",
    "\n",
    "xgb = GradientBoostingClassifier(random_state = 42)\n",
    "svc = LinearSVC(random_state = 42, dual = 'auto')\n",
    "tree = DecisionTreeClassifier(random_state = 42)"
   ]
  },
  {
   "cell_type": "code",
   "execution_count": 37,
   "id": "3ba7935c",
   "metadata": {},
   "outputs": [],
   "source": [
    "xgb.fit(X_train, y_train)\n",
    "svc.fit(X_train, y_train)\n",
    "tree.fit(X_train, y_train)\n",
    "\n",
    "xgb_predictions = xgb.predict(X_val)\n",
    "svc_predictions = svc.predict(X_val)\n",
    "tree_predictions = tree.predict(X_val)"
   ]
  },
  {
   "cell_type": "code",
   "execution_count": 38,
   "id": "fb87b8f9",
   "metadata": {},
   "outputs": [],
   "source": [
    "X_val_meta = pd.DataFrame([xgb_predictions, svc_predictions, tree_predictions],\n",
    "                          index = ['xgb', 'svc', 'tree']).transpose()"
   ]
  },
  {
   "cell_type": "code",
   "execution_count": 39,
   "id": "8205bfc9",
   "metadata": {},
   "outputs": [],
   "source": [
    "X_val_meta = pd.get_dummies(X_val_meta, dtype = 'int64')"
   ]
  },
  {
   "cell_type": "code",
   "execution_count": 42,
   "id": "444920eb",
   "metadata": {},
   "outputs": [
    {
     "name": "stdout",
     "output_type": "stream",
     "text": [
      "Meta Training\n",
      "              precision    recall  f1-score   support\n",
      "\n",
      "         GPD       0.70      0.85      0.77       281\n",
      "        GRDA       0.64      0.76      0.69       256\n",
      "         LPD       0.61      0.62      0.62       258\n",
      "        LRDA       0.69      0.67      0.68       312\n",
      "       Other       0.61      0.44      0.51       275\n",
      "     Seizure       0.69      0.62      0.65       298\n",
      "\n",
      "    accuracy                           0.66      1680\n",
      "   macro avg       0.66      0.66      0.65      1680\n",
      "weighted avg       0.66      0.66      0.65      1680\n",
      "\n",
      "Meta Testing\n",
      "              precision    recall  f1-score   support\n",
      "\n",
      "         GPD       0.68      0.85      0.76       127\n",
      "        GRDA       0.63      0.62      0.63       116\n",
      "         LPD       0.58      0.59      0.58       123\n",
      "        LRDA       0.55      0.66      0.60        99\n",
      "       Other       0.47      0.34      0.39       127\n",
      "     Seizure       0.63      0.55      0.59       128\n",
      "\n",
      "    accuracy                           0.60       720\n",
      "   macro avg       0.59      0.60      0.59       720\n",
      "weighted avg       0.59      0.60      0.59       720\n",
      "\n"
     ]
    }
   ],
   "source": [
    "X_train_new, X_test, y_train_new, y_test = train_test_split(X_val_meta, y_val, test_size = 0.3, random_state = 42)\n",
    "\n",
    "knn = KNeighborsClassifier(n_neighbors = 3)\n",
    "knn.fit(X_train_new, y_train_new)\n",
    "train_predictions = knn.predict(X_train_new)\n",
    "meta_predictions = knn.predict(X_test)\n",
    "print('Meta Training')\n",
    "print(classification_report(y_train_new, train_predictions))\n",
    "print('Meta Testing')\n",
    "print(classification_report(y_test, meta_predictions))"
   ]
  },
  {
   "cell_type": "markdown",
   "id": "1049593b",
   "metadata": {},
   "source": [
    "### KNN Meta Model"
   ]
  },
  {
   "cell_type": "code",
   "execution_count": 16,
   "id": "811a7723",
   "metadata": {},
   "outputs": [],
   "source": [
    "X_train, X_val, y_train, y_val = train_test_split(X_pca, y, test_size = 0.2, random_state = 42)\n",
    "\n",
    "xgb = GradientBoostingClassifier(random_state = 42)\n",
    "svc = LinearSVC(random_state = 42, dual = 'auto')\n",
    "forest = RandomForestClassifier(random_state = 42)"
   ]
  },
  {
   "cell_type": "code",
   "execution_count": 17,
   "id": "f2b5db81",
   "metadata": {},
   "outputs": [],
   "source": [
    "xgb.fit(X_train, y_train)\n",
    "svc.fit(X_train, y_train)\n",
    "forest.fit(X_train, y_train)\n",
    "\n",
    "xgb_predictions = xgb.predict(X_val)\n",
    "svc_predictions = svc.predict(X_val)\n",
    "forest_predictions = forest.predict(X_val)\n",
    "\n",
    "X_val_meta = pd.DataFrame([xgb_predictions, svc_predictions, forest_predictions],\n",
    "                          index = ['xgb', 'svc', 'forest']).transpose()\n",
    "\n",
    "X_val_meta = pd.get_dummies(X_val_meta, dtype = 'int64')"
   ]
  },
  {
   "cell_type": "markdown",
   "id": "20e431e4",
   "metadata": {},
   "source": [
    "### Notes on Results Below  \n",
    "  \n",
    "A testing accuracy of 69% is not my best performance, but I want to point out that these stacked models aren't overfitting. I think this version is worth attempting to tune hyperparameters for, but I might just make mention of that as a future work thing and talk about how this resolved the overfitting issue. I also want to discuss generating an even larger dataset because of the way stacking requires the dataset to be split. I can't split 90/10 for these stacked models the way I have been. I want the meta model to have more data to work with. That's why I split 80/20 and then 70/30."
   ]
  },
  {
   "cell_type": "code",
   "execution_count": 18,
   "id": "30f96fa7",
   "metadata": {},
   "outputs": [
    {
     "name": "stdout",
     "output_type": "stream",
     "text": [
      "Meta Training\n",
      "              precision    recall  f1-score   support\n",
      "\n",
      "         GPD       0.83      0.89      0.86       281\n",
      "        GRDA       0.76      0.79      0.78       256\n",
      "         LPD       0.48      0.83      0.61       258\n",
      "        LRDA       0.88      0.84      0.86       312\n",
      "       Other       0.70      0.67      0.68       275\n",
      "     Seizure       0.81      0.28      0.42       298\n",
      "\n",
      "    accuracy                           0.71      1680\n",
      "   macro avg       0.74      0.72      0.70      1680\n",
      "weighted avg       0.75      0.71      0.70      1680\n",
      "\n",
      "Meta Testing\n",
      "              precision    recall  f1-score   support\n",
      "\n",
      "         GPD       0.81      0.86      0.84       127\n",
      "        GRDA       0.70      0.59      0.64       116\n",
      "         LPD       0.49      0.83      0.62       123\n",
      "        LRDA       0.87      0.80      0.83        99\n",
      "       Other       0.58      0.56      0.57       127\n",
      "     Seizure       0.72      0.38      0.49       128\n",
      "\n",
      "    accuracy                           0.66       720\n",
      "   macro avg       0.69      0.67      0.66       720\n",
      "weighted avg       0.69      0.66      0.66       720\n",
      "\n"
     ]
    }
   ],
   "source": [
    "X_train_new, X_test, y_train_new, y_test = train_test_split(X_val_meta, y_val, test_size = 0.3, random_state = 42)\n",
    "\n",
    "knn = KNeighborsClassifier(n_neighbors = 3)\n",
    "knn.fit(X_train_new, y_train_new)\n",
    "train_predictions = knn.predict(X_train_new)\n",
    "meta_predictions = knn.predict(X_test)\n",
    "print('Meta Training')\n",
    "print(classification_report(y_train_new, train_predictions))\n",
    "print('Meta Testing')\n",
    "print(classification_report(y_test, meta_predictions))"
   ]
  },
  {
   "cell_type": "code",
   "execution_count": 75,
   "id": "1f7da3df",
   "metadata": {},
   "outputs": [
    {
     "data": {
      "image/png": "[encoded data removed]",
      "text/plain": [
       "<Figure size 432x288 with 2 Axes>"
      ]
     },
     "metadata": {
      "needs_background": "light"
     },
     "output_type": "display_data"
    },
    {
     "data": {
      "image/png": "[encoded data removed]",
      "text/plain": [
       "<Figure size 432x288 with 2 Axes>"
      ]
     },
     "metadata": {
      "needs_background": "light"
     },
     "output_type": "display_data"
    },
    {
     "data": {
      "image/png": "[encoded data removed]",
      "text/plain": [
       "<Figure size 432x288 with 2 Axes>"
      ]
     },
     "metadata": {
      "needs_background": "light"
     },
     "output_type": "display_data"
    },
    {
     "data": {
      "image/png": "[encoded data removed]",
      "text/plain": [
       "<Figure size 432x288 with 2 Axes>"
      ]
     },
     "metadata": {
      "needs_background": "light"
     },
     "output_type": "display_data"
    },
    {
     "data": {
      "image/png": "[encoded data removed]",
      "text/plain": [
       "<Figure size 432x288 with 2 Axes>"
      ]
     },
     "metadata": {
      "needs_background": "light"
     },
     "output_type": "display_data"
    },
    {
     "data": {
      "image/png": "[encoded data removed]",
      "text/plain": [
       "<Figure size 432x288 with 2 Axes>"
      ]
     },
     "metadata": {
      "needs_background": "light"
     },
     "output_type": "display_data"
    }
   ],
   "source": [
    "activities = ['GPD', 'GRDA', 'LPD', 'LRDA', 'Other', 'Seizure']\n",
    "f1_scores = f1_score(y_test, meta_predictions, average = None)\n",
    "matrices = multilabel_confusion_matrix(y_test, meta_predictions)\n",
    "for i in range(len(matrices)):\n",
    "    disp = ConfusionMatrixDisplay(matrices[i])\n",
    "    disp.plot()\n",
    "    plt.title('F1: {} ({})'.format(f1_scores[i].round(decimals = 3), activities[i]))\n",
    "    plt.tight_layout()\n",
    "    plt.show()"
   ]
  },
  {
   "cell_type": "code",
   "execution_count": 80,
   "id": "4ed980e2",
   "metadata": {},
   "outputs": [
    {
     "name": "stdout",
     "output_type": "stream",
     "text": [
      "Testing Accuracy: 0.686\n"
     ]
    },
    {
     "data": {
      "text/html": [
       "<div>\n",
       "<style scoped>\n",
       "    .dataframe tbody tr th:only-of-type {\n",
       "        vertical-align: middle;\n",
       "    }\n",
       "\n",
       "    .dataframe tbody tr th {\n",
       "        vertical-align: top;\n",
       "    }\n",
       "\n",
       "    .dataframe thead th {\n",
       "        text-align: right;\n",
       "    }\n",
       "</style>\n",
       "<table border=\"1\" class=\"dataframe\">\n",
       "  <thead>\n",
       "    <tr style=\"text-align: right;\">\n",
       "      <th></th>\n",
       "      <th>Precision</th>\n",
       "      <th>Recall</th>\n",
       "    </tr>\n",
       "  </thead>\n",
       "  <tbody>\n",
       "    <tr>\n",
       "      <th>GPD</th>\n",
       "      <td>0.772414</td>\n",
       "      <td>0.881890</td>\n",
       "    </tr>\n",
       "    <tr>\n",
       "      <th>GRDA</th>\n",
       "      <td>0.776786</td>\n",
       "      <td>0.750000</td>\n",
       "    </tr>\n",
       "    <tr>\n",
       "      <th>LPD</th>\n",
       "      <td>0.562500</td>\n",
       "      <td>0.731707</td>\n",
       "    </tr>\n",
       "    <tr>\n",
       "      <th>LRDA</th>\n",
       "      <td>0.611111</td>\n",
       "      <td>0.777778</td>\n",
       "    </tr>\n",
       "    <tr>\n",
       "      <th>Other</th>\n",
       "      <td>0.756410</td>\n",
       "      <td>0.464567</td>\n",
       "    </tr>\n",
       "    <tr>\n",
       "      <th>Seizure</th>\n",
       "      <td>0.696970</td>\n",
       "      <td>0.539062</td>\n",
       "    </tr>\n",
       "  </tbody>\n",
       "</table>\n",
       "</div>"
      ],
      "text/plain": [
       "         Precision    Recall\n",
       "GPD       0.772414  0.881890\n",
       "GRDA      0.776786  0.750000\n",
       "LPD       0.562500  0.731707\n",
       "LRDA      0.611111  0.777778\n",
       "Other     0.756410  0.464567\n",
       "Seizure   0.696970  0.539062"
      ]
     },
     "execution_count": 80,
     "metadata": {},
     "output_type": "execute_result"
    }
   ],
   "source": [
    "recs = recall_score(y_test, meta_predictions, average = None)\n",
    "precs = precision_score(y_test, meta_predictions, average = None)\n",
    "\n",
    "print('Testing Accuracy: {}'.format(accuracy_score(y_test, meta_predictions).round(decimals = 3)))\n",
    "pd.DataFrame([precs, recs], index = ['Precision', 'Recall'], columns = activities).transpose()"
   ]
  },
  {
   "cell_type": "markdown",
   "id": "aea566ff",
   "metadata": {},
   "source": [
    "### RandomForest Meta Model"
   ]
  },
  {
   "cell_type": "code",
   "execution_count": 21,
   "id": "9cd324cb",
   "metadata": {},
   "outputs": [],
   "source": [
    "X_train, X_val, y_train, y_val = train_test_split(X_pca, y, test_size = 0.2, random_state = 42)\n",
    "\n",
    "xgb = GradientBoostingClassifier(random_state = 42)\n",
    "svc = LinearSVC(random_state = 42, dual = 'auto')\n",
    "knn = KNeighborsClassifier(n_neighbors = 3)"
   ]
  },
  {
   "cell_type": "code",
   "execution_count": 22,
   "id": "a12ea541",
   "metadata": {},
   "outputs": [],
   "source": [
    "xgb.fit(X_train, y_train)\n",
    "svc.fit(X_train, y_train)\n",
    "knn.fit(X_train, y_train)\n",
    "\n",
    "xgb_predictions = xgb.predict(X_val)\n",
    "svc_predictions = svc.predict(X_val)\n",
    "knn_predictions = knn.predict(X_val)\n",
    "\n",
    "X_val_meta = pd.DataFrame([xgb_predictions, svc_predictions, knn_predictions],\n",
    "                          index = ['xgb', 'svc', 'knn']).transpose()\n",
    "\n",
    "X_val_meta = pd.get_dummies(X_val_meta, dtype = 'int64')"
   ]
  },
  {
   "cell_type": "markdown",
   "id": "afe8a134",
   "metadata": {},
   "source": [
    "### Notes on Results Below  \n",
    "  \n",
    "This version performs similarly to the version above. Accuracy score basically equivalent on both the training and testing set. I want to try including an RNN and removing the LinearSVC model or the XGBoost model, but beyond that I need to focus on finishing the CNN and getting the presentation done."
   ]
  },
  {
   "cell_type": "code",
   "execution_count": 23,
   "id": "67805ef5",
   "metadata": {},
   "outputs": [
    {
     "name": "stdout",
     "output_type": "stream",
     "text": [
      "Meta Training\n",
      "              precision    recall  f1-score   support\n",
      "\n",
      "         GPD       0.87      0.85      0.86       281\n",
      "        GRDA       0.71      0.83      0.76       256\n",
      "         LPD       0.76      0.79      0.78       258\n",
      "        LRDA       0.82      0.85      0.83       312\n",
      "       Other       0.67      0.53      0.59       275\n",
      "     Seizure       0.74      0.74      0.74       298\n",
      "\n",
      "    accuracy                           0.77      1680\n",
      "   macro avg       0.76      0.77      0.76      1680\n",
      "weighted avg       0.77      0.77      0.76      1680\n",
      "\n",
      "Meta Testing\n",
      "              precision    recall  f1-score   support\n",
      "\n",
      "         GPD       0.88      0.83      0.85       127\n",
      "        GRDA       0.64      0.70      0.67       116\n",
      "         LPD       0.71      0.78      0.74       123\n",
      "        LRDA       0.69      0.78      0.73        99\n",
      "       Other       0.50      0.43      0.46       127\n",
      "     Seizure       0.63      0.59      0.61       128\n",
      "\n",
      "    accuracy                           0.68       720\n",
      "   macro avg       0.68      0.68      0.68       720\n",
      "weighted avg       0.68      0.68      0.68       720\n",
      "\n"
     ]
    }
   ],
   "source": [
    "X_train_new, X_test, y_train_new, y_test = train_test_split(X_val_meta, y_val, test_size = 0.3, random_state = 42)\n",
    "\n",
    "forest = RandomForestClassifier(random_state = 42)\n",
    "forest.fit(X_train_new, y_train_new)\n",
    "train_predictions = forest.predict(X_train_new)\n",
    "meta_predictions = forest.predict(X_test)\n",
    "print('Meta Training')\n",
    "print(classification_report(y_train_new, train_predictions))\n",
    "print('Meta Testing')\n",
    "print(classification_report(y_test, meta_predictions))"
   ]
  },
  {
   "cell_type": "code",
   "execution_count": 24,
   "id": "7f64a986",
   "metadata": {},
   "outputs": [],
   "source": [
    "metaforest_acc1 = accuracy_score(y_train_new, train_predictions)\n",
    "metaforest_acc2 = accuracy_score(y_test, meta_predictions)"
   ]
  },
  {
   "cell_type": "code",
   "execution_count": 27,
   "id": "f3c8ab66",
   "metadata": {},
   "outputs": [
    {
     "data": {
      "image/png": "[encoded data removed]",
      "text/plain": [
       "<Figure size 432x288 with 1 Axes>"
      ]
     },
     "metadata": {
      "needs_background": "light"
     },
     "output_type": "display_data"
    }
   ],
   "source": [
    "acc_versions = ['Training', 'Testing']\n",
    "acc_scores = [metaforest_acc1, metaforest_acc2]\n",
    "plt.bar(acc_versions, acc_scores, color = ['skyblue', 'lightgreen'])\n",
    "plt.ylabel('Accuracy')\n",
    "plt.title('Stacking Random Forest Train vs. Test')\n",
    "plt.show()"
   ]
  },
  {
   "cell_type": "code",
   "execution_count": 28,
   "id": "5926107c",
   "metadata": {},
   "outputs": [
    {
     "data": {
      "image/png": "[encoded data removed]",
      "text/plain": [
       "<Figure size 432x288 with 2 Axes>"
      ]
     },
     "metadata": {
      "needs_background": "light"
     },
     "output_type": "display_data"
    },
    {
     "data": {
      "image/png": "[encoded data removed]",
      "text/plain": [
       "<Figure size 432x288 with 2 Axes>"
      ]
     },
     "metadata": {
      "needs_background": "light"
     },
     "output_type": "display_data"
    },
    {
     "data": {
      "image/png": "[encoded data removed]",
      "text/plain": [
       "<Figure size 432x288 with 2 Axes>"
      ]
     },
     "metadata": {
      "needs_background": "light"
     },
     "output_type": "display_data"
    },
    {
     "data": {
      "image/png": "[encoded data removed]",
      "text/plain": [
       "<Figure size 432x288 with 2 Axes>"
      ]
     },
     "metadata": {
      "needs_background": "light"
     },
     "output_type": "display_data"
    },
    {
     "data": {
      "image/png": "[encoded data removed]",
      "text/plain": [
       "<Figure size 432x288 with 2 Axes>"
      ]
     },
     "metadata": {
      "needs_background": "light"
     },
     "output_type": "display_data"
    },
    {
     "data": {
      "image/png": "[encoded data removed]",
      "text/plain": [
       "<Figure size 432x288 with 2 Axes>"
      ]
     },
     "metadata": {
      "needs_background": "light"
     },
     "output_type": "display_data"
    }
   ],
   "source": [
    "f1_scores = f1_score(y_test, meta_predictions, average = None)\n",
    "matrices = multilabel_confusion_matrix(y_test, meta_predictions)\n",
    "for i in range(len(matrices)):\n",
    "    disp = ConfusionMatrixDisplay(matrices[i])\n",
    "    disp.plot()\n",
    "    plt.title('F1: {} ({})'.format(f1_scores[i].round(decimals = 3), activities[i]))\n",
    "    plt.tight_layout()\n",
    "    plt.show()"
   ]
  },
  {
   "cell_type": "code",
   "execution_count": 33,
   "id": "34659ca7",
   "metadata": {},
   "outputs": [
    {
     "name": "stdout",
     "output_type": "stream",
     "text": [
      "Testing Accuracy: 0.679\n"
     ]
    },
    {
     "data": {
      "text/html": [
       "<div>\n",
       "<style scoped>\n",
       "    .dataframe tbody tr th:only-of-type {\n",
       "        vertical-align: middle;\n",
       "    }\n",
       "\n",
       "    .dataframe tbody tr th {\n",
       "        vertical-align: top;\n",
       "    }\n",
       "\n",
       "    .dataframe thead th {\n",
       "        text-align: right;\n",
       "    }\n",
       "</style>\n",
       "<table border=\"1\" class=\"dataframe\">\n",
       "  <thead>\n",
       "    <tr style=\"text-align: right;\">\n",
       "      <th></th>\n",
       "      <th>Stack_Precision</th>\n",
       "      <th>Stack_Recall</th>\n",
       "      <th>Stack_F1</th>\n",
       "    </tr>\n",
       "  </thead>\n",
       "  <tbody>\n",
       "    <tr>\n",
       "      <th>GPD</th>\n",
       "      <td>0.882</td>\n",
       "      <td>0.827</td>\n",
       "      <td>0.854</td>\n",
       "    </tr>\n",
       "    <tr>\n",
       "      <th>GRDA</th>\n",
       "      <td>0.638</td>\n",
       "      <td>0.698</td>\n",
       "      <td>0.667</td>\n",
       "    </tr>\n",
       "    <tr>\n",
       "      <th>LPD</th>\n",
       "      <td>0.711</td>\n",
       "      <td>0.780</td>\n",
       "      <td>0.744</td>\n",
       "    </tr>\n",
       "    <tr>\n",
       "      <th>LRDA</th>\n",
       "      <td>0.694</td>\n",
       "      <td>0.778</td>\n",
       "      <td>0.733</td>\n",
       "    </tr>\n",
       "    <tr>\n",
       "      <th>Other</th>\n",
       "      <td>0.500</td>\n",
       "      <td>0.425</td>\n",
       "      <td>0.460</td>\n",
       "    </tr>\n",
       "    <tr>\n",
       "      <th>Seizure</th>\n",
       "      <td>0.633</td>\n",
       "      <td>0.594</td>\n",
       "      <td>0.613</td>\n",
       "    </tr>\n",
       "  </tbody>\n",
       "</table>\n",
       "</div>"
      ],
      "text/plain": [
       "         Stack_Precision  Stack_Recall  Stack_F1\n",
       "GPD                0.882         0.827     0.854\n",
       "GRDA               0.638         0.698     0.667\n",
       "LPD                0.711         0.780     0.744\n",
       "LRDA               0.694         0.778     0.733\n",
       "Other              0.500         0.425     0.460\n",
       "Seizure            0.633         0.594     0.613"
      ]
     },
     "execution_count": 33,
     "metadata": {},
     "output_type": "execute_result"
    }
   ],
   "source": [
    "recs = recall_score(y_test, meta_predictions, average = None)\n",
    "precs = precision_score(y_test, meta_predictions, average = None)\n",
    "\n",
    "print('Testing Accuracy: {}'.format(accuracy_score(y_test, meta_predictions).round(decimals = 3)))\n",
    "activity_scores = pd.DataFrame([precs, recs, f1_scores],\n",
    "                               index = ['Stack_Precision', 'Stack_Recall', 'Stack_F1'],\n",
    "                               columns = activities).transpose().round(decimals = 3)\n",
    "activity_scores"
   ]
  },
  {
   "cell_type": "code",
   "execution_count": 35,
   "id": "355a01f6",
   "metadata": {},
   "outputs": [
    {
     "data": {
      "text/plain": [
       "(0.767, 0.679)"
      ]
     },
     "execution_count": 35,
     "metadata": {},
     "output_type": "execute_result"
    }
   ],
   "source": [
    "metaforest_acc1.round(decimals = 3), metaforest_acc2.round(decimals = 3)"
   ]
  },
  {
   "cell_type": "markdown",
   "id": "6ac9f4f1",
   "metadata": {},
   "source": [
    "### Cluster Assignments as Feature w/ Stacking Method"
   ]
  },
  {
   "cell_type": "code",
   "execution_count": 38,
   "id": "6831b080",
   "metadata": {},
   "outputs": [],
   "source": [
    "from sklearn.cluster import KMeans, AgglomerativeClustering\n",
    "from sklearn.metrics import silhouette_score"
   ]
  },
  {
   "cell_type": "code",
   "execution_count": 39,
   "id": "5ca547f2",
   "metadata": {},
   "outputs": [],
   "source": [
    "k_range = range(4, 13)\n",
    "scores = []\n",
    "for k in k_range:\n",
    "    kmeans = KMeans(n_clusters = k, n_init = 'auto', random_state = 42)\n",
    "    scores.append(silhouette_score(X_val_meta, kmeans.fit_predict(X_val_meta)))\n",
    "cluster_scores = pd.DataFrame(scores, index = ['{} Clusters'.format(k) for k in k_range],\n",
    "                              columns = ['KMeans'])"
   ]
  },
  {
   "cell_type": "code",
   "execution_count": 41,
   "id": "a42b7643",
   "metadata": {},
   "outputs": [],
   "source": [
    "scores = []\n",
    "for k in k_range:\n",
    "    ward = AgglomerativeClustering(n_clusters = k)\n",
    "    scores.append(silhouette_score(X_val_meta, ward.fit_predict(X_val_meta)))\n",
    "scores = np.asarray(scores)\n",
    "cluster_scores['Ward'] = scores"
   ]
  },
  {
   "cell_type": "code",
   "execution_count": 42,
   "id": "bb330818",
   "metadata": {},
   "outputs": [
    {
     "data": {
      "text/html": [
       "<div>\n",
       "<style scoped>\n",
       "    .dataframe tbody tr th:only-of-type {\n",
       "        vertical-align: middle;\n",
       "    }\n",
       "\n",
       "    .dataframe tbody tr th {\n",
       "        vertical-align: top;\n",
       "    }\n",
       "\n",
       "    .dataframe thead th {\n",
       "        text-align: right;\n",
       "    }\n",
       "</style>\n",
       "<table border=\"1\" class=\"dataframe\">\n",
       "  <thead>\n",
       "    <tr style=\"text-align: right;\">\n",
       "      <th></th>\n",
       "      <th>KMeans</th>\n",
       "      <th>Ward</th>\n",
       "    </tr>\n",
       "  </thead>\n",
       "  <tbody>\n",
       "    <tr>\n",
       "      <th>4 Clusters</th>\n",
       "      <td>0.287539</td>\n",
       "      <td>0.263815</td>\n",
       "    </tr>\n",
       "    <tr>\n",
       "      <th>5 Clusters</th>\n",
       "      <td>0.278539</td>\n",
       "      <td>0.307785</td>\n",
       "    </tr>\n",
       "    <tr>\n",
       "      <th>6 Clusters</th>\n",
       "      <td>0.339520</td>\n",
       "      <td>0.334703</td>\n",
       "    </tr>\n",
       "    <tr>\n",
       "      <th>7 Clusters</th>\n",
       "      <td>0.396067</td>\n",
       "      <td>0.347371</td>\n",
       "    </tr>\n",
       "    <tr>\n",
       "      <th>8 Clusters</th>\n",
       "      <td>0.384833</td>\n",
       "      <td>0.351401</td>\n",
       "    </tr>\n",
       "    <tr>\n",
       "      <th>9 Clusters</th>\n",
       "      <td>0.388163</td>\n",
       "      <td>0.357223</td>\n",
       "    </tr>\n",
       "    <tr>\n",
       "      <th>10 Clusters</th>\n",
       "      <td>0.393980</td>\n",
       "      <td>0.363481</td>\n",
       "    </tr>\n",
       "    <tr>\n",
       "      <th>11 Clusters</th>\n",
       "      <td>0.395472</td>\n",
       "      <td>0.380141</td>\n",
       "    </tr>\n",
       "    <tr>\n",
       "      <th>12 Clusters</th>\n",
       "      <td>0.408632</td>\n",
       "      <td>0.387736</td>\n",
       "    </tr>\n",
       "  </tbody>\n",
       "</table>\n",
       "</div>"
      ],
      "text/plain": [
       "               KMeans      Ward\n",
       "4 Clusters   0.287539  0.263815\n",
       "5 Clusters   0.278539  0.307785\n",
       "6 Clusters   0.339520  0.334703\n",
       "7 Clusters   0.396067  0.347371\n",
       "8 Clusters   0.384833  0.351401\n",
       "9 Clusters   0.388163  0.357223\n",
       "10 Clusters  0.393980  0.363481\n",
       "11 Clusters  0.395472  0.380141\n",
       "12 Clusters  0.408632  0.387736"
      ]
     },
     "execution_count": 42,
     "metadata": {},
     "output_type": "execute_result"
    }
   ],
   "source": [
    "cluster_scores"
   ]
  },
  {
   "cell_type": "code",
   "execution_count": 46,
   "id": "0cf013bd",
   "metadata": {},
   "outputs": [],
   "source": [
    "kmeans = KMeans(n_clusters = 10, n_init = 'auto', random_state = 42)\n",
    "kmeans_assignments = kmeans.fit_predict(X_val_meta)\n",
    "\n",
    "ward = AgglomerativeClustering(n_clusters = 11)\n",
    "ward_assignments = ward.fit_predict(X_val_meta)"
   ]
  },
  {
   "cell_type": "code",
   "execution_count": 52,
   "id": "d7173521",
   "metadata": {},
   "outputs": [],
   "source": [
    "assignments = pd.DataFrame([kmeans_assignments, ward_assignments], index = ['KMeans', 'Ward']).transpose()\n",
    "\n",
    "cluster_cols = assignments.columns\n",
    "scaler = MinMaxScaler()\n",
    "assignments = scaler.fit_transform(assignments)\n",
    "assignments = pd.DataFrame(assignments, columns = cluster_cols)"
   ]
  },
  {
   "cell_type": "code",
   "execution_count": 53,
   "id": "41951d05",
   "metadata": {},
   "outputs": [],
   "source": [
    "X_val_meta_2 = pd.concat([X_val_meta, assignments], axis = 1)"
   ]
  },
  {
   "cell_type": "code",
   "execution_count": 65,
   "id": "3e3324ea",
   "metadata": {},
   "outputs": [],
   "source": [
    "assignments_2 = pd.DataFrame([kmeans_assignments, ward_assignments], index = ['KMeans', 'Ward']).transpose()\n",
    "\n",
    "assignments_2 = pd.get_dummies(assignments_2)"
   ]
  },
  {
   "cell_type": "code",
   "execution_count": 57,
   "id": "fb9c79db",
   "metadata": {},
   "outputs": [],
   "source": [
    "X_val_meta_3 = pd.concat([X_val_meta, assignments_2], axis = 1)"
   ]
  },
  {
   "cell_type": "code",
   "execution_count": 59,
   "id": "79852aba",
   "metadata": {},
   "outputs": [],
   "source": [
    "X_train2, X_test2, y_train2, y_test2 = train_test_split(X_val_meta_2, y_val, test_size = 0.3, random_state = 42)"
   ]
  },
  {
   "cell_type": "code",
   "execution_count": 60,
   "id": "be074462",
   "metadata": {},
   "outputs": [],
   "source": [
    "X_train3, X_test3, y_train3, y_test3 = train_test_split(X_val_meta_3, y_val, test_size = 0.3, random_state = 42)"
   ]
  },
  {
   "cell_type": "code",
   "execution_count": 61,
   "id": "5c6f760c",
   "metadata": {},
   "outputs": [
    {
     "name": "stdout",
     "output_type": "stream",
     "text": [
      "Meta Training\n",
      "              precision    recall  f1-score   support\n",
      "\n",
      "         GPD       0.87      0.88      0.87       281\n",
      "        GRDA       0.69      0.86      0.76       256\n",
      "         LPD       0.76      0.77      0.76       258\n",
      "        LRDA       0.82      0.85      0.83       312\n",
      "       Other       0.71      0.51      0.60       275\n",
      "     Seizure       0.73      0.73      0.73       298\n",
      "\n",
      "    accuracy                           0.77      1680\n",
      "   macro avg       0.76      0.77      0.76      1680\n",
      "weighted avg       0.77      0.77      0.76      1680\n",
      "\n",
      "Meta Testing\n",
      "              precision    recall  f1-score   support\n",
      "\n",
      "         GPD       0.88      0.83      0.85       127\n",
      "        GRDA       0.66      0.74      0.70       116\n",
      "         LPD       0.73      0.78      0.75       123\n",
      "        LRDA       0.73      0.81      0.77        99\n",
      "       Other       0.56      0.46      0.50       127\n",
      "     Seizure       0.65      0.63      0.64       128\n",
      "\n",
      "    accuracy                           0.70       720\n",
      "   macro avg       0.70      0.71      0.70       720\n",
      "weighted avg       0.70      0.70      0.70       720\n",
      "\n"
     ]
    }
   ],
   "source": [
    "forest = RandomForestClassifier(random_state = 42)\n",
    "forest.fit(X_train2, y_train2)\n",
    "train_predictions = forest.predict(X_train2)\n",
    "meta_predictions = forest.predict(X_test2)\n",
    "print('Meta Training')\n",
    "print(classification_report(y_train2, train_predictions))\n",
    "print('Meta Testing')\n",
    "print(classification_report(y_test2, meta_predictions))"
   ]
  },
  {
   "cell_type": "code",
   "execution_count": 62,
   "id": "5647e526",
   "metadata": {},
   "outputs": [
    {
     "name": "stdout",
     "output_type": "stream",
     "text": [
      "Meta Training\n",
      "              precision    recall  f1-score   support\n",
      "\n",
      "         GPD       0.87      0.88      0.87       281\n",
      "        GRDA       0.69      0.86      0.76       256\n",
      "         LPD       0.76      0.77      0.76       258\n",
      "        LRDA       0.82      0.85      0.83       312\n",
      "       Other       0.71      0.51      0.60       275\n",
      "     Seizure       0.73      0.73      0.73       298\n",
      "\n",
      "    accuracy                           0.77      1680\n",
      "   macro avg       0.76      0.77      0.76      1680\n",
      "weighted avg       0.77      0.77      0.76      1680\n",
      "\n",
      "Meta Testing\n",
      "              precision    recall  f1-score   support\n",
      "\n",
      "         GPD       0.88      0.83      0.85       127\n",
      "        GRDA       0.66      0.74      0.70       116\n",
      "         LPD       0.73      0.78      0.75       123\n",
      "        LRDA       0.73      0.81      0.77        99\n",
      "       Other       0.56      0.46      0.50       127\n",
      "     Seizure       0.65      0.63      0.64       128\n",
      "\n",
      "    accuracy                           0.70       720\n",
      "   macro avg       0.70      0.71      0.70       720\n",
      "weighted avg       0.70      0.70      0.70       720\n",
      "\n"
     ]
    }
   ],
   "source": [
    "forest = RandomForestClassifier(random_state = 42)\n",
    "forest.fit(X_train3, y_train3)\n",
    "train_predictions = forest.predict(X_train3)\n",
    "meta_predictions = forest.predict(X_test3)\n",
    "print('Meta Training')\n",
    "print(classification_report(y_train3, train_predictions))\n",
    "print('Meta Testing')\n",
    "print(classification_report(y_test3, meta_predictions))"
   ]
  },
  {
   "cell_type": "code",
   "execution_count": 63,
   "id": "ac713109",
   "metadata": {},
   "outputs": [
    {
     "data": {
      "text/html": [
       "<div>\n",
       "<style scoped>\n",
       "    .dataframe tbody tr th:only-of-type {\n",
       "        vertical-align: middle;\n",
       "    }\n",
       "\n",
       "    .dataframe tbody tr th {\n",
       "        vertical-align: top;\n",
       "    }\n",
       "\n",
       "    .dataframe thead th {\n",
       "        text-align: right;\n",
       "    }\n",
       "</style>\n",
       "<table border=\"1\" class=\"dataframe\">\n",
       "  <thead>\n",
       "    <tr style=\"text-align: right;\">\n",
       "      <th></th>\n",
       "      <th>xgb_GPD</th>\n",
       "      <th>xgb_GRDA</th>\n",
       "      <th>xgb_LPD</th>\n",
       "      <th>xgb_LRDA</th>\n",
       "      <th>xgb_Other</th>\n",
       "      <th>xgb_Seizure</th>\n",
       "      <th>svc_GPD</th>\n",
       "      <th>svc_GRDA</th>\n",
       "      <th>svc_LPD</th>\n",
       "      <th>svc_LRDA</th>\n",
       "      <th>svc_Other</th>\n",
       "      <th>svc_Seizure</th>\n",
       "      <th>knn_GPD</th>\n",
       "      <th>knn_GRDA</th>\n",
       "      <th>knn_LPD</th>\n",
       "      <th>knn_LRDA</th>\n",
       "      <th>knn_Other</th>\n",
       "      <th>knn_Seizure</th>\n",
       "      <th>KMeans</th>\n",
       "      <th>Ward</th>\n",
       "    </tr>\n",
       "  </thead>\n",
       "  <tbody>\n",
       "    <tr>\n",
       "      <th>0</th>\n",
       "      <td>0</td>\n",
       "      <td>0</td>\n",
       "      <td>1</td>\n",
       "      <td>0</td>\n",
       "      <td>0</td>\n",
       "      <td>0</td>\n",
       "      <td>0</td>\n",
       "      <td>0</td>\n",
       "      <td>0</td>\n",
       "      <td>1</td>\n",
       "      <td>0</td>\n",
       "      <td>0</td>\n",
       "      <td>0</td>\n",
       "      <td>0</td>\n",
       "      <td>1</td>\n",
       "      <td>0</td>\n",
       "      <td>0</td>\n",
       "      <td>0</td>\n",
       "      <td>1</td>\n",
       "      <td>8</td>\n",
       "    </tr>\n",
       "    <tr>\n",
       "      <th>1</th>\n",
       "      <td>0</td>\n",
       "      <td>0</td>\n",
       "      <td>1</td>\n",
       "      <td>0</td>\n",
       "      <td>0</td>\n",
       "      <td>0</td>\n",
       "      <td>0</td>\n",
       "      <td>0</td>\n",
       "      <td>1</td>\n",
       "      <td>0</td>\n",
       "      <td>0</td>\n",
       "      <td>0</td>\n",
       "      <td>0</td>\n",
       "      <td>0</td>\n",
       "      <td>0</td>\n",
       "      <td>1</td>\n",
       "      <td>0</td>\n",
       "      <td>0</td>\n",
       "      <td>1</td>\n",
       "      <td>0</td>\n",
       "    </tr>\n",
       "    <tr>\n",
       "      <th>2</th>\n",
       "      <td>0</td>\n",
       "      <td>0</td>\n",
       "      <td>0</td>\n",
       "      <td>0</td>\n",
       "      <td>0</td>\n",
       "      <td>1</td>\n",
       "      <td>0</td>\n",
       "      <td>0</td>\n",
       "      <td>0</td>\n",
       "      <td>1</td>\n",
       "      <td>0</td>\n",
       "      <td>0</td>\n",
       "      <td>0</td>\n",
       "      <td>1</td>\n",
       "      <td>0</td>\n",
       "      <td>0</td>\n",
       "      <td>0</td>\n",
       "      <td>0</td>\n",
       "      <td>0</td>\n",
       "      <td>5</td>\n",
       "    </tr>\n",
       "    <tr>\n",
       "      <th>3</th>\n",
       "      <td>0</td>\n",
       "      <td>1</td>\n",
       "      <td>0</td>\n",
       "      <td>0</td>\n",
       "      <td>0</td>\n",
       "      <td>0</td>\n",
       "      <td>0</td>\n",
       "      <td>1</td>\n",
       "      <td>0</td>\n",
       "      <td>0</td>\n",
       "      <td>0</td>\n",
       "      <td>0</td>\n",
       "      <td>0</td>\n",
       "      <td>1</td>\n",
       "      <td>0</td>\n",
       "      <td>0</td>\n",
       "      <td>0</td>\n",
       "      <td>0</td>\n",
       "      <td>4</td>\n",
       "      <td>7</td>\n",
       "    </tr>\n",
       "    <tr>\n",
       "      <th>4</th>\n",
       "      <td>0</td>\n",
       "      <td>1</td>\n",
       "      <td>0</td>\n",
       "      <td>0</td>\n",
       "      <td>0</td>\n",
       "      <td>0</td>\n",
       "      <td>0</td>\n",
       "      <td>0</td>\n",
       "      <td>0</td>\n",
       "      <td>0</td>\n",
       "      <td>1</td>\n",
       "      <td>0</td>\n",
       "      <td>0</td>\n",
       "      <td>1</td>\n",
       "      <td>0</td>\n",
       "      <td>0</td>\n",
       "      <td>0</td>\n",
       "      <td>0</td>\n",
       "      <td>4</td>\n",
       "      <td>2</td>\n",
       "    </tr>\n",
       "    <tr>\n",
       "      <th>...</th>\n",
       "      <td>...</td>\n",
       "      <td>...</td>\n",
       "      <td>...</td>\n",
       "      <td>...</td>\n",
       "      <td>...</td>\n",
       "      <td>...</td>\n",
       "      <td>...</td>\n",
       "      <td>...</td>\n",
       "      <td>...</td>\n",
       "      <td>...</td>\n",
       "      <td>...</td>\n",
       "      <td>...</td>\n",
       "      <td>...</td>\n",
       "      <td>...</td>\n",
       "      <td>...</td>\n",
       "      <td>...</td>\n",
       "      <td>...</td>\n",
       "      <td>...</td>\n",
       "      <td>...</td>\n",
       "      <td>...</td>\n",
       "    </tr>\n",
       "    <tr>\n",
       "      <th>2395</th>\n",
       "      <td>0</td>\n",
       "      <td>0</td>\n",
       "      <td>0</td>\n",
       "      <td>0</td>\n",
       "      <td>1</td>\n",
       "      <td>0</td>\n",
       "      <td>0</td>\n",
       "      <td>0</td>\n",
       "      <td>0</td>\n",
       "      <td>0</td>\n",
       "      <td>1</td>\n",
       "      <td>0</td>\n",
       "      <td>0</td>\n",
       "      <td>0</td>\n",
       "      <td>0</td>\n",
       "      <td>0</td>\n",
       "      <td>1</td>\n",
       "      <td>0</td>\n",
       "      <td>5</td>\n",
       "      <td>2</td>\n",
       "    </tr>\n",
       "    <tr>\n",
       "      <th>2396</th>\n",
       "      <td>0</td>\n",
       "      <td>0</td>\n",
       "      <td>0</td>\n",
       "      <td>1</td>\n",
       "      <td>0</td>\n",
       "      <td>0</td>\n",
       "      <td>0</td>\n",
       "      <td>0</td>\n",
       "      <td>0</td>\n",
       "      <td>1</td>\n",
       "      <td>0</td>\n",
       "      <td>0</td>\n",
       "      <td>0</td>\n",
       "      <td>0</td>\n",
       "      <td>0</td>\n",
       "      <td>1</td>\n",
       "      <td>0</td>\n",
       "      <td>0</td>\n",
       "      <td>3</td>\n",
       "      <td>1</td>\n",
       "    </tr>\n",
       "    <tr>\n",
       "      <th>2397</th>\n",
       "      <td>1</td>\n",
       "      <td>0</td>\n",
       "      <td>0</td>\n",
       "      <td>0</td>\n",
       "      <td>0</td>\n",
       "      <td>0</td>\n",
       "      <td>1</td>\n",
       "      <td>0</td>\n",
       "      <td>0</td>\n",
       "      <td>0</td>\n",
       "      <td>0</td>\n",
       "      <td>0</td>\n",
       "      <td>1</td>\n",
       "      <td>0</td>\n",
       "      <td>0</td>\n",
       "      <td>0</td>\n",
       "      <td>0</td>\n",
       "      <td>0</td>\n",
       "      <td>2</td>\n",
       "      <td>10</td>\n",
       "    </tr>\n",
       "    <tr>\n",
       "      <th>2398</th>\n",
       "      <td>0</td>\n",
       "      <td>0</td>\n",
       "      <td>0</td>\n",
       "      <td>0</td>\n",
       "      <td>1</td>\n",
       "      <td>0</td>\n",
       "      <td>0</td>\n",
       "      <td>0</td>\n",
       "      <td>0</td>\n",
       "      <td>0</td>\n",
       "      <td>1</td>\n",
       "      <td>0</td>\n",
       "      <td>0</td>\n",
       "      <td>0</td>\n",
       "      <td>0</td>\n",
       "      <td>0</td>\n",
       "      <td>1</td>\n",
       "      <td>0</td>\n",
       "      <td>5</td>\n",
       "      <td>2</td>\n",
       "    </tr>\n",
       "    <tr>\n",
       "      <th>2399</th>\n",
       "      <td>1</td>\n",
       "      <td>0</td>\n",
       "      <td>0</td>\n",
       "      <td>0</td>\n",
       "      <td>0</td>\n",
       "      <td>0</td>\n",
       "      <td>1</td>\n",
       "      <td>0</td>\n",
       "      <td>0</td>\n",
       "      <td>0</td>\n",
       "      <td>0</td>\n",
       "      <td>0</td>\n",
       "      <td>1</td>\n",
       "      <td>0</td>\n",
       "      <td>0</td>\n",
       "      <td>0</td>\n",
       "      <td>0</td>\n",
       "      <td>0</td>\n",
       "      <td>2</td>\n",
       "      <td>10</td>\n",
       "    </tr>\n",
       "  </tbody>\n",
       "</table>\n",
       "<p>2400 rows × 20 columns</p>\n",
       "</div>"
      ],
      "text/plain": [
       "      xgb_GPD  xgb_GRDA  xgb_LPD  xgb_LRDA  xgb_Other  xgb_Seizure  svc_GPD  \\\n",
       "0           0         0        1         0          0            0        0   \n",
       "1           0         0        1         0          0            0        0   \n",
       "2           0         0        0         0          0            1        0   \n",
       "3           0         1        0         0          0            0        0   \n",
       "4           0         1        0         0          0            0        0   \n",
       "...       ...       ...      ...       ...        ...          ...      ...   \n",
       "2395        0         0        0         0          1            0        0   \n",
       "2396        0         0        0         1          0            0        0   \n",
       "2397        1         0        0         0          0            0        1   \n",
       "2398        0         0        0         0          1            0        0   \n",
       "2399        1         0        0         0          0            0        1   \n",
       "\n",
       "      svc_GRDA  svc_LPD  svc_LRDA  svc_Other  svc_Seizure  knn_GPD  knn_GRDA  \\\n",
       "0            0        0         1          0            0        0         0   \n",
       "1            0        1         0          0            0        0         0   \n",
       "2            0        0         1          0            0        0         1   \n",
       "3            1        0         0          0            0        0         1   \n",
       "4            0        0         0          1            0        0         1   \n",
       "...        ...      ...       ...        ...          ...      ...       ...   \n",
       "2395         0        0         0          1            0        0         0   \n",
       "2396         0        0         1          0            0        0         0   \n",
       "2397         0        0         0          0            0        1         0   \n",
       "2398         0        0         0          1            0        0         0   \n",
       "2399         0        0         0          0            0        1         0   \n",
       "\n",
       "      knn_LPD  knn_LRDA  knn_Other  knn_Seizure  KMeans  Ward  \n",
       "0           1         0          0            0       1     8  \n",
       "1           0         1          0            0       1     0  \n",
       "2           0         0          0            0       0     5  \n",
       "3           0         0          0            0       4     7  \n",
       "4           0         0          0            0       4     2  \n",
       "...       ...       ...        ...          ...     ...   ...  \n",
       "2395        0         0          1            0       5     2  \n",
       "2396        0         1          0            0       3     1  \n",
       "2397        0         0          0            0       2    10  \n",
       "2398        0         0          1            0       5     2  \n",
       "2399        0         0          0            0       2    10  \n",
       "\n",
       "[2400 rows x 20 columns]"
      ]
     },
     "execution_count": 63,
     "metadata": {},
     "output_type": "execute_result"
    }
   ],
   "source": [
    "X_val_meta_3"
   ]
  },
  {
   "cell_type": "markdown",
   "id": "243eb1bf",
   "metadata": {},
   "source": [
    "### KernelPCA Attempt"
   ]
  },
  {
   "cell_type": "code",
   "execution_count": 51,
   "id": "7ec9450a",
   "metadata": {},
   "outputs": [],
   "source": [
    "from sklearn.decomposition import KernelPCA"
   ]
  },
  {
   "cell_type": "code",
   "execution_count": 54,
   "id": "e824f476",
   "metadata": {},
   "outputs": [],
   "source": [
    "kpca = KernelPCA(n_components = 40)\n",
    "X_kpca = kpca.fit_transform(X)\n",
    "\n",
    "X_train, X_test, y_train, y_test = train_test_split(X_kpca, y, test_size = 0.1, random_state = 42)"
   ]
  },
  {
   "cell_type": "markdown",
   "id": "fc403bce",
   "metadata": {},
   "source": [
    "### Notes on Results Below  \n",
    "  \n",
    "The results for KernelPCA are equivalent to the results with PCA."
   ]
  },
  {
   "cell_type": "code",
   "execution_count": 56,
   "id": "72225b25",
   "metadata": {},
   "outputs": [
    {
     "name": "stdout",
     "output_type": "stream",
     "text": [
      "KPCA Training\n",
      "              precision    recall  f1-score   support\n",
      "\n",
      "         GPD       0.86      0.97      0.91      1794\n",
      "        GRDA       0.85      0.92      0.89      1819\n",
      "         LPD       0.84      0.93      0.88      1800\n",
      "        LRDA       0.91      0.94      0.93      1795\n",
      "       Other       0.91      0.71      0.80      1808\n",
      "     Seizure       0.93      0.81      0.86      1784\n",
      "\n",
      "    accuracy                           0.88     10800\n",
      "   macro avg       0.88      0.88      0.88     10800\n",
      "weighted avg       0.88      0.88      0.88     10800\n",
      "\n",
      "KPCA Testing\n",
      "              precision    recall  f1-score   support\n",
      "\n",
      "         GPD       0.80      0.92      0.85       206\n",
      "        GRDA       0.68      0.84      0.75       181\n",
      "         LPD       0.73      0.82      0.77       200\n",
      "        LRDA       0.81      0.82      0.82       205\n",
      "       Other       0.67      0.45      0.54       192\n",
      "     Seizure       0.81      0.66      0.73       216\n",
      "\n",
      "    accuracy                           0.75      1200\n",
      "   macro avg       0.75      0.75      0.74      1200\n",
      "weighted avg       0.75      0.75      0.75      1200\n",
      "\n"
     ]
    }
   ],
   "source": [
    "knn = KNeighborsClassifier(n_neighbors = 3)\n",
    "knn.fit(X_train, y_train)\n",
    "training_yhat = knn.predict(X_train)\n",
    "testing_yhat = knn.predict(X_test)\n",
    "print('KPCA Training')\n",
    "print(classification_report(y_train, training_yhat))\n",
    "print('KPCA Testing')\n",
    "print(classification_report(y_test, testing_yhat))"
   ]
  },
  {
   "cell_type": "code",
   "execution_count": 60,
   "id": "2acb0261",
   "metadata": {},
   "outputs": [],
   "source": [
    "from sklearn.metrics import multilabel_confusion_matrix, ConfusionMatrixDisplay"
   ]
  },
  {
   "cell_type": "code",
   "execution_count": 61,
   "id": "9b01cae5",
   "metadata": {},
   "outputs": [
    {
     "name": "stdout",
     "output_type": "stream",
     "text": [
      "Help on function multilabel_confusion_matrix in module sklearn.metrics._classification:\n",
      "\n",
      "multilabel_confusion_matrix(y_true, y_pred, *, sample_weight=None, labels=None, samplewise=False)\n",
      "    Compute a confusion matrix for each class or sample.\n",
      "    \n",
      "    .. versionadded:: 0.21\n",
      "    \n",
      "    Compute class-wise (default) or sample-wise (samplewise=True) multilabel\n",
      "    confusion matrix to evaluate the accuracy of a classification, and output\n",
      "    confusion matrices for each class or sample.\n",
      "    \n",
      "    In multilabel confusion matrix :math:`MCM`, the count of true negatives\n",
      "    is :math:`MCM_{:,0,0}`, false negatives is :math:`MCM_{:,1,0}`,\n",
      "    true positives is :math:`MCM_{:,1,1}` and false positives is\n",
      "    :math:`MCM_{:,0,1}`.\n",
      "    \n",
      "    Multiclass data will be treated as if binarized under a one-vs-rest\n",
      "    transformation. Returned confusion matrices will be in the order of\n",
      "    sorted unique labels in the union of (y_true, y_pred).\n",
      "    \n",
      "    Read more in the :ref:`User Guide <multilabel_confusion_matrix>`.\n",
      "    \n",
      "    Parameters\n",
      "    ----------\n",
      "    y_true : {array-like, sparse matrix} of shape (n_samples, n_outputs) or             (n_samples,)\n",
      "        Ground truth (correct) target values.\n",
      "    \n",
      "    y_pred : {array-like, sparse matrix} of shape (n_samples, n_outputs) or             (n_samples,)\n",
      "        Estimated targets as returned by a classifier.\n",
      "    \n",
      "    sample_weight : array-like of shape (n_samples,), default=None\n",
      "        Sample weights.\n",
      "    \n",
      "    labels : array-like of shape (n_classes,), default=None\n",
      "        A list of classes or column indices to select some (or to force\n",
      "        inclusion of classes absent from the data).\n",
      "    \n",
      "    samplewise : bool, default=False\n",
      "        In the multilabel case, this calculates a confusion matrix per sample.\n",
      "    \n",
      "    Returns\n",
      "    -------\n",
      "    multi_confusion : ndarray of shape (n_outputs, 2, 2)\n",
      "        A 2x2 confusion matrix corresponding to each output in the input.\n",
      "        When calculating class-wise multi_confusion (default), then\n",
      "        n_outputs = n_labels; when calculating sample-wise multi_confusion\n",
      "        (samplewise=True), n_outputs = n_samples. If ``labels`` is defined,\n",
      "        the results will be returned in the order specified in ``labels``,\n",
      "        otherwise the results will be returned in sorted order by default.\n",
      "    \n",
      "    See Also\n",
      "    --------\n",
      "    confusion_matrix : Compute confusion matrix to evaluate the accuracy of a\n",
      "        classifier.\n",
      "    \n",
      "    Notes\n",
      "    -----\n",
      "    The `multilabel_confusion_matrix` calculates class-wise or sample-wise\n",
      "    multilabel confusion matrices, and in multiclass tasks, labels are\n",
      "    binarized under a one-vs-rest way; while\n",
      "    :func:`~sklearn.metrics.confusion_matrix` calculates one confusion matrix\n",
      "    for confusion between every two classes.\n",
      "    \n",
      "    Examples\n",
      "    --------\n",
      "    Multilabel-indicator case:\n",
      "    \n",
      "    >>> import numpy as np\n",
      "    >>> from sklearn.metrics import multilabel_confusion_matrix\n",
      "    >>> y_true = np.array([[1, 0, 1],\n",
      "    ...                    [0, 1, 0]])\n",
      "    >>> y_pred = np.array([[1, 0, 0],\n",
      "    ...                    [0, 1, 1]])\n",
      "    >>> multilabel_confusion_matrix(y_true, y_pred)\n",
      "    array([[[1, 0],\n",
      "            [0, 1]],\n",
      "    <BLANKLINE>\n",
      "           [[1, 0],\n",
      "            [0, 1]],\n",
      "    <BLANKLINE>\n",
      "           [[0, 1],\n",
      "            [1, 0]]])\n",
      "    \n",
      "    Multiclass case:\n",
      "    \n",
      "    >>> y_true = [\"cat\", \"ant\", \"cat\", \"cat\", \"ant\", \"bird\"]\n",
      "    >>> y_pred = [\"ant\", \"ant\", \"cat\", \"cat\", \"ant\", \"cat\"]\n",
      "    >>> multilabel_confusion_matrix(y_true, y_pred,\n",
      "    ...                             labels=[\"ant\", \"bird\", \"cat\"])\n",
      "    array([[[3, 1],\n",
      "            [0, 2]],\n",
      "    <BLANKLINE>\n",
      "           [[5, 0],\n",
      "            [1, 0]],\n",
      "    <BLANKLINE>\n",
      "           [[2, 1],\n",
      "            [1, 2]]])\n",
      "\n"
     ]
    }
   ],
   "source": [
    "help(multilabel_confusion_matrix)"
   ]
  },
  {
   "cell_type": "code",
   "execution_count": 62,
   "id": "ec49c793",
   "metadata": {},
   "outputs": [],
   "source": [
    "matrices = multilabel_confusion_matrix(y_test, testing_yhat)"
   ]
  },
  {
   "cell_type": "code",
   "execution_count": 63,
   "id": "288e4a13",
   "metadata": {},
   "outputs": [],
   "source": [
    "disp = ConfusionMatrixDisplay(matrices[0])"
   ]
  },
  {
   "cell_type": "code",
   "execution_count": 65,
   "id": "45be322c",
   "metadata": {},
   "outputs": [
    {
     "data": {
      "image/png": "[encoded data removed]",
      "text/plain": [
       "<Figure size 432x288 with 2 Axes>"
      ]
     },
     "metadata": {
      "needs_background": "light"
     },
     "output_type": "display_data"
    }
   ],
   "source": [
    "disp.plot()\n",
    "plt.tight_layout()\n",
    "plt.show()"
   ]
  },
  {
   "cell_type": "markdown",
   "id": "a1ec8c1b",
   "metadata": {},
   "source": [
    "### Stacking w/ RNN  \n",
    "  \n",
    "I think I'm going to talk about this as an idea for future work building off of the initial results shown above rather than actually trying to build an RNN due to time constraints. I'm not experienced enough with building neural networks and I still need to get the CNN model working, but I do find the resolution of the overfitting problem I've had via stacking significant, so I want to discuss it during my presentation and then talk about what I could do to improve these results in the future work section."
   ]
  },
  {
   "cell_type": "code",
   "execution_count": null,
   "id": "dfd26e07",
   "metadata": {},
   "outputs": [],
   "source": []
  }
 ],
 "metadata": {
  "kernelspec": {
   "display_name": "Python 3 (ipykernel)",
   "language": "python",
   "name": "python3"
  },
  "language_info": {
   "codemirror_mode": {
    "name": "ipython",
    "version": 3
   },
   "file_extension": ".py",
   "mimetype": "text/x-python",
   "name": "python",
   "nbconvert_exporter": "python",
   "pygments_lexer": "ipython3",
   "version": "3.8.10"
  }
 },
 "nbformat": 4,
 "nbformat_minor": 5
}
