{
 "cells": [
  {
   "cell_type": "markdown",
   "id": "28a7eed9",
   "metadata": {},
   "source": [
    "### Decision Tree Base Model Hypertuning  \n",
    "  \n",
    "The decision tree base model was overfitting, so this notebook is for resolving that."
   ]
  },
  {
   "cell_type": "code",
   "execution_count": 25,
   "id": "7d211e69",
   "metadata": {},
   "outputs": [],
   "source": [
    "import numpy as np\n",
    "import pandas as pd\n",
    "import matplotlib.pyplot as plt\n",
    "from sklearn.model_selection import train_test_split\n",
    "from sklearn.tree import DecisionTreeClassifier\n",
    "from sklearn.metrics import classification_report, accuracy_score, f1_score"
   ]
  },
  {
   "cell_type": "code",
   "execution_count": 26,
   "id": "2321b5d7",
   "metadata": {},
   "outputs": [],
   "source": [
    "df = pd.read_csv('base_band_dataset.csv')"
   ]
  },
  {
   "cell_type": "code",
   "execution_count": 27,
   "id": "20cdb15e",
   "metadata": {},
   "outputs": [],
   "source": [
    "depths = [(i + 1) * 5 for i in range(10)]"
   ]
  },
  {
   "cell_type": "code",
   "execution_count": 28,
   "id": "4b0ab74d",
   "metadata": {},
   "outputs": [],
   "source": [
    "X = df.drop(columns = 'activity')\n",
    "y = df['activity']"
   ]
  },
  {
   "cell_type": "code",
   "execution_count": 29,
   "id": "0f1e36b1",
   "metadata": {},
   "outputs": [],
   "source": [
    "X_train, X_test, y_train, y_test = train_test_split(X, y, test_size = 0.3, random_state = 42)"
   ]
  },
  {
   "cell_type": "code",
   "execution_count": 30,
   "id": "52902fa3",
   "metadata": {},
   "outputs": [],
   "source": [
    "accuracies, f1_scores = [], []\n",
    "test_accs, test_f1_scores = [], []\n",
    "f1_activity = []\n",
    "for d in depths:\n",
    "    tree = DecisionTreeClassifier(max_depth = d)\n",
    "    tree.fit(X_train, y_train)\n",
    "    yhat1 = tree.predict(X_train)\n",
    "    yhat2 = tree.predict(X_test)\n",
    "    accuracies.append(accuracy_score(y_train, yhat1))\n",
    "    f1_scores.append(f1_score(y_train, yhat1, average = 'macro'))\n",
    "    test_accs.append(accuracy_score(y_test, yhat2))\n",
    "    test_f1_scores.append(f1_score(y_test, yhat2, average = 'macro'))\n",
    "    f1_activity.append(f1_score(y_test, yhat2, average = None))"
   ]
  },
  {
   "cell_type": "code",
   "execution_count": 31,
   "id": "11728982",
   "metadata": {},
   "outputs": [
    {
     "data": {
      "text/html": [
       "<div>\n",
       "<style scoped>\n",
       "    .dataframe tbody tr th:only-of-type {\n",
       "        vertical-align: middle;\n",
       "    }\n",
       "\n",
       "    .dataframe tbody tr th {\n",
       "        vertical-align: top;\n",
       "    }\n",
       "\n",
       "    .dataframe thead th {\n",
       "        text-align: right;\n",
       "    }\n",
       "</style>\n",
       "<table border=\"1\" class=\"dataframe\">\n",
       "  <thead>\n",
       "    <tr style=\"text-align: right;\">\n",
       "      <th></th>\n",
       "      <th>5</th>\n",
       "      <th>10</th>\n",
       "      <th>15</th>\n",
       "      <th>20</th>\n",
       "      <th>25</th>\n",
       "      <th>30</th>\n",
       "      <th>35</th>\n",
       "      <th>40</th>\n",
       "      <th>45</th>\n",
       "      <th>50</th>\n",
       "    </tr>\n",
       "  </thead>\n",
       "  <tbody>\n",
       "    <tr>\n",
       "      <th>GPD</th>\n",
       "      <td>0.559091</td>\n",
       "      <td>0.609700</td>\n",
       "      <td>0.637681</td>\n",
       "      <td>0.621514</td>\n",
       "      <td>0.617530</td>\n",
       "      <td>0.624746</td>\n",
       "      <td>0.608350</td>\n",
       "      <td>0.623016</td>\n",
       "      <td>0.632207</td>\n",
       "      <td>0.620690</td>\n",
       "    </tr>\n",
       "    <tr>\n",
       "      <th>GRDA</th>\n",
       "      <td>0.439955</td>\n",
       "      <td>0.433083</td>\n",
       "      <td>0.455652</td>\n",
       "      <td>0.465116</td>\n",
       "      <td>0.468240</td>\n",
       "      <td>0.435398</td>\n",
       "      <td>0.473881</td>\n",
       "      <td>0.470588</td>\n",
       "      <td>0.466055</td>\n",
       "      <td>0.468240</td>\n",
       "    </tr>\n",
       "    <tr>\n",
       "      <th>LPD</th>\n",
       "      <td>0.423792</td>\n",
       "      <td>0.422857</td>\n",
       "      <td>0.462475</td>\n",
       "      <td>0.474308</td>\n",
       "      <td>0.475442</td>\n",
       "      <td>0.463074</td>\n",
       "      <td>0.454012</td>\n",
       "      <td>0.459082</td>\n",
       "      <td>0.456349</td>\n",
       "      <td>0.452906</td>\n",
       "    </tr>\n",
       "    <tr>\n",
       "      <th>LRDA</th>\n",
       "      <td>0.183007</td>\n",
       "      <td>0.422145</td>\n",
       "      <td>0.506931</td>\n",
       "      <td>0.553459</td>\n",
       "      <td>0.524793</td>\n",
       "      <td>0.524390</td>\n",
       "      <td>0.534161</td>\n",
       "      <td>0.520833</td>\n",
       "      <td>0.532000</td>\n",
       "      <td>0.545833</td>\n",
       "    </tr>\n",
       "    <tr>\n",
       "      <th>Other</th>\n",
       "      <td>0.311111</td>\n",
       "      <td>0.263636</td>\n",
       "      <td>0.297398</td>\n",
       "      <td>0.304511</td>\n",
       "      <td>0.335821</td>\n",
       "      <td>0.291115</td>\n",
       "      <td>0.326531</td>\n",
       "      <td>0.333333</td>\n",
       "      <td>0.323587</td>\n",
       "      <td>0.324022</td>\n",
       "    </tr>\n",
       "    <tr>\n",
       "      <th>Seizure</th>\n",
       "      <td>0.297436</td>\n",
       "      <td>0.353222</td>\n",
       "      <td>0.386266</td>\n",
       "      <td>0.376033</td>\n",
       "      <td>0.389121</td>\n",
       "      <td>0.387500</td>\n",
       "      <td>0.409836</td>\n",
       "      <td>0.416667</td>\n",
       "      <td>0.395960</td>\n",
       "      <td>0.364000</td>\n",
       "    </tr>\n",
       "  </tbody>\n",
       "</table>\n",
       "</div>"
      ],
      "text/plain": [
       "               5         10        15        20        25        30        35  \\\n",
       "GPD      0.559091  0.609700  0.637681  0.621514  0.617530  0.624746  0.608350   \n",
       "GRDA     0.439955  0.433083  0.455652  0.465116  0.468240  0.435398  0.473881   \n",
       "LPD      0.423792  0.422857  0.462475  0.474308  0.475442  0.463074  0.454012   \n",
       "LRDA     0.183007  0.422145  0.506931  0.553459  0.524793  0.524390  0.534161   \n",
       "Other    0.311111  0.263636  0.297398  0.304511  0.335821  0.291115  0.326531   \n",
       "Seizure  0.297436  0.353222  0.386266  0.376033  0.389121  0.387500  0.409836   \n",
       "\n",
       "               40        45        50  \n",
       "GPD      0.623016  0.632207  0.620690  \n",
       "GRDA     0.470588  0.466055  0.468240  \n",
       "LPD      0.459082  0.456349  0.452906  \n",
       "LRDA     0.520833  0.532000  0.545833  \n",
       "Other    0.333333  0.323587  0.324022  \n",
       "Seizure  0.416667  0.395960  0.364000  "
      ]
     },
     "execution_count": 31,
     "metadata": {},
     "output_type": "execute_result"
    }
   ],
   "source": [
    "pd.DataFrame(f1_activity, index = depths, columns = np.unique(df['activity'])).transpose()"
   ]
  },
  {
   "cell_type": "code",
   "execution_count": 33,
   "id": "a43a0bf0",
   "metadata": {},
   "outputs": [
    {
     "data": {
      "image/png": "[encoded data removed]",
      "text/plain": [
       "<Figure size 432x288 with 1 Axes>"
      ]
     },
     "metadata": {
      "needs_background": "light"
     },
     "output_type": "display_data"
    }
   ],
   "source": [
    "X_axis = np.arange(len(depths))\n",
    "\n",
    "plt.bar(X_axis - 0.2, accuracies, 0.4, label = 'Training', color = 'lightgreen') \n",
    "plt.bar(X_axis + 0.2, test_accs, 0.4, label = 'Testing', color = 'skyblue') \n",
    "  \n",
    "plt.xticks(X_axis, depths)\n",
    "plt.xlabel('Max Depth') \n",
    "plt.ylabel('Accuracy') \n",
    "plt.title('Training vs. Testing Accuracy by Max Depth')\n",
    "plt.legend(bbox_to_anchor = [1, 1], loc = 'upper left') \n",
    "plt.show()"
   ]
  },
  {
   "cell_type": "code",
   "execution_count": 34,
   "id": "5ae713e7",
   "metadata": {},
   "outputs": [
    {
     "data": {
      "image/png": "[encoded data removed]",
      "text/plain": [
       "<Figure size 432x288 with 1 Axes>"
      ]
     },
     "metadata": {
      "needs_background": "light"
     },
     "output_type": "display_data"
    }
   ],
   "source": [
    "X_axis = np.arange(len(depths))\n",
    "\n",
    "plt.bar(X_axis - 0.2, f1_scores, 0.4, label = 'Training', color = 'lightgreen') \n",
    "plt.bar(X_axis + 0.2, test_f1_scores, 0.4, label = 'Testing', color = 'skyblue') \n",
    "  \n",
    "plt.xticks(X_axis, depths)\n",
    "plt.xlabel('Max Depth') \n",
    "plt.ylabel('Macro Average F1 Score') \n",
    "plt.title('Training vs. Testing F1 Score by Max Depth')\n",
    "plt.legend(bbox_to_anchor = [1, 1], loc = 'upper left') \n",
    "plt.show()"
   ]
  },
  {
   "cell_type": "code",
   "execution_count": 35,
   "id": "a2f42ba1",
   "metadata": {},
   "outputs": [],
   "source": [
    "depths = [i for i in range(5, 16)]\n",
    "accuracies, f1_scores = [], []\n",
    "test_accs, test_f1_scores = [], []\n",
    "f1_by_activity = []\n",
    "for d in depths:\n",
    "    tree = DecisionTreeClassifier(max_depth = d)\n",
    "    tree.fit(X_train, y_train)\n",
    "    yhat1 = tree.predict(X_train)\n",
    "    yhat2 = tree.predict(X_test)\n",
    "    accuracies.append(accuracy_score(y_train, yhat1))\n",
    "    f1_scores.append(f1_score(y_train, yhat1, average = 'macro'))\n",
    "    test_accs.append(accuracy_score(y_test, yhat2))\n",
    "    test_f1_scores.append(f1_score(y_test, yhat2, average = 'macro'))\n",
    "    f1_by_activity.append(f1_score(y_test, yhat2, average = None))"
   ]
  },
  {
   "cell_type": "code",
   "execution_count": 36,
   "id": "4a80e8c0",
   "metadata": {},
   "outputs": [
    {
     "data": {
      "text/html": [
       "<div>\n",
       "<style scoped>\n",
       "    .dataframe tbody tr th:only-of-type {\n",
       "        vertical-align: middle;\n",
       "    }\n",
       "\n",
       "    .dataframe tbody tr th {\n",
       "        vertical-align: top;\n",
       "    }\n",
       "\n",
       "    .dataframe thead th {\n",
       "        text-align: right;\n",
       "    }\n",
       "</style>\n",
       "<table border=\"1\" class=\"dataframe\">\n",
       "  <thead>\n",
       "    <tr style=\"text-align: right;\">\n",
       "      <th></th>\n",
       "      <th>5</th>\n",
       "      <th>6</th>\n",
       "      <th>7</th>\n",
       "      <th>8</th>\n",
       "      <th>9</th>\n",
       "      <th>10</th>\n",
       "      <th>11</th>\n",
       "      <th>12</th>\n",
       "      <th>13</th>\n",
       "      <th>14</th>\n",
       "      <th>15</th>\n",
       "    </tr>\n",
       "  </thead>\n",
       "  <tbody>\n",
       "    <tr>\n",
       "      <th>GPD</th>\n",
       "      <td>0.555809</td>\n",
       "      <td>0.585956</td>\n",
       "      <td>0.604651</td>\n",
       "      <td>0.600473</td>\n",
       "      <td>0.610860</td>\n",
       "      <td>0.611872</td>\n",
       "      <td>0.612335</td>\n",
       "      <td>0.569672</td>\n",
       "      <td>0.582121</td>\n",
       "      <td>0.607438</td>\n",
       "      <td>0.585366</td>\n",
       "    </tr>\n",
       "    <tr>\n",
       "      <th>GRDA</th>\n",
       "      <td>0.439955</td>\n",
       "      <td>0.448060</td>\n",
       "      <td>0.446970</td>\n",
       "      <td>0.399317</td>\n",
       "      <td>0.447326</td>\n",
       "      <td>0.436472</td>\n",
       "      <td>0.452489</td>\n",
       "      <td>0.451510</td>\n",
       "      <td>0.456086</td>\n",
       "      <td>0.426446</td>\n",
       "      <td>0.472028</td>\n",
       "    </tr>\n",
       "    <tr>\n",
       "      <th>LPD</th>\n",
       "      <td>0.423792</td>\n",
       "      <td>0.433145</td>\n",
       "      <td>0.438017</td>\n",
       "      <td>0.420408</td>\n",
       "      <td>0.413646</td>\n",
       "      <td>0.416667</td>\n",
       "      <td>0.431138</td>\n",
       "      <td>0.418868</td>\n",
       "      <td>0.438662</td>\n",
       "      <td>0.456075</td>\n",
       "      <td>0.454183</td>\n",
       "    </tr>\n",
       "    <tr>\n",
       "      <th>LRDA</th>\n",
       "      <td>0.183007</td>\n",
       "      <td>0.273902</td>\n",
       "      <td>0.278689</td>\n",
       "      <td>0.398074</td>\n",
       "      <td>0.428835</td>\n",
       "      <td>0.434629</td>\n",
       "      <td>0.449726</td>\n",
       "      <td>0.477137</td>\n",
       "      <td>0.484716</td>\n",
       "      <td>0.528455</td>\n",
       "      <td>0.500000</td>\n",
       "    </tr>\n",
       "    <tr>\n",
       "      <th>Other</th>\n",
       "      <td>0.311111</td>\n",
       "      <td>0.299180</td>\n",
       "      <td>0.270742</td>\n",
       "      <td>0.261438</td>\n",
       "      <td>0.302583</td>\n",
       "      <td>0.243902</td>\n",
       "      <td>0.240860</td>\n",
       "      <td>0.275269</td>\n",
       "      <td>0.322200</td>\n",
       "      <td>0.304950</td>\n",
       "      <td>0.299810</td>\n",
       "    </tr>\n",
       "    <tr>\n",
       "      <th>Seizure</th>\n",
       "      <td>0.296675</td>\n",
       "      <td>0.330317</td>\n",
       "      <td>0.347170</td>\n",
       "      <td>0.388309</td>\n",
       "      <td>0.383073</td>\n",
       "      <td>0.357843</td>\n",
       "      <td>0.348837</td>\n",
       "      <td>0.355056</td>\n",
       "      <td>0.348235</td>\n",
       "      <td>0.364465</td>\n",
       "      <td>0.364026</td>\n",
       "    </tr>\n",
       "  </tbody>\n",
       "</table>\n",
       "</div>"
      ],
      "text/plain": [
       "               5         6         7         8         9         10        11  \\\n",
       "GPD      0.555809  0.585956  0.604651  0.600473  0.610860  0.611872  0.612335   \n",
       "GRDA     0.439955  0.448060  0.446970  0.399317  0.447326  0.436472  0.452489   \n",
       "LPD      0.423792  0.433145  0.438017  0.420408  0.413646  0.416667  0.431138   \n",
       "LRDA     0.183007  0.273902  0.278689  0.398074  0.428835  0.434629  0.449726   \n",
       "Other    0.311111  0.299180  0.270742  0.261438  0.302583  0.243902  0.240860   \n",
       "Seizure  0.296675  0.330317  0.347170  0.388309  0.383073  0.357843  0.348837   \n",
       "\n",
       "               12        13        14        15  \n",
       "GPD      0.569672  0.582121  0.607438  0.585366  \n",
       "GRDA     0.451510  0.456086  0.426446  0.472028  \n",
       "LPD      0.418868  0.438662  0.456075  0.454183  \n",
       "LRDA     0.477137  0.484716  0.528455  0.500000  \n",
       "Other    0.275269  0.322200  0.304950  0.299810  \n",
       "Seizure  0.355056  0.348235  0.364465  0.364026  "
      ]
     },
     "execution_count": 36,
     "metadata": {},
     "output_type": "execute_result"
    }
   ],
   "source": [
    "pd.DataFrame(f1_by_activity, index = depths, columns = np.unique(df['activity'])).transpose()"
   ]
  },
  {
   "cell_type": "code",
   "execution_count": 37,
   "id": "97594fd4",
   "metadata": {},
   "outputs": [
    {
     "data": {
      "image/png": "[encoded data removed]",
      "text/plain": [
       "<Figure size 432x288 with 1 Axes>"
      ]
     },
     "metadata": {
      "needs_background": "light"
     },
     "output_type": "display_data"
    }
   ],
   "source": [
    "X_axis = np.arange(len(depths))\n",
    "\n",
    "plt.bar(X_axis - 0.2, accuracies, 0.4, label = 'Training', color = 'lightgreen') \n",
    "plt.bar(X_axis + 0.2, test_accs, 0.4, label = 'Testing', color = 'skyblue') \n",
    "  \n",
    "plt.xticks(X_axis, depths)\n",
    "plt.xlabel('Max Depth') \n",
    "plt.ylabel('Accuracy') \n",
    "plt.title('Training vs. Testing Accuracy by Max Depth')\n",
    "plt.legend(bbox_to_anchor = [1, 1], loc = 'upper left') \n",
    "plt.show()"
   ]
  },
  {
   "cell_type": "code",
   "execution_count": 38,
   "id": "ae1a21f6",
   "metadata": {},
   "outputs": [
    {
     "data": {
      "image/png": "[encoded data removed]",
      "text/plain": [
       "<Figure size 432x288 with 1 Axes>"
      ]
     },
     "metadata": {
      "needs_background": "light"
     },
     "output_type": "display_data"
    }
   ],
   "source": [
    "X_axis = np.arange(len(depths))\n",
    "\n",
    "plt.bar(X_axis - 0.2, f1_scores, 0.4, label = 'Training', color = 'lightgreen') \n",
    "plt.bar(X_axis + 0.2, test_f1_scores, 0.4, label = 'Testing', color = 'skyblue') \n",
    "  \n",
    "plt.xticks(X_axis, depths)\n",
    "plt.xlabel('Max Depth') \n",
    "plt.ylabel('Macro Average F1 Score') \n",
    "plt.title('Training vs. Testing F1 Score by Max Depth')\n",
    "plt.legend(bbox_to_anchor = [1, 1], loc = 'upper left') \n",
    "plt.show()"
   ]
  },
  {
   "cell_type": "code",
   "execution_count": null,
   "id": "86f2057d",
   "metadata": {},
   "outputs": [],
   "source": []
  }
 ],
 "metadata": {
  "kernelspec": {
   "display_name": "Python 3 (ipykernel)",
   "language": "python",
   "name": "python3"
  },
  "language_info": {
   "codemirror_mode": {
    "name": "ipython",
    "version": 3
   },
   "file_extension": ".py",
   "mimetype": "text/x-python",
   "name": "python",
   "nbconvert_exporter": "python",
   "pygments_lexer": "ipython3",
   "version": "3.8.10"
  }
 },
 "nbformat": 4,
 "nbformat_minor": 5
}
