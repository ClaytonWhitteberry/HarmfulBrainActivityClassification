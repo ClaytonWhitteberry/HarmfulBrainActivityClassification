{
 "cells": [
  {
   "cell_type": "markdown",
   "id": "3e0272b8",
   "metadata": {},
   "source": [
    "### Making Spectrograms  \n",
    "  \n",
    "Spectrograms will be made from the EEG data rather than using the provided spectrograms and these will be used in a neural network."
   ]
  },
  {
   "cell_type": "code",
   "execution_count": 1,
   "id": "f77bde38",
   "metadata": {},
   "outputs": [],
   "source": [
    "import numpy as np\n",
    "import pandas as pd\n",
    "import matplotlib.pyplot as plt\n",
    "import fastparquet, pyarrow\n",
    "import mne\n",
    "from mne.decoding import Scaler\n",
    "from sklearn.preprocessing import StandardScaler\n",
    "from sklearn.model_selection import train_test_split\n",
    "from sklearn.neighbors import KNeighborsClassifier\n",
    "from sklearn.metrics import classification_report, f1_score, accuracy_score, precision_score, recall_score\n",
    "from utils import *\n",
    "import h5py\n",
    "from scipy.signal import spectrogram"
   ]
  },
  {
   "cell_type": "code",
   "execution_count": 2,
   "id": "93df0685",
   "metadata": {},
   "outputs": [],
   "source": [
    "mne.set_log_level('WARNING')"
   ]
  },
  {
   "cell_type": "code",
   "execution_count": 3,
   "id": "91998143",
   "metadata": {},
   "outputs": [],
   "source": [
    "df = pd.read_csv('by_patient.csv')"
   ]
  },
  {
   "cell_type": "code",
   "execution_count": 4,
   "id": "74ee9eab",
   "metadata": {},
   "outputs": [],
   "source": [
    "random_indexes = pd.read_csv('overall_randoms.csv')['idx']"
   ]
  },
  {
   "cell_type": "code",
   "execution_count": 5,
   "id": "8933b5a4",
   "metadata": {},
   "outputs": [],
   "source": [
    "other_df = activity_df(df, 'Other', 'expert_consensus')\n",
    "seizure_df = activity_df(df, 'Seizure', 'expert_consensus')\n",
    "gpd_df = activity_df(df, 'GPD', 'expert_consensus')\n",
    "lpd_df = activity_df(df, 'LPD', 'expert_consensus')\n",
    "grda_df = activity_df(df, 'GRDA', 'expert_consensus')\n",
    "lrda_df = activity_df(df, 'LRDA', 'expert_consensus')\n",
    "activity_df_list = [other_df, seizure_df, gpd_df, lpd_df, grda_df, lrda_df]"
   ]
  },
  {
   "cell_type": "code",
   "execution_count": 6,
   "id": "ea7d92fa",
   "metadata": {},
   "outputs": [],
   "source": [
    "#other_indexes = get_indexes(other_df, 2000)\n",
    "#seizure_indexes = get_indexes(seizure_df, 2000)\n",
    "#gpd_indexes = get_indexes(gpd_df, 2000)\n",
    "#lpd_indexes = get_indexes(lpd_df, 2000)\n",
    "#grda_indexes = get_indexes(grda_df, 2000)\n",
    "#lrda_indexes = get_indexes(lrda_df, 2000)"
   ]
  },
  {
   "cell_type": "code",
   "execution_count": 7,
   "id": "a2e2369e",
   "metadata": {},
   "outputs": [],
   "source": [
    "#activity_indexes = [other_indexes, seizure_indexes, gpd_indexes, lpd_indexes,\n",
    "#                   grda_indexes, lrda_indexes]"
   ]
  },
  {
   "cell_type": "code",
   "execution_count": 8,
   "id": "5ef486cf",
   "metadata": {},
   "outputs": [],
   "source": [
    "indexes = pd.read_csv('activity_indexes.csv')\n",
    "activity_types = indexes.columns"
   ]
  },
  {
   "cell_type": "code",
   "execution_count": 9,
   "id": "8c0b9417",
   "metadata": {},
   "outputs": [],
   "source": [
    "y = get_yvals(2000)['activity']"
   ]
  },
  {
   "cell_type": "markdown",
   "id": "ff1e349d",
   "metadata": {},
   "source": [
    "### Spectrograms  \n",
    "  \n",
    "I will be using the guide found at the link below.  \n",
    "  \n",
    "[**How To Make Spectrogram from EEG**](https://www.kaggle.com/code/cdeotte/how-to-make-spectrogram-from-eeg#Create-Spectrograms-with-Librosa)"
   ]
  },
  {
   "cell_type": "code",
   "execution_count": 10,
   "id": "17fdb9bf",
   "metadata": {},
   "outputs": [],
   "source": [
    "names = ['LL','LP','RP','RR']\n",
    "\n",
    "chains = [['Fp1','F7','T3','T5','O1'],\n",
    "          ['Fp1','F3','C3','P3','O1'],\n",
    "          ['Fp2','F8','T4','T6','O2'],\n",
    "          ['Fp2','F4','C4','P4','O2']]"
   ]
  },
  {
   "cell_type": "code",
   "execution_count": 11,
   "id": "8847f890",
   "metadata": {},
   "outputs": [],
   "source": [
    "raw = load_preprocess(df, 0, 1, None, bandpass = True, notch = False, reref = True)"
   ]
  },
  {
   "cell_type": "code",
   "execution_count": 10,
   "id": "8e28bf58",
   "metadata": {},
   "outputs": [
    {
     "data": {
      "text/html": [
       "<div>\n",
       "<style scoped>\n",
       "    .dataframe tbody tr th:only-of-type {\n",
       "        vertical-align: middle;\n",
       "    }\n",
       "\n",
       "    .dataframe tbody tr th {\n",
       "        vertical-align: top;\n",
       "    }\n",
       "\n",
       "    .dataframe thead th {\n",
       "        text-align: right;\n",
       "    }\n",
       "</style>\n",
       "<table border=\"1\" class=\"dataframe\">\n",
       "  <thead>\n",
       "    <tr style=\"text-align: right;\">\n",
       "      <th></th>\n",
       "      <th>Fp1</th>\n",
       "      <th>F3</th>\n",
       "      <th>C3</th>\n",
       "      <th>P3</th>\n",
       "      <th>F7</th>\n",
       "      <th>T3</th>\n",
       "      <th>T5</th>\n",
       "      <th>O1</th>\n",
       "      <th>Fz</th>\n",
       "      <th>Cz</th>\n",
       "      <th>Pz</th>\n",
       "      <th>Fp2</th>\n",
       "      <th>F4</th>\n",
       "      <th>C4</th>\n",
       "      <th>P4</th>\n",
       "      <th>F8</th>\n",
       "      <th>T4</th>\n",
       "      <th>T6</th>\n",
       "      <th>O2</th>\n",
       "      <th>EKG</th>\n",
       "    </tr>\n",
       "  </thead>\n",
       "  <tbody>\n",
       "    <tr>\n",
       "      <th>0</th>\n",
       "      <td>6.098923e-17</td>\n",
       "      <td>-6.467780e-16</td>\n",
       "      <td>4.634451e-16</td>\n",
       "      <td>3.663006e-16</td>\n",
       "      <td>-2.581999e-16</td>\n",
       "      <td>1.165004e-16</td>\n",
       "      <td>3.940561e-16</td>\n",
       "      <td>2.830338e-16</td>\n",
       "      <td>-5.843279e-16</td>\n",
       "      <td>1.650726e-16</td>\n",
       "      <td>1.858893e-16</td>\n",
       "      <td>-1.471776e-16</td>\n",
       "      <td>-2.859555e-16</td>\n",
       "      <td>-8.399714e-18</td>\n",
       "      <td>1.511948e-16</td>\n",
       "      <td>-3.692222e-16</td>\n",
       "      <td>-2.165665e-16</td>\n",
       "      <td>2.552783e-16</td>\n",
       "      <td>7.486701e-17</td>\n",
       "      <td>-0.158840</td>\n",
       "    </tr>\n",
       "    <tr>\n",
       "      <th>1</th>\n",
       "      <td>-2.959683e-01</td>\n",
       "      <td>-9.579126e-02</td>\n",
       "      <td>1.826220e-01</td>\n",
       "      <td>-3.186127e-02</td>\n",
       "      <td>-9.071970e-02</td>\n",
       "      <td>-1.548448e-02</td>\n",
       "      <td>8.900903e-02</td>\n",
       "      <td>-1.479428e-02</td>\n",
       "      <td>-1.013828e-03</td>\n",
       "      <td>2.702369e-01</td>\n",
       "      <td>1.466023e-01</td>\n",
       "      <td>-2.878139e-01</td>\n",
       "      <td>5.164124e-02</td>\n",
       "      <td>1.635308e-02</td>\n",
       "      <td>4.239297e-03</td>\n",
       "      <td>7.051307e-03</td>\n",
       "      <td>-2.392405e-03</td>\n",
       "      <td>2.222939e-02</td>\n",
       "      <td>4.585478e-02</td>\n",
       "      <td>-0.093472</td>\n",
       "    </tr>\n",
       "    <tr>\n",
       "      <th>2</th>\n",
       "      <td>2.484796e-01</td>\n",
       "      <td>-6.886530e-02</td>\n",
       "      <td>-2.180245e-01</td>\n",
       "      <td>-1.533436e-01</td>\n",
       "      <td>1.291295e-01</td>\n",
       "      <td>-6.561683e-02</td>\n",
       "      <td>-2.552704e-02</td>\n",
       "      <td>-1.279294e-01</td>\n",
       "      <td>2.107432e-01</td>\n",
       "      <td>-1.611151e-01</td>\n",
       "      <td>-1.125558e-01</td>\n",
       "      <td>2.895415e-01</td>\n",
       "      <td>1.985302e-01</td>\n",
       "      <td>-1.294119e-01</td>\n",
       "      <td>-1.241651e-01</td>\n",
       "      <td>1.394871e-01</td>\n",
       "      <td>-5.330312e-02</td>\n",
       "      <td>-7.436669e-02</td>\n",
       "      <td>9.831327e-02</td>\n",
       "      <td>-0.402844</td>\n",
       "    </tr>\n",
       "    <tr>\n",
       "      <th>3</th>\n",
       "      <td>1.892762e-01</td>\n",
       "      <td>-6.175045e-02</td>\n",
       "      <td>-2.193049e-01</td>\n",
       "      <td>-5.970358e-02</td>\n",
       "      <td>1.484292e-02</td>\n",
       "      <td>1.642986e-02</td>\n",
       "      <td>2.404561e-02</td>\n",
       "      <td>-4.006557e-02</td>\n",
       "      <td>9.141178e-02</td>\n",
       "      <td>-8.545747e-02</td>\n",
       "      <td>-2.030920e-02</td>\n",
       "      <td>2.116358e-01</td>\n",
       "      <td>1.356586e-01</td>\n",
       "      <td>-1.675403e-01</td>\n",
       "      <td>-1.888674e-02</td>\n",
       "      <td>9.272253e-02</td>\n",
       "      <td>-8.818191e-02</td>\n",
       "      <td>-4.212377e-02</td>\n",
       "      <td>2.730053e-02</td>\n",
       "      <td>-0.577511</td>\n",
       "    </tr>\n",
       "    <tr>\n",
       "      <th>4</th>\n",
       "      <td>-3.798687e-01</td>\n",
       "      <td>-3.777700e-02</td>\n",
       "      <td>2.466656e-01</td>\n",
       "      <td>5.541902e-02</td>\n",
       "      <td>-2.322632e-01</td>\n",
       "      <td>8.935194e-02</td>\n",
       "      <td>1.092474e-01</td>\n",
       "      <td>2.141336e-02</td>\n",
       "      <td>-1.050048e-01</td>\n",
       "      <td>2.469289e-01</td>\n",
       "      <td>1.964642e-01</td>\n",
       "      <td>-4.492224e-01</td>\n",
       "      <td>6.911065e-02</td>\n",
       "      <td>1.071180e-01</td>\n",
       "      <td>2.249179e-02</td>\n",
       "      <td>-5.951915e-02</td>\n",
       "      <td>-4.766585e-02</td>\n",
       "      <td>7.847039e-02</td>\n",
       "      <td>6.863985e-02</td>\n",
       "      <td>-0.364735</td>\n",
       "    </tr>\n",
       "    <tr>\n",
       "      <th>...</th>\n",
       "      <td>...</td>\n",
       "      <td>...</td>\n",
       "      <td>...</td>\n",
       "      <td>...</td>\n",
       "      <td>...</td>\n",
       "      <td>...</td>\n",
       "      <td>...</td>\n",
       "      <td>...</td>\n",
       "      <td>...</td>\n",
       "      <td>...</td>\n",
       "      <td>...</td>\n",
       "      <td>...</td>\n",
       "      <td>...</td>\n",
       "      <td>...</td>\n",
       "      <td>...</td>\n",
       "      <td>...</td>\n",
       "      <td>...</td>\n",
       "      <td>...</td>\n",
       "      <td>...</td>\n",
       "      <td>...</td>\n",
       "    </tr>\n",
       "    <tr>\n",
       "      <th>9995</th>\n",
       "      <td>-1.734111e-01</td>\n",
       "      <td>1.946201e+00</td>\n",
       "      <td>1.591217e+00</td>\n",
       "      <td>7.110342e-01</td>\n",
       "      <td>1.448383e+00</td>\n",
       "      <td>1.497626e+00</td>\n",
       "      <td>6.446492e-01</td>\n",
       "      <td>-2.939670e-02</td>\n",
       "      <td>8.873308e-01</td>\n",
       "      <td>7.365595e-02</td>\n",
       "      <td>1.577686e-01</td>\n",
       "      <td>-9.512450e-01</td>\n",
       "      <td>-1.852169e+00</td>\n",
       "      <td>-1.674549e+00</td>\n",
       "      <td>-6.974350e-01</td>\n",
       "      <td>-8.940025e-01</td>\n",
       "      <td>-1.160876e+00</td>\n",
       "      <td>-1.086074e+00</td>\n",
       "      <td>-4.387085e-01</td>\n",
       "      <td>0.577938</td>\n",
       "    </tr>\n",
       "    <tr>\n",
       "      <th>9996</th>\n",
       "      <td>2.940051e-01</td>\n",
       "      <td>1.574844e+00</td>\n",
       "      <td>1.207531e+00</td>\n",
       "      <td>6.844730e-01</td>\n",
       "      <td>1.495002e+00</td>\n",
       "      <td>1.138033e+00</td>\n",
       "      <td>5.298751e-01</td>\n",
       "      <td>2.379473e-02</td>\n",
       "      <td>6.097629e-01</td>\n",
       "      <td>-1.609777e-01</td>\n",
       "      <td>-3.096827e-02</td>\n",
       "      <td>-3.582997e-01</td>\n",
       "      <td>-1.800818e+00</td>\n",
       "      <td>-1.617724e+00</td>\n",
       "      <td>-5.950602e-01</td>\n",
       "      <td>-7.266458e-01</td>\n",
       "      <td>-1.049188e+00</td>\n",
       "      <td>-8.490244e-01</td>\n",
       "      <td>-3.686168e-01</td>\n",
       "      <td>0.187583</td>\n",
       "    </tr>\n",
       "    <tr>\n",
       "      <th>9997</th>\n",
       "      <td>-1.607435e-01</td>\n",
       "      <td>1.112967e+00</td>\n",
       "      <td>1.230602e+00</td>\n",
       "      <td>7.359271e-01</td>\n",
       "      <td>1.032293e+00</td>\n",
       "      <td>9.345460e-01</td>\n",
       "      <td>5.290299e-01</td>\n",
       "      <td>5.222980e-02</td>\n",
       "      <td>2.745289e-01</td>\n",
       "      <td>1.775637e-01</td>\n",
       "      <td>5.592745e-02</td>\n",
       "      <td>-6.599492e-01</td>\n",
       "      <td>-1.757246e+00</td>\n",
       "      <td>-1.129226e+00</td>\n",
       "      <td>-3.598756e-01</td>\n",
       "      <td>-7.171344e-01</td>\n",
       "      <td>-6.747651e-01</td>\n",
       "      <td>-4.975365e-01</td>\n",
       "      <td>-1.791389e-01</td>\n",
       "      <td>0.112159</td>\n",
       "    </tr>\n",
       "    <tr>\n",
       "      <th>9998</th>\n",
       "      <td>-6.045716e-01</td>\n",
       "      <td>4.557472e-01</td>\n",
       "      <td>9.274497e-01</td>\n",
       "      <td>4.729508e-01</td>\n",
       "      <td>2.949424e-01</td>\n",
       "      <td>5.907964e-01</td>\n",
       "      <td>3.933558e-01</td>\n",
       "      <td>5.994048e-02</td>\n",
       "      <td>-7.934264e-02</td>\n",
       "      <td>4.215874e-01</td>\n",
       "      <td>2.845534e-01</td>\n",
       "      <td>-8.672668e-01</td>\n",
       "      <td>-1.050253e+00</td>\n",
       "      <td>-3.358490e-01</td>\n",
       "      <td>-2.999604e-02</td>\n",
       "      <td>-5.160999e-01</td>\n",
       "      <td>-2.677085e-01</td>\n",
       "      <td>-1.197667e-01</td>\n",
       "      <td>-3.046964e-02</td>\n",
       "      <td>0.166941</td>\n",
       "    </tr>\n",
       "    <tr>\n",
       "      <th>9999</th>\n",
       "      <td>7.931993e-16</td>\n",
       "      <td>4.932454e-16</td>\n",
       "      <td>3.250270e-17</td>\n",
       "      <td>-4.544950e-16</td>\n",
       "      <td>-6.605733e-16</td>\n",
       "      <td>6.448003e-16</td>\n",
       "      <td>-2.854454e-16</td>\n",
       "      <td>-2.120846e-16</td>\n",
       "      <td>1.947205e-16</td>\n",
       "      <td>5.512632e-17</td>\n",
       "      <td>-5.858264e-16</td>\n",
       "      <td>3.229892e-16</td>\n",
       "      <td>8.722308e-17</td>\n",
       "      <td>-3.077048e-16</td>\n",
       "      <td>3.387363e-16</td>\n",
       "      <td>8.175520e-17</td>\n",
       "      <td>-1.109625e-16</td>\n",
       "      <td>-5.706859e-16</td>\n",
       "      <td>1.434796e-16</td>\n",
       "      <td>-0.119936</td>\n",
       "    </tr>\n",
       "  </tbody>\n",
       "</table>\n",
       "<p>10000 rows × 20 columns</p>\n",
       "</div>"
      ],
      "text/plain": [
       "               Fp1            F3            C3            P3            F7  \\\n",
       "0     6.098923e-17 -6.467780e-16  4.634451e-16  3.663006e-16 -2.581999e-16   \n",
       "1    -2.959683e-01 -9.579126e-02  1.826220e-01 -3.186127e-02 -9.071970e-02   \n",
       "2     2.484796e-01 -6.886530e-02 -2.180245e-01 -1.533436e-01  1.291295e-01   \n",
       "3     1.892762e-01 -6.175045e-02 -2.193049e-01 -5.970358e-02  1.484292e-02   \n",
       "4    -3.798687e-01 -3.777700e-02  2.466656e-01  5.541902e-02 -2.322632e-01   \n",
       "...            ...           ...           ...           ...           ...   \n",
       "9995 -1.734111e-01  1.946201e+00  1.591217e+00  7.110342e-01  1.448383e+00   \n",
       "9996  2.940051e-01  1.574844e+00  1.207531e+00  6.844730e-01  1.495002e+00   \n",
       "9997 -1.607435e-01  1.112967e+00  1.230602e+00  7.359271e-01  1.032293e+00   \n",
       "9998 -6.045716e-01  4.557472e-01  9.274497e-01  4.729508e-01  2.949424e-01   \n",
       "9999  7.931993e-16  4.932454e-16  3.250270e-17 -4.544950e-16 -6.605733e-16   \n",
       "\n",
       "                T3            T5            O1            Fz            Cz  \\\n",
       "0     1.165004e-16  3.940561e-16  2.830338e-16 -5.843279e-16  1.650726e-16   \n",
       "1    -1.548448e-02  8.900903e-02 -1.479428e-02 -1.013828e-03  2.702369e-01   \n",
       "2    -6.561683e-02 -2.552704e-02 -1.279294e-01  2.107432e-01 -1.611151e-01   \n",
       "3     1.642986e-02  2.404561e-02 -4.006557e-02  9.141178e-02 -8.545747e-02   \n",
       "4     8.935194e-02  1.092474e-01  2.141336e-02 -1.050048e-01  2.469289e-01   \n",
       "...            ...           ...           ...           ...           ...   \n",
       "9995  1.497626e+00  6.446492e-01 -2.939670e-02  8.873308e-01  7.365595e-02   \n",
       "9996  1.138033e+00  5.298751e-01  2.379473e-02  6.097629e-01 -1.609777e-01   \n",
       "9997  9.345460e-01  5.290299e-01  5.222980e-02  2.745289e-01  1.775637e-01   \n",
       "9998  5.907964e-01  3.933558e-01  5.994048e-02 -7.934264e-02  4.215874e-01   \n",
       "9999  6.448003e-16 -2.854454e-16 -2.120846e-16  1.947205e-16  5.512632e-17   \n",
       "\n",
       "                Pz           Fp2            F4            C4            P4  \\\n",
       "0     1.858893e-16 -1.471776e-16 -2.859555e-16 -8.399714e-18  1.511948e-16   \n",
       "1     1.466023e-01 -2.878139e-01  5.164124e-02  1.635308e-02  4.239297e-03   \n",
       "2    -1.125558e-01  2.895415e-01  1.985302e-01 -1.294119e-01 -1.241651e-01   \n",
       "3    -2.030920e-02  2.116358e-01  1.356586e-01 -1.675403e-01 -1.888674e-02   \n",
       "4     1.964642e-01 -4.492224e-01  6.911065e-02  1.071180e-01  2.249179e-02   \n",
       "...            ...           ...           ...           ...           ...   \n",
       "9995  1.577686e-01 -9.512450e-01 -1.852169e+00 -1.674549e+00 -6.974350e-01   \n",
       "9996 -3.096827e-02 -3.582997e-01 -1.800818e+00 -1.617724e+00 -5.950602e-01   \n",
       "9997  5.592745e-02 -6.599492e-01 -1.757246e+00 -1.129226e+00 -3.598756e-01   \n",
       "9998  2.845534e-01 -8.672668e-01 -1.050253e+00 -3.358490e-01 -2.999604e-02   \n",
       "9999 -5.858264e-16  3.229892e-16  8.722308e-17 -3.077048e-16  3.387363e-16   \n",
       "\n",
       "                F8            T4            T6            O2       EKG  \n",
       "0    -3.692222e-16 -2.165665e-16  2.552783e-16  7.486701e-17 -0.158840  \n",
       "1     7.051307e-03 -2.392405e-03  2.222939e-02  4.585478e-02 -0.093472  \n",
       "2     1.394871e-01 -5.330312e-02 -7.436669e-02  9.831327e-02 -0.402844  \n",
       "3     9.272253e-02 -8.818191e-02 -4.212377e-02  2.730053e-02 -0.577511  \n",
       "4    -5.951915e-02 -4.766585e-02  7.847039e-02  6.863985e-02 -0.364735  \n",
       "...            ...           ...           ...           ...       ...  \n",
       "9995 -8.940025e-01 -1.160876e+00 -1.086074e+00 -4.387085e-01  0.577938  \n",
       "9996 -7.266458e-01 -1.049188e+00 -8.490244e-01 -3.686168e-01  0.187583  \n",
       "9997 -7.171344e-01 -6.747651e-01 -4.975365e-01 -1.791389e-01  0.112159  \n",
       "9998 -5.160999e-01 -2.677085e-01 -1.197667e-01 -3.046964e-02  0.166941  \n",
       "9999  8.175520e-17 -1.109625e-16 -5.706859e-16  1.434796e-16 -0.119936  \n",
       "\n",
       "[10000 rows x 20 columns]"
      ]
     },
     "execution_count": 10,
     "metadata": {},
     "output_type": "execute_result"
    }
   ],
   "source": [
    "pd.DataFrame(raw.get_data(), index = raw.ch_names).transpose()"
   ]
  },
  {
   "cell_type": "code",
   "execution_count": 27,
   "id": "af8e2f33",
   "metadata": {},
   "outputs": [],
   "source": [
    "raw = load_preprocess(df, 0, 1, None, bandpass = True, notch = False, reref = True)\n",
    "sub_eeg = pd.DataFrame(raw.get_data(), index = raw.ch_names).transpose()\n",
    "\n",
    "full_montage = []\n",
    "for i in range(4):\n",
    "    electrodes = chains[i]\n",
    "    signal_diffs = []\n",
    "    for j in range(4):\n",
    "        x = sub_eeg[electrodes[j]].values - sub_eeg[electrodes[j + 1]].values\n",
    "        signal_diffs.append(x)\n",
    "    full_montage.append(signal_diffs)"
   ]
  },
  {
   "cell_type": "code",
   "execution_count": 28,
   "id": "8ca6aa08",
   "metadata": {},
   "outputs": [
    {
     "data": {
      "text/plain": [
       "(4, 4, 10000)"
      ]
     },
     "execution_count": 28,
     "metadata": {},
     "output_type": "execute_result"
    }
   ],
   "source": [
    "np.asarray(full_montage).shape"
   ]
  },
  {
   "cell_type": "code",
   "execution_count": 9,
   "id": "1e8e7b34",
   "metadata": {},
   "outputs": [],
   "source": [
    "from scipy.signal import spectrogram"
   ]
  },
  {
   "cell_type": "code",
   "execution_count": 30,
   "id": "890e79a3",
   "metadata": {},
   "outputs": [],
   "source": [
    "f, t, Sxx = spectrogram(full_montage[0][0], fs = 200, nperseg = 256, noverlap = 128,\n",
    "                        scaling = 'density', mode = 'psd')"
   ]
  },
  {
   "cell_type": "code",
   "execution_count": 32,
   "id": "90a7da91",
   "metadata": {},
   "outputs": [
    {
     "data": {
      "text/plain": [
       "(77,)"
      ]
     },
     "execution_count": 32,
     "metadata": {},
     "output_type": "execute_result"
    }
   ],
   "source": [
    "t.shape"
   ]
  },
  {
   "cell_type": "code",
   "execution_count": 34,
   "id": "727276a1",
   "metadata": {},
   "outputs": [],
   "source": [
    "\n",
    "# Spectrograms params \n",
    "#fs = 200 \n",
    "#window_length = 256     # or, this is number per segment (nperseg)\n",
    "#window_overlap = 128    # or, n overlap \n",
    "\n",
    "# resulting spectrogram is going to be: window_length // 2 + 1 = 129 \n",
    "\n",
    "#---------------------------------------\n",
    "\n",
    "# Generate Spectrograms \n",
    "\n",
    "#f, t, Sxx = spectrogram( segments..., fs = fs, nperseg = window_length, noverlap = window_overlap)\n",
    "#F = len(f)     # this is going to be 129 or so \n",
    "#T_s = len(t)   # number of windows = ( # of samples - window_overlap) / (window_length - window_overlap)  \n",
    "\n",
    "F_trim = 128   # you can trim everything down to 128 to keep data even \n",
    "T_s = 77\n",
    "\n",
    "spectrograms = np.zeros((4, 4, 128, 77), dtype = np.float32)\n",
    "\n",
    "# loop over each segment\n",
    "for i in range(4): \n",
    "    for j in range(4):\n",
    "        f, t, Sxx = spectrogram(full_montage[i][j], fs = 200, nperseg = 256, \n",
    "                                noverlap = 128, scaling = 'density', mode = 'psd'\n",
    "        )\n",
    "        \n",
    "        # now just trim or pad frequency axis to length F_trim\n",
    "        Sxx = Sxx[:F_trim, :]\n",
    "        \n",
    "        # do you want to convert to decibel scale \n",
    "        epsilon = 1e-10\n",
    "        Sxx_db = 10.0 * np.log10(Sxx + epsilon)\n",
    "        \n",
    "        # store these results back in the preallocated spectrograms array \n",
    "        spectrograms[i][j] = Sxx_db"
   ]
  },
  {
   "cell_type": "code",
   "execution_count": 25,
   "id": "6d6d823f",
   "metadata": {},
   "outputs": [],
   "source": [
    "def reformat_eeg(data, row, highpass, lowpass, bandpass, notch, reref):\n",
    "    raw = load_preprocess(data, row, highpass, lowpass, bandpass, notch, reref)\n",
    "    return pd.DataFrame(raw.get_data(), index = raw.ch_names).transpose()"
   ]
  },
  {
   "cell_type": "code",
   "execution_count": 26,
   "id": "d7932f52",
   "metadata": {},
   "outputs": [],
   "source": [
    "def get_diffs(data, row, highpass, lowpass, bandpass, notch, reref, chains):\n",
    "    sub_eeg = reformat_eeg(data, row, highpass, lowpass, bandpass, notch, reref)\n",
    "    full_montage = []\n",
    "    for i in range(4):\n",
    "        electrodes = chains[i]\n",
    "        signal_diffs = []\n",
    "        for j in range(4):\n",
    "            x = sub_eeg[electrodes[j]].values - sub_eeg[electrodes[j + 1]].values\n",
    "            signal_diffs.append(x)\n",
    "        full_montage.append(signal_diffs)\n",
    "    return np.asarray(full_montage)"
   ]
  },
  {
   "cell_type": "code",
   "execution_count": 27,
   "id": "efee36d8",
   "metadata": {},
   "outputs": [],
   "source": [
    "def get_spectrograms(data, row, highpass, lowpass, bandpass, notch, reref, chains):\n",
    "    signal_diffs = get_diffs(data, row, highpass, lowpass, bandpass, notch, reref, chains)\n",
    "    spectrograms = np.zeros((4, 4, 128, 77), dtype = np.float32)\n",
    "\n",
    "    for i in range(4): \n",
    "        for j in range(4):\n",
    "            f, t, Sxx = spectrogram(signal_diffs[i][j], fs = 200, nperseg = 256, \n",
    "                                    noverlap = 128, scaling = 'density', mode = 'psd'\n",
    "            )\n",
    "\n",
    "            Sxx = Sxx[:128, :]\n",
    "\n",
    "            epsilon = 1e-10\n",
    "            Sxx_db = 10.0 * np.log10(Sxx + epsilon)\n",
    "\n",
    "            spectrograms[i][j] = Sxx_db\n",
    "        \n",
    "    return spectrograms"
   ]
  },
  {
   "cell_type": "code",
   "execution_count": 28,
   "id": "7647bebd",
   "metadata": {},
   "outputs": [],
   "source": [
    "def avg_spectrograms(data, row, highpass, lowpass, bandpass, notch, reref, chains):\n",
    "    spectrograms = get_spectrograms(data, row, highpass, lowpass, bandpass, notch, reref, chains)\n",
    "    average_specs = []\n",
    "    for i in range(4):\n",
    "        sum_spec = np.zeros((128, 77), dtype = np.float32)\n",
    "        for j in range(4):\n",
    "            sum_spec += spectrograms[i][j]\n",
    "        avg_spec = sum_spec / 4\n",
    "        average_specs.append(avg_spec)\n",
    "    return np.asarray(average_specs)"
   ]
  },
  {
   "cell_type": "code",
   "execution_count": 45,
   "id": "fc523983",
   "metadata": {},
   "outputs": [],
   "source": [
    "def no_averaging(data, row, highpass, lowpass, bandpass, notch, reref, chains):\n",
    "    specs = get_spectrograms(data, row, highpass, lowpass, bandpass, notch, reref, chains)\n",
    "    without_region = []\n",
    "    for i in range(4):\n",
    "        for j in range(4):\n",
    "            without_region.append(specs[i][j])\n",
    "    return np.asarray(without_region)"
   ]
  },
  {
   "cell_type": "code",
   "execution_count": 20,
   "id": "0be537fb",
   "metadata": {},
   "outputs": [],
   "source": [
    "a1 = avg_spectrograms(df, 0, 1, None, bandpass = True, notch = False, reref = True, chains = chains)\n",
    "a2 = avg_spectrograms(df, 1, 1, None, bandpass = True, notch = False, reref = True, chains = chains)"
   ]
  },
  {
   "cell_type": "code",
   "execution_count": 58,
   "id": "260c8508",
   "metadata": {},
   "outputs": [],
   "source": [
    "alist = [a1, a2]"
   ]
  },
  {
   "cell_type": "code",
   "execution_count": 59,
   "id": "8fe3e582",
   "metadata": {},
   "outputs": [
    {
     "data": {
      "text/plain": [
       "(2, 4, 128, 77)"
      ]
     },
     "execution_count": 59,
     "metadata": {},
     "output_type": "execute_result"
    }
   ],
   "source": [
    "np.asarray(alist).shape"
   ]
  },
  {
   "cell_type": "code",
   "execution_count": 21,
   "id": "e9662524",
   "metadata": {},
   "outputs": [],
   "source": [
    "spec_list = []\n",
    "for i in random_indexes:\n",
    "    specgram = avg_spectrograms(df, i, 1, None, bandpass = True, notch = False,\n",
    "                               reref = True, chains = chains)\n",
    "    spec_list.append(specgram)\n",
    "spec_list = np.asarray(spec_list)"
   ]
  },
  {
   "cell_type": "code",
   "execution_count": 22,
   "id": "1215c304",
   "metadata": {},
   "outputs": [
    {
     "data": {
      "text/plain": [
       "(12000, 4, 128, 77)"
      ]
     },
     "execution_count": 22,
     "metadata": {},
     "output_type": "execute_result"
    }
   ],
   "source": [
    "spec_list.shape"
   ]
  },
  {
   "cell_type": "code",
   "execution_count": 24,
   "id": "3607f8f0",
   "metadata": {},
   "outputs": [],
   "source": [
    "spec0 = spec_list[0].copy()"
   ]
  },
  {
   "cell_type": "markdown",
   "id": "4e5100f3",
   "metadata": {},
   "source": [
    "### Storing Spectrograms"
   ]
  },
  {
   "cell_type": "code",
   "execution_count": 43,
   "id": "b577cbbe",
   "metadata": {},
   "outputs": [
    {
     "data": {
      "text/plain": [
       "<HDF5 dataset \"spectrogram\": shape (4, 128, 77), type \"<f4\">"
      ]
     },
     "execution_count": 43,
     "metadata": {},
     "output_type": "execute_result"
    }
   ],
   "source": [
    "f = h5py.File('eeg_spectrograms/spec_{}.hdf5'.format(random_indexes[0]), 'w')\n",
    "f.create_dataset('spectrogram', data = spec_list[0], dtype = 'float32')"
   ]
  },
  {
   "cell_type": "code",
   "execution_count": 46,
   "id": "af11604c",
   "metadata": {},
   "outputs": [
    {
     "data": {
      "text/plain": [
       "(4, 128, 77)"
      ]
     },
     "execution_count": 46,
     "metadata": {},
     "output_type": "execute_result"
    }
   ],
   "source": [
    "f['spectrogram'][:].shape"
   ]
  },
  {
   "cell_type": "code",
   "execution_count": 32,
   "id": "9c777799",
   "metadata": {},
   "outputs": [],
   "source": [
    "f = h5py.File('eeg_spectrograms/hdf5_spec{}.hdf5'.format(random_indexes[0]), 'r')"
   ]
  },
  {
   "cell_type": "code",
   "execution_count": 35,
   "id": "ba1307d6",
   "metadata": {},
   "outputs": [
    {
     "data": {
      "text/plain": [
       "(4, 128, 77)"
      ]
     },
     "execution_count": 35,
     "metadata": {},
     "output_type": "execute_result"
    }
   ],
   "source": [
    "f['spectrogram'][:].shape"
   ]
  },
  {
   "cell_type": "code",
   "execution_count": 48,
   "id": "3a340af4",
   "metadata": {},
   "outputs": [],
   "source": [
    "for i in range(spec_list.shape[0]):\n",
    "    f = h5py.File('eeg_spectrograms/spec_{}.hdf5'.format(random_indexes[i]), 'w')\n",
    "    f.create_dataset('spectrogram', data = spec_list[i], dtype = 'float32')"
   ]
  },
  {
   "cell_type": "markdown",
   "id": "e9bb0557",
   "metadata": {},
   "source": [
    "### Next  \n",
    "  \n",
    "The above code should generate the spectrograms for the electrode chains specified. I need to write code that will loop over the sub EEGs I want spectrograms for, generate those spectrograms, and store those spectrograms in a folder to be worked with later. One question is whether or not I should store each separately? Each sub EEG has four spectrograms. They are currently RP, LP, RL, LL (not in that order). I can make four folders, one for each electrode chain. Or I could store each electrode chain's spectrogram together and just have an EEG spectrograms folder. I don't know which approach is more likely to add difficulty to the process of implementing a CNN with this data."
   ]
  },
  {
   "cell_type": "code",
   "execution_count": 15,
   "id": "7e97578e",
   "metadata": {},
   "outputs": [
    {
     "name": "stdout",
     "output_type": "stream",
     "text": [
      "(4, 128, 77)\n",
      "(4, 128, 77)\n",
      "(4, 128, 77)\n",
      "(4, 128, 77)\n",
      "(4, 128, 77)\n"
     ]
    }
   ],
   "source": [
    "for i in range(5):\n",
    "    f = h5py.File('eeg_spectrograms/spec_{}.hdf5'.format(random_indexes[i]), 'r')\n",
    "    print(f['spectrogram'][:].shape)"
   ]
  },
  {
   "cell_type": "markdown",
   "id": "3f6e6074",
   "metadata": {},
   "source": [
    "### Convolutional Neural Network  \n",
    "  \n",
    "The idea for this is to have a CNN read over spectrograms like images and then classify them as representing one of six different categories of brain activity. To build my spectrogram dataset, I used the double banana bipolar montage (I'll link to resources below), calculated the signal differences within each electrode chain, calculated the spectrogram for each signal difference (four differences per electrode chain; four electrode chains without the central electrodes included), and then averaged the spectrograms in each electrode chain to get one spectrogram representing each electrode chain in the montage.  \n",
    "  \n",
    "This appears to be how the spectrograms which were provided with the EEGs were generated. Spectrograms are separated into four regions: Right Parasagittal, Left Parasagittal, Right Lateral, and Left Lateral. These are the chains of the double banana bipolar montage.  \n",
    "  \n",
    "The calculation to generate the spectrograms may be different. I used scipy's spectrogram function. One example on Kaggle used the librosa library. This at least seems to be how this organization of the spectrograms was arrived at, though. I won't be attempting other versions here due to time constraints, but there are many different montages I could use. I could also add in the central electrode chain so that Fz, Cz, and Pz aren't left out. I could also use the 16 spectrograms with four per electrode chain instead of using the average spectrogram for each electrode chain.  \n",
    "  \n",
    "I will attempt to make adjustments to the CNN. I can try different kernel sizes, different batch sizes, and even add a third convolutional layer. The main thing is to get initial results to use for comparison with my machine learning attempts and then to discuss what I might do next with more time.  \n",
    "  \n",
    "The kernel size establishes the dimensions of the kernel. The kernel is a square window which slides over the image (or spectrogram here) and calculates feature data from that. So a kernel size of three will produce a sliding window that is 3x3.  \n",
    "  \n",
    "Padding adds a boundary of pixels around the kernel. These are typically set to 0.  \n",
    "  \n",
    "The sliding window (the filter) generates a feature map which is used for the classification. In order to reduce dimensionality and guard against overfitting, pooling layers are used. Like with the kernel, the pooling filter is given a size (like 2x2) and it reads over the feature map. In every spot, it will output a single representation of the data within it. Max pooling takes the maximum value within the filter. Average pooling takes the average of the values within the filter."
   ]
  },
  {
   "cell_type": "code",
   "execution_count": 11,
   "id": "c10b95a3",
   "metadata": {},
   "outputs": [],
   "source": [
    "import torch\n",
    "import torch.nn as nn\n",
    "\n",
    "from torch.utils.data import Dataset, DataLoader \n",
    "\n",
    "class SpectrogramDataset(Dataset):\n",
    "        \n",
    "    def __init__(self, X, y):\n",
    "        self.X = X \n",
    "        self.y = y\n",
    "        \n",
    "    def __len__(self):\n",
    "        return len(self.y)\n",
    "      \n",
    "    def __getitem__(self, idx):\n",
    "        x = self.X[idx]\n",
    "        label = self.y[idx]\n",
    "        \n",
    "        return torch.tensor(x, dtype = torch.float32), torch.tensor(label, dtype = torch.long)\n",
    "        \n",
    "class EEGCNN(nn.Module):\n",
    "    def __init__(self, in_channels, num_classes):\n",
    "        super().__init__()   \n",
    "        \n",
    "        self.conv1 = nn.Conv2d(in_channels, 16, kernel_size = 3, padding = 1) \n",
    "        self.relu1 = nn.ReLU()\n",
    "        self.pool1 = nn.MaxPool2d(2)    \n",
    "        \n",
    "        self.conv2 = nn.Conv2d(16, 32, kernel_size = 3, padding = 1) \n",
    "        self.relu2 = nn.ReLU()\n",
    "        self.pool2 = nn.MaxPool2d(2)   \n",
    "        \n",
    "        flattened_size = 32 * (128 // 4) * (77 // 4) \n",
    "        \n",
    "        self.fc1 = nn.Linear(flattened_size, 64)\n",
    "        self.relu3 = nn.ReLU()\n",
    "        self.fc2 = nn.Linear(64, num_classes) \n",
    "        \n",
    "    def forward(self, x):\n",
    "        \n",
    "        x = self.conv1(x)      \n",
    "        x = self.relu1(x)\n",
    "        x = self.pool1(x)     \n",
    "        \n",
    "        x = self.conv2(x)    \n",
    "        x = self.relu2(x)\n",
    "        x = self.pool2(x)     \n",
    "        \n",
    "        x = x.view(x.size(0), -1)\n",
    "        x = self.fc1(x)\n",
    "        x = self.relu3(x)\n",
    "        \n",
    "        logits = self.fc2(x) \n",
    "        return logits"
   ]
  },
  {
   "cell_type": "code",
   "execution_count": 23,
   "id": "06b05e6e",
   "metadata": {},
   "outputs": [],
   "source": [
    "input_size = 9856\n",
    "num_classes = 6\n",
    "learning_rate = 0.001\n",
    "num_epochs = 50"
   ]
  },
  {
   "cell_type": "code",
   "execution_count": 13,
   "id": "729c45ea",
   "metadata": {},
   "outputs": [],
   "source": [
    "X = np.load('eeg_specs.npy')\n",
    "y = np.load('eeg_labels.npy')"
   ]
  },
  {
   "cell_type": "code",
   "execution_count": 14,
   "id": "e868f099",
   "metadata": {},
   "outputs": [],
   "source": [
    "from sklearn.preprocessing import LabelEncoder\n",
    "le = LabelEncoder()\n",
    "y_encoded = le.fit_transform(y)"
   ]
  },
  {
   "cell_type": "code",
   "execution_count": 15,
   "id": "6a49446d",
   "metadata": {},
   "outputs": [],
   "source": [
    "X_train, X_test, y_train, y_test = train_test_split(X, y_encoded, test_size = 0.1, random_state = 42)"
   ]
  },
  {
   "cell_type": "code",
   "execution_count": 16,
   "id": "ac53144f",
   "metadata": {},
   "outputs": [],
   "source": [
    "train_ds = SpectrogramDataset(X_train, y_train)\n",
    "test_ds = SpectrogramDataset(X_test, y_test)"
   ]
  },
  {
   "cell_type": "code",
   "execution_count": 17,
   "id": "a1132944",
   "metadata": {},
   "outputs": [],
   "source": [
    "train_loader = DataLoader(train_ds, batch_size = 32, shuffle = True)\n",
    "test_loader = DataLoader(test_ds, batch_size = 32, shuffle = False)"
   ]
  },
  {
   "cell_type": "code",
   "execution_count": 18,
   "id": "c7c909fe",
   "metadata": {},
   "outputs": [],
   "source": [
    "model = EEGCNN(in_channels = 4, num_classes = num_classes)"
   ]
  },
  {
   "cell_type": "code",
   "execution_count": 19,
   "id": "e0b8345a",
   "metadata": {},
   "outputs": [],
   "source": [
    "from torch import optim"
   ]
  },
  {
   "cell_type": "code",
   "execution_count": 20,
   "id": "9486292b",
   "metadata": {},
   "outputs": [],
   "source": [
    "criterion = nn.CrossEntropyLoss()\n",
    "optimizer = optim.Adam(model.parameters(), lr = learning_rate)"
   ]
  },
  {
   "cell_type": "code",
   "execution_count": 21,
   "id": "13e198b7",
   "metadata": {},
   "outputs": [],
   "source": [
    "from tqdm import tqdm"
   ]
  },
  {
   "cell_type": "code",
   "execution_count": 24,
   "id": "94b3ac3d",
   "metadata": {},
   "outputs": [
    {
     "name": "stdout",
     "output_type": "stream",
     "text": [
      "Epoch [1/50]\n"
     ]
    },
    {
     "name": "stderr",
     "output_type": "stream",
     "text": [
      "100%|█████████████████████████████████████████████████████████████████████████████████| 338/338 [00:41<00:00,  8.13it/s]\n"
     ]
    },
    {
     "name": "stdout",
     "output_type": "stream",
     "text": [
      "Epoch [2/50]\n"
     ]
    },
    {
     "name": "stderr",
     "output_type": "stream",
     "text": [
      "100%|█████████████████████████████████████████████████████████████████████████████████| 338/338 [00:29<00:00, 11.56it/s]\n"
     ]
    },
    {
     "name": "stdout",
     "output_type": "stream",
     "text": [
      "Epoch [3/50]\n"
     ]
    },
    {
     "name": "stderr",
     "output_type": "stream",
     "text": [
      "100%|█████████████████████████████████████████████████████████████████████████████████| 338/338 [00:27<00:00, 12.29it/s]\n"
     ]
    },
    {
     "name": "stdout",
     "output_type": "stream",
     "text": [
      "Epoch [4/50]\n"
     ]
    },
    {
     "name": "stderr",
     "output_type": "stream",
     "text": [
      "100%|█████████████████████████████████████████████████████████████████████████████████| 338/338 [00:26<00:00, 12.64it/s]\n"
     ]
    },
    {
     "name": "stdout",
     "output_type": "stream",
     "text": [
      "Epoch [5/50]\n"
     ]
    },
    {
     "name": "stderr",
     "output_type": "stream",
     "text": [
      "100%|█████████████████████████████████████████████████████████████████████████████████| 338/338 [00:24<00:00, 13.91it/s]\n"
     ]
    },
    {
     "name": "stdout",
     "output_type": "stream",
     "text": [
      "Epoch [6/50]\n"
     ]
    },
    {
     "name": "stderr",
     "output_type": "stream",
     "text": [
      "100%|█████████████████████████████████████████████████████████████████████████████████| 338/338 [00:25<00:00, 13.33it/s]\n"
     ]
    },
    {
     "name": "stdout",
     "output_type": "stream",
     "text": [
      "Epoch [7/50]\n"
     ]
    },
    {
     "name": "stderr",
     "output_type": "stream",
     "text": [
      "100%|█████████████████████████████████████████████████████████████████████████████████| 338/338 [00:27<00:00, 12.26it/s]\n"
     ]
    },
    {
     "name": "stdout",
     "output_type": "stream",
     "text": [
      "Epoch [8/50]\n"
     ]
    },
    {
     "name": "stderr",
     "output_type": "stream",
     "text": [
      "100%|█████████████████████████████████████████████████████████████████████████████████| 338/338 [00:25<00:00, 13.06it/s]\n"
     ]
    },
    {
     "name": "stdout",
     "output_type": "stream",
     "text": [
      "Epoch [9/50]\n"
     ]
    },
    {
     "name": "stderr",
     "output_type": "stream",
     "text": [
      "100%|█████████████████████████████████████████████████████████████████████████████████| 338/338 [00:25<00:00, 13.07it/s]\n"
     ]
    },
    {
     "name": "stdout",
     "output_type": "stream",
     "text": [
      "Epoch [10/50]\n"
     ]
    },
    {
     "name": "stderr",
     "output_type": "stream",
     "text": [
      "100%|█████████████████████████████████████████████████████████████████████████████████| 338/338 [00:25<00:00, 13.10it/s]\n"
     ]
    },
    {
     "name": "stdout",
     "output_type": "stream",
     "text": [
      "Epoch [11/50]\n"
     ]
    },
    {
     "name": "stderr",
     "output_type": "stream",
     "text": [
      "100%|█████████████████████████████████████████████████████████████████████████████████| 338/338 [00:27<00:00, 12.24it/s]\n"
     ]
    },
    {
     "name": "stdout",
     "output_type": "stream",
     "text": [
      "Epoch [12/50]\n"
     ]
    },
    {
     "name": "stderr",
     "output_type": "stream",
     "text": [
      "100%|█████████████████████████████████████████████████████████████████████████████████| 338/338 [00:30<00:00, 11.02it/s]\n"
     ]
    },
    {
     "name": "stdout",
     "output_type": "stream",
     "text": [
      "Epoch [13/50]\n"
     ]
    },
    {
     "name": "stderr",
     "output_type": "stream",
     "text": [
      "100%|█████████████████████████████████████████████████████████████████████████████████| 338/338 [00:26<00:00, 12.67it/s]\n"
     ]
    },
    {
     "name": "stdout",
     "output_type": "stream",
     "text": [
      "Epoch [14/50]\n"
     ]
    },
    {
     "name": "stderr",
     "output_type": "stream",
     "text": [
      "100%|█████████████████████████████████████████████████████████████████████████████████| 338/338 [00:25<00:00, 13.03it/s]\n"
     ]
    },
    {
     "name": "stdout",
     "output_type": "stream",
     "text": [
      "Epoch [15/50]\n"
     ]
    },
    {
     "name": "stderr",
     "output_type": "stream",
     "text": [
      "100%|█████████████████████████████████████████████████████████████████████████████████| 338/338 [00:27<00:00, 12.31it/s]\n"
     ]
    },
    {
     "name": "stdout",
     "output_type": "stream",
     "text": [
      "Epoch [16/50]\n"
     ]
    },
    {
     "name": "stderr",
     "output_type": "stream",
     "text": [
      "100%|█████████████████████████████████████████████████████████████████████████████████| 338/338 [00:27<00:00, 12.49it/s]\n"
     ]
    },
    {
     "name": "stdout",
     "output_type": "stream",
     "text": [
      "Epoch [17/50]\n"
     ]
    },
    {
     "name": "stderr",
     "output_type": "stream",
     "text": [
      "100%|█████████████████████████████████████████████████████████████████████████████████| 338/338 [00:26<00:00, 12.91it/s]\n"
     ]
    },
    {
     "name": "stdout",
     "output_type": "stream",
     "text": [
      "Epoch [18/50]\n"
     ]
    },
    {
     "name": "stderr",
     "output_type": "stream",
     "text": [
      "100%|█████████████████████████████████████████████████████████████████████████████████| 338/338 [00:23<00:00, 14.21it/s]\n"
     ]
    },
    {
     "name": "stdout",
     "output_type": "stream",
     "text": [
      "Epoch [19/50]\n"
     ]
    },
    {
     "name": "stderr",
     "output_type": "stream",
     "text": [
      "100%|█████████████████████████████████████████████████████████████████████████████████| 338/338 [00:24<00:00, 13.82it/s]\n"
     ]
    },
    {
     "name": "stdout",
     "output_type": "stream",
     "text": [
      "Epoch [20/50]\n"
     ]
    },
    {
     "name": "stderr",
     "output_type": "stream",
     "text": [
      "100%|█████████████████████████████████████████████████████████████████████████████████| 338/338 [00:23<00:00, 14.38it/s]\n"
     ]
    },
    {
     "name": "stdout",
     "output_type": "stream",
     "text": [
      "Epoch [21/50]\n"
     ]
    },
    {
     "name": "stderr",
     "output_type": "stream",
     "text": [
      "100%|█████████████████████████████████████████████████████████████████████████████████| 338/338 [00:25<00:00, 13.35it/s]\n"
     ]
    },
    {
     "name": "stdout",
     "output_type": "stream",
     "text": [
      "Epoch [22/50]\n"
     ]
    },
    {
     "name": "stderr",
     "output_type": "stream",
     "text": [
      "100%|█████████████████████████████████████████████████████████████████████████████████| 338/338 [00:24<00:00, 13.74it/s]\n"
     ]
    },
    {
     "name": "stdout",
     "output_type": "stream",
     "text": [
      "Epoch [23/50]\n"
     ]
    },
    {
     "name": "stderr",
     "output_type": "stream",
     "text": [
      "100%|█████████████████████████████████████████████████████████████████████████████████| 338/338 [00:25<00:00, 13.19it/s]\n"
     ]
    },
    {
     "name": "stdout",
     "output_type": "stream",
     "text": [
      "Epoch [24/50]\n"
     ]
    },
    {
     "name": "stderr",
     "output_type": "stream",
     "text": [
      "100%|█████████████████████████████████████████████████████████████████████████████████| 338/338 [00:25<00:00, 13.02it/s]\n"
     ]
    },
    {
     "name": "stdout",
     "output_type": "stream",
     "text": [
      "Epoch [25/50]\n"
     ]
    },
    {
     "name": "stderr",
     "output_type": "stream",
     "text": [
      "100%|█████████████████████████████████████████████████████████████████████████████████| 338/338 [00:25<00:00, 13.27it/s]\n"
     ]
    },
    {
     "name": "stdout",
     "output_type": "stream",
     "text": [
      "Epoch [26/50]\n"
     ]
    },
    {
     "name": "stderr",
     "output_type": "stream",
     "text": [
      "100%|█████████████████████████████████████████████████████████████████████████████████| 338/338 [00:26<00:00, 12.58it/s]\n"
     ]
    },
    {
     "name": "stdout",
     "output_type": "stream",
     "text": [
      "Epoch [27/50]\n"
     ]
    },
    {
     "name": "stderr",
     "output_type": "stream",
     "text": [
      "100%|█████████████████████████████████████████████████████████████████████████████████| 338/338 [00:26<00:00, 12.76it/s]\n"
     ]
    },
    {
     "name": "stdout",
     "output_type": "stream",
     "text": [
      "Epoch [28/50]\n"
     ]
    },
    {
     "name": "stderr",
     "output_type": "stream",
     "text": [
      "100%|█████████████████████████████████████████████████████████████████████████████████| 338/338 [00:24<00:00, 13.86it/s]\n"
     ]
    },
    {
     "name": "stdout",
     "output_type": "stream",
     "text": [
      "Epoch [29/50]\n"
     ]
    },
    {
     "name": "stderr",
     "output_type": "stream",
     "text": [
      "100%|█████████████████████████████████████████████████████████████████████████████████| 338/338 [00:22<00:00, 14.74it/s]\n"
     ]
    },
    {
     "name": "stdout",
     "output_type": "stream",
     "text": [
      "Epoch [30/50]\n"
     ]
    },
    {
     "name": "stderr",
     "output_type": "stream",
     "text": [
      "100%|█████████████████████████████████████████████████████████████████████████████████| 338/338 [00:22<00:00, 14.85it/s]\n"
     ]
    },
    {
     "name": "stdout",
     "output_type": "stream",
     "text": [
      "Epoch [31/50]\n"
     ]
    },
    {
     "name": "stderr",
     "output_type": "stream",
     "text": [
      "100%|█████████████████████████████████████████████████████████████████████████████████| 338/338 [00:22<00:00, 14.80it/s]\n"
     ]
    },
    {
     "name": "stdout",
     "output_type": "stream",
     "text": [
      "Epoch [32/50]\n"
     ]
    },
    {
     "name": "stderr",
     "output_type": "stream",
     "text": [
      "100%|█████████████████████████████████████████████████████████████████████████████████| 338/338 [00:23<00:00, 14.40it/s]\n"
     ]
    },
    {
     "name": "stdout",
     "output_type": "stream",
     "text": [
      "Epoch [33/50]\n"
     ]
    },
    {
     "name": "stderr",
     "output_type": "stream",
     "text": [
      "100%|█████████████████████████████████████████████████████████████████████████████████| 338/338 [00:23<00:00, 14.66it/s]\n"
     ]
    },
    {
     "name": "stdout",
     "output_type": "stream",
     "text": [
      "Epoch [34/50]\n"
     ]
    },
    {
     "name": "stderr",
     "output_type": "stream",
     "text": [
      "100%|█████████████████████████████████████████████████████████████████████████████████| 338/338 [00:22<00:00, 14.85it/s]\n"
     ]
    },
    {
     "name": "stdout",
     "output_type": "stream",
     "text": [
      "Epoch [35/50]\n"
     ]
    },
    {
     "name": "stderr",
     "output_type": "stream",
     "text": [
      "100%|█████████████████████████████████████████████████████████████████████████████████| 338/338 [00:23<00:00, 14.64it/s]\n"
     ]
    },
    {
     "name": "stdout",
     "output_type": "stream",
     "text": [
      "Epoch [36/50]\n"
     ]
    },
    {
     "name": "stderr",
     "output_type": "stream",
     "text": [
      "100%|█████████████████████████████████████████████████████████████████████████████████| 338/338 [00:22<00:00, 14.81it/s]\n"
     ]
    },
    {
     "name": "stdout",
     "output_type": "stream",
     "text": [
      "Epoch [37/50]\n"
     ]
    },
    {
     "name": "stderr",
     "output_type": "stream",
     "text": [
      "100%|█████████████████████████████████████████████████████████████████████████████████| 338/338 [00:23<00:00, 14.64it/s]\n"
     ]
    },
    {
     "name": "stdout",
     "output_type": "stream",
     "text": [
      "Epoch [38/50]\n"
     ]
    },
    {
     "name": "stderr",
     "output_type": "stream",
     "text": [
      "100%|█████████████████████████████████████████████████████████████████████████████████| 338/338 [00:23<00:00, 14.59it/s]\n"
     ]
    },
    {
     "name": "stdout",
     "output_type": "stream",
     "text": [
      "Epoch [39/50]\n"
     ]
    },
    {
     "name": "stderr",
     "output_type": "stream",
     "text": [
      "100%|█████████████████████████████████████████████████████████████████████████████████| 338/338 [00:23<00:00, 14.18it/s]\n"
     ]
    },
    {
     "name": "stdout",
     "output_type": "stream",
     "text": [
      "Epoch [40/50]\n"
     ]
    },
    {
     "name": "stderr",
     "output_type": "stream",
     "text": [
      "100%|█████████████████████████████████████████████████████████████████████████████████| 338/338 [00:25<00:00, 13.25it/s]\n"
     ]
    },
    {
     "name": "stdout",
     "output_type": "stream",
     "text": [
      "Epoch [41/50]\n"
     ]
    },
    {
     "name": "stderr",
     "output_type": "stream",
     "text": [
      "100%|█████████████████████████████████████████████████████████████████████████████████| 338/338 [00:26<00:00, 12.90it/s]\n"
     ]
    },
    {
     "name": "stdout",
     "output_type": "stream",
     "text": [
      "Epoch [42/50]\n"
     ]
    },
    {
     "name": "stderr",
     "output_type": "stream",
     "text": [
      "100%|█████████████████████████████████████████████████████████████████████████████████| 338/338 [00:25<00:00, 13.22it/s]\n"
     ]
    },
    {
     "name": "stdout",
     "output_type": "stream",
     "text": [
      "Epoch [43/50]\n"
     ]
    },
    {
     "name": "stderr",
     "output_type": "stream",
     "text": [
      "100%|█████████████████████████████████████████████████████████████████████████████████| 338/338 [00:25<00:00, 13.22it/s]\n"
     ]
    },
    {
     "name": "stdout",
     "output_type": "stream",
     "text": [
      "Epoch [44/50]\n"
     ]
    },
    {
     "name": "stderr",
     "output_type": "stream",
     "text": [
      "100%|█████████████████████████████████████████████████████████████████████████████████| 338/338 [00:26<00:00, 12.61it/s]\n"
     ]
    },
    {
     "name": "stdout",
     "output_type": "stream",
     "text": [
      "Epoch [45/50]\n"
     ]
    },
    {
     "name": "stderr",
     "output_type": "stream",
     "text": [
      "100%|█████████████████████████████████████████████████████████████████████████████████| 338/338 [00:26<00:00, 13.00it/s]\n"
     ]
    },
    {
     "name": "stdout",
     "output_type": "stream",
     "text": [
      "Epoch [46/50]\n"
     ]
    },
    {
     "name": "stderr",
     "output_type": "stream",
     "text": [
      "100%|█████████████████████████████████████████████████████████████████████████████████| 338/338 [00:26<00:00, 12.88it/s]\n"
     ]
    },
    {
     "name": "stdout",
     "output_type": "stream",
     "text": [
      "Epoch [47/50]\n"
     ]
    },
    {
     "name": "stderr",
     "output_type": "stream",
     "text": [
      "100%|█████████████████████████████████████████████████████████████████████████████████| 338/338 [00:26<00:00, 12.90it/s]\n"
     ]
    },
    {
     "name": "stdout",
     "output_type": "stream",
     "text": [
      "Epoch [48/50]\n"
     ]
    },
    {
     "name": "stderr",
     "output_type": "stream",
     "text": [
      "100%|█████████████████████████████████████████████████████████████████████████████████| 338/338 [00:27<00:00, 12.39it/s]\n"
     ]
    },
    {
     "name": "stdout",
     "output_type": "stream",
     "text": [
      "Epoch [49/50]\n"
     ]
    },
    {
     "name": "stderr",
     "output_type": "stream",
     "text": [
      "100%|█████████████████████████████████████████████████████████████████████████████████| 338/338 [00:26<00:00, 12.72it/s]\n"
     ]
    },
    {
     "name": "stdout",
     "output_type": "stream",
     "text": [
      "Epoch [50/50]\n"
     ]
    },
    {
     "name": "stderr",
     "output_type": "stream",
     "text": [
      "100%|█████████████████████████████████████████████████████████████████████████████████| 338/338 [00:25<00:00, 13.16it/s]\n"
     ]
    }
   ],
   "source": [
    "for epoch in range(num_epochs):\n",
    "    print(f\"Epoch [{epoch + 1}/{num_epochs}]\")\n",
    "    for batch_index, (data, targets) in enumerate(tqdm(train_loader)):\n",
    "        \n",
    "        scores = model(data)\n",
    "        loss = criterion(scores, targets)\n",
    "\n",
    "        optimizer.zero_grad()\n",
    "        loss.backward()\n",
    "\n",
    "        optimizer.step()"
   ]
  },
  {
   "cell_type": "code",
   "execution_count": 25,
   "id": "227f12ce",
   "metadata": {},
   "outputs": [
    {
     "name": "stdout",
     "output_type": "stream",
     "text": [
      "Checking accuracy on training data\n",
      "Got 10346/10800 with accuracy 95.80%\n",
      "Checking accuracy on test data\n",
      "Got 671/1200 with accuracy 55.92%\n"
     ]
    }
   ],
   "source": [
    "def check_accuracy(loader, model):\n",
    "    if loader == train_loader:\n",
    "        print(\"Checking accuracy on training data\")\n",
    "    else:\n",
    "        print(\"Checking accuracy on test data\")\n",
    "\n",
    "    num_correct = 0\n",
    "    num_samples = 0\n",
    "    model.eval()  \n",
    "\n",
    "    with torch.no_grad():  \n",
    "        for x, y in loader:\n",
    "            scores = model(x)\n",
    "            _, predictions = scores.max(1)  \n",
    "            num_correct += (predictions == y).sum()  \n",
    "            num_samples += predictions.size(0)  \n",
    "\n",
    "        accuracy = float(num_correct) / float(num_samples) * 100\n",
    "        print(f\"Got {num_correct}/{num_samples} with accuracy {accuracy:.2f}%\")\n",
    "    \n",
    "    model.train()  \n",
    "\n",
    "check_accuracy(train_loader, model)\n",
    "check_accuracy(test_loader, model)"
   ]
  },
  {
   "cell_type": "code",
   "execution_count": null,
   "id": "fe3df798",
   "metadata": {},
   "outputs": [],
   "source": []
  }
 ],
 "metadata": {
  "kernelspec": {
   "display_name": "Python 3 (ipykernel)",
   "language": "python",
   "name": "python3"
  },
  "language_info": {
   "codemirror_mode": {
    "name": "ipython",
    "version": 3
   },
   "file_extension": ".py",
   "mimetype": "text/x-python",
   "name": "python",
   "nbconvert_exporter": "python",
   "pygments_lexer": "ipython3",
   "version": "3.8.10"
  }
 },
 "nbformat": 4,
 "nbformat_minor": 5
}
