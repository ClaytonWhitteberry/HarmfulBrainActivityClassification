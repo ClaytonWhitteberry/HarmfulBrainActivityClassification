{
 "cells": [
  {
   "cell_type": "markdown",
   "id": "3e0272b8",
   "metadata": {},
   "source": [
    "### Combining Feature Sets  \n",
    "  \n",
    "This notebook will be dedicated to further feature evaluation. The goal is to combine feature sets to get an idea of how each if affecting performance and then to reduce dimensions by averaging channels and selecting the most important features from whatever features remain.  \n",
    "  \n",
    "I will also be trying PCA with some of these feature sets (especially the wavelet feature sets), but this will be done in a separate notebook."
   ]
  },
  {
   "cell_type": "code",
   "execution_count": 1,
   "id": "f77bde38",
   "metadata": {},
   "outputs": [],
   "source": [
    "import numpy as np\n",
    "import pandas as pd\n",
    "import matplotlib.pyplot as plt\n",
    "import fastparquet, pyarrow\n",
    "import mne\n",
    "from mne.decoding import Scaler\n",
    "from sklearn.preprocessing import StandardScaler\n",
    "from sklearn.model_selection import train_test_split\n",
    "from sklearn.neighbors import KNeighborsClassifier\n",
    "from sklearn.metrics import classification_report, f1_score, accuracy_score, precision_score, recall_score\n",
    "from utils import *"
   ]
  },
  {
   "cell_type": "code",
   "execution_count": 2,
   "id": "93df0685",
   "metadata": {},
   "outputs": [],
   "source": [
    "mne.set_log_level('WARNING')"
   ]
  },
  {
   "cell_type": "code",
   "execution_count": 3,
   "id": "91998143",
   "metadata": {},
   "outputs": [],
   "source": [
    "df = pd.read_csv('by_patient.csv')"
   ]
  },
  {
   "cell_type": "code",
   "execution_count": 4,
   "id": "8933b5a4",
   "metadata": {},
   "outputs": [],
   "source": [
    "other_df = activity_df(df, 'Other', 'expert_consensus')\n",
    "seizure_df = activity_df(df, 'Seizure', 'expert_consensus')\n",
    "gpd_df = activity_df(df, 'GPD', 'expert_consensus')\n",
    "lpd_df = activity_df(df, 'LPD', 'expert_consensus')\n",
    "grda_df = activity_df(df, 'GRDA', 'expert_consensus')\n",
    "lrda_df = activity_df(df, 'LRDA', 'expert_consensus')\n",
    "activity_df_list = [other_df, seizure_df, gpd_df, lpd_df, grda_df, lrda_df]"
   ]
  },
  {
   "cell_type": "code",
   "execution_count": 5,
   "id": "ea7d92fa",
   "metadata": {},
   "outputs": [],
   "source": [
    "#other_indexes = get_indexes(other_df, 2000)\n",
    "#seizure_indexes = get_indexes(seizure_df, 2000)\n",
    "#gpd_indexes = get_indexes(gpd_df, 2000)\n",
    "#lpd_indexes = get_indexes(lpd_df, 2000)\n",
    "#grda_indexes = get_indexes(grda_df, 2000)\n",
    "#lrda_indexes = get_indexes(lrda_df, 2000)"
   ]
  },
  {
   "cell_type": "code",
   "execution_count": 6,
   "id": "a2e2369e",
   "metadata": {},
   "outputs": [],
   "source": [
    "#activity_indexes = [other_indexes, seizure_indexes, gpd_indexes, lpd_indexes,\n",
    "#                   grda_indexes, lrda_indexes]"
   ]
  },
  {
   "cell_type": "code",
   "execution_count": 11,
   "id": "b26c5d45",
   "metadata": {},
   "outputs": [],
   "source": [
    "#activity_indexes = pd.DataFrame(activity_indexes, index = ['Other', 'Seizure', 'GPD', 'LPD', 'GRDA', 'LRDA']).transpose()"
   ]
  },
  {
   "cell_type": "code",
   "execution_count": 12,
   "id": "5eabe3e8",
   "metadata": {},
   "outputs": [],
   "source": [
    "#activity_indexes.to_csv('activity_indexes.csv', index = None)"
   ]
  },
  {
   "cell_type": "code",
   "execution_count": 6,
   "id": "78ba8447",
   "metadata": {},
   "outputs": [],
   "source": [
    "activity_indexes = pd.read_csv('activity_indexes.csv')"
   ]
  },
  {
   "cell_type": "code",
   "execution_count": 7,
   "id": "539f8fce",
   "metadata": {},
   "outputs": [],
   "source": [
    "index_lists = [activity_indexes[col] for col in activity_indexes.columns]"
   ]
  },
  {
   "cell_type": "code",
   "execution_count": 8,
   "id": "8c0b9417",
   "metadata": {},
   "outputs": [],
   "source": [
    "y = get_yvals(2000)['activity']"
   ]
  },
  {
   "cell_type": "markdown",
   "id": "8a90f029",
   "metadata": {},
   "source": [
    "### Band Power Features"
   ]
  },
  {
   "cell_type": "code",
   "execution_count": 19,
   "id": "d24a8468",
   "metadata": {},
   "outputs": [],
   "source": [
    "#band_pow_df = full_band_df(activity_df_list, index_lists, 1, None, bandpass = True,\n",
    "#                          notch = False, reref = True)\n",
    "#band_pow_df.to_csv('band_pow_df.csv', index = None)"
   ]
  },
  {
   "cell_type": "code",
   "execution_count": 22,
   "id": "d76c5708",
   "metadata": {},
   "outputs": [],
   "source": [
    "X = pd.read_csv('band_pow_df.csv')\n",
    "\n",
    "scaler = StandardScaler()\n",
    "X = scaler.fit_transform(X)\n",
    "\n",
    "X_train, X_test, y_train, y_test = train_test_split(X, y, test_size = 0.1, random_state = 42)"
   ]
  },
  {
   "cell_type": "code",
   "execution_count": 23,
   "id": "9fb9952d",
   "metadata": {},
   "outputs": [
    {
     "name": "stdout",
     "output_type": "stream",
     "text": [
      "Band Power Training\n",
      "              precision    recall  f1-score   support\n",
      "\n",
      "         GPD       0.83      0.94      0.88      1794\n",
      "        GRDA       0.79      0.89      0.84      1819\n",
      "         LPD       0.78      0.89      0.83      1800\n",
      "        LRDA       0.84      0.90      0.87      1795\n",
      "       Other       0.80      0.61      0.69      1808\n",
      "     Seizure       0.91      0.69      0.78      1784\n",
      "\n",
      "    accuracy                           0.82     10800\n",
      "   macro avg       0.82      0.82      0.82     10800\n",
      "weighted avg       0.82      0.82      0.82     10800\n",
      "\n",
      "Band Power Testing\n",
      "              precision    recall  f1-score   support\n",
      "\n",
      "         GPD       0.78      0.89      0.83       206\n",
      "        GRDA       0.64      0.78      0.71       181\n",
      "         LPD       0.69      0.81      0.75       200\n",
      "        LRDA       0.74      0.81      0.78       205\n",
      "       Other       0.54      0.44      0.49       192\n",
      "     Seizure       0.82      0.50      0.62       216\n",
      "\n",
      "    accuracy                           0.70      1200\n",
      "   macro avg       0.70      0.71      0.70      1200\n",
      "weighted avg       0.71      0.70      0.70      1200\n",
      "\n"
     ]
    }
   ],
   "source": [
    "knn = KNeighborsClassifier()\n",
    "knn.fit(X_train, y_train)\n",
    "training_yhat = knn.predict(X_train)\n",
    "testing_yhat = knn.predict(X_test)\n",
    "print('Band Power Training')\n",
    "print(classification_report(y_train, training_yhat))\n",
    "print('Band Power Testing')\n",
    "print(classification_report(y_test, testing_yhat))\n",
    "band_power_acc = accuracy_score(y_test, testing_yhat)\n",
    "band_power_macro_f1 = f1_score(y_test, testing_yhat, average = 'macro')\n",
    "band_power_f1 = f1_score(y_test, testing_yhat, average = None)\n",
    "band_power_prec = precision_score(y_test, testing_yhat, average = None)\n",
    "band_power_rec = recall_score(y_test, testing_yhat, average = None)"
   ]
  },
  {
   "cell_type": "markdown",
   "id": "ad91a052",
   "metadata": {},
   "source": [
    "### Adding Hjorth Complexity to Band Power Set  \n",
    "  \n",
    "**Time-Domain**"
   ]
  },
  {
   "cell_type": "code",
   "execution_count": 25,
   "id": "f9aff49f",
   "metadata": {},
   "outputs": [],
   "source": [
    "#time_comp_df = full_complexity_df(activity_df_list, index_lists, 1, None,\n",
    "#                                 bandpass = True, notch = False, reref = True, spectral = False)\n",
    "#time_comp_df.to_csv('time_comp_df.csv', index = None)"
   ]
  },
  {
   "cell_type": "code",
   "execution_count": 26,
   "id": "0d9a7692",
   "metadata": {},
   "outputs": [],
   "source": [
    "X1 = pd.read_csv('band_pow_df.csv')\n",
    "X2 = pd.read_csv('time_comp_df.csv')\n",
    "cols1, cols2 = X1.columns, X2.columns\n",
    "\n",
    "scaler1 = StandardScaler()\n",
    "X1 = scaler1.fit_transform(X1)\n",
    "X1 = pd.DataFrame(X1, columns = cols1)\n",
    "\n",
    "scaler2 = StandardScaler()\n",
    "X2 = scaler2.fit_transform(X2)\n",
    "X2 = pd.DataFrame(X2, columns = cols2)\n",
    "\n",
    "X = pd.concat([X1, X2], axis = 1)\n",
    "\n",
    "X_train, X_test, y_train, y_test = train_test_split(X, y, test_size = 0.1, random_state = 42)"
   ]
  },
  {
   "cell_type": "code",
   "execution_count": 27,
   "id": "0dddebd5",
   "metadata": {},
   "outputs": [
    {
     "name": "stdout",
     "output_type": "stream",
     "text": [
      "Band Power and Hjorth Complexity (Time) Training\n",
      "              precision    recall  f1-score   support\n",
      "\n",
      "         GPD       0.83      0.94      0.88      1794\n",
      "        GRDA       0.80      0.88      0.84      1819\n",
      "         LPD       0.77      0.90      0.83      1800\n",
      "        LRDA       0.84      0.90      0.87      1795\n",
      "       Other       0.80      0.62      0.70      1808\n",
      "     Seizure       0.90      0.69      0.78      1784\n",
      "\n",
      "    accuracy                           0.82     10800\n",
      "   macro avg       0.82      0.82      0.82     10800\n",
      "weighted avg       0.82      0.82      0.82     10800\n",
      "\n",
      "Band Power and Hjorth Complexity (Time) Testing\n",
      "              precision    recall  f1-score   support\n",
      "\n",
      "         GPD       0.81      0.89      0.85       206\n",
      "        GRDA       0.65      0.80      0.72       181\n",
      "         LPD       0.68      0.82      0.74       200\n",
      "        LRDA       0.76      0.84      0.80       205\n",
      "       Other       0.56      0.42      0.48       192\n",
      "     Seizure       0.81      0.52      0.63       216\n",
      "\n",
      "    accuracy                           0.71      1200\n",
      "   macro avg       0.71      0.71      0.70      1200\n",
      "weighted avg       0.72      0.71      0.70      1200\n",
      "\n"
     ]
    }
   ],
   "source": [
    "knn = KNeighborsClassifier()\n",
    "knn.fit(X_train, y_train)\n",
    "training_yhat = knn.predict(X_train)\n",
    "testing_yhat = knn.predict(X_test)\n",
    "print('Band Power and Hjorth Complexity (Time) Training')\n",
    "print(classification_report(y_train, training_yhat))\n",
    "print('Band Power and Hjorth Complexity (Time) Testing')\n",
    "print(classification_report(y_test, testing_yhat))\n",
    "comp_band_power_acc = accuracy_score(y_test, testing_yhat)\n",
    "comp_band_power_macro_f1 = f1_score(y_test, testing_yhat, average = 'macro')\n",
    "comp_band_power_f1 = f1_score(y_test, testing_yhat, average = None)\n",
    "comp_band_power_prec = precision_score(y_test, testing_yhat, average = None)\n",
    "comp_band_power_rec = recall_score(y_test, testing_yhat, average = None)"
   ]
  },
  {
   "cell_type": "code",
   "execution_count": 28,
   "id": "73cfc51e",
   "metadata": {},
   "outputs": [],
   "source": [
    "precisions = pd.DataFrame(band_power_prec, columns = ['Band Power'])\n",
    "precisions['Power and Complexity'] = comp_band_power_prec\n",
    "\n",
    "recalls = pd.DataFrame(band_power_rec, columns = ['Band Power'])\n",
    "recalls['Power and Complexity'] = comp_band_power_rec\n",
    "\n",
    "f1_scores = pd.DataFrame(band_power_f1, columns = ['Band Power'])\n",
    "f1_scores['Power and Complexity'] = comp_band_power_f1"
   ]
  },
  {
   "cell_type": "markdown",
   "id": "a36911e0",
   "metadata": {},
   "source": [
    "### Notes on Results  \n",
    "  \n",
    "Essentially no change in results by adding the time-domain complexity data. That doesn't mean there isn't useful data in that feature set, but more work will need to be done in terms of dimensionality reduction and feature selection in order to see improvement in results."
   ]
  },
  {
   "cell_type": "code",
   "execution_count": 29,
   "id": "4a46f391",
   "metadata": {},
   "outputs": [
    {
     "data": {
      "text/html": [
       "<div>\n",
       "<style scoped>\n",
       "    .dataframe tbody tr th:only-of-type {\n",
       "        vertical-align: middle;\n",
       "    }\n",
       "\n",
       "    .dataframe tbody tr th {\n",
       "        vertical-align: top;\n",
       "    }\n",
       "\n",
       "    .dataframe thead th {\n",
       "        text-align: right;\n",
       "    }\n",
       "</style>\n",
       "<table border=\"1\" class=\"dataframe\">\n",
       "  <thead>\n",
       "    <tr style=\"text-align: right;\">\n",
       "      <th></th>\n",
       "      <th>Band Power</th>\n",
       "      <th>Power and Complexity</th>\n",
       "    </tr>\n",
       "  </thead>\n",
       "  <tbody>\n",
       "    <tr>\n",
       "      <th>0</th>\n",
       "      <td>0.779</td>\n",
       "      <td>0.806</td>\n",
       "    </tr>\n",
       "    <tr>\n",
       "      <th>1</th>\n",
       "      <td>0.643</td>\n",
       "      <td>0.647</td>\n",
       "    </tr>\n",
       "    <tr>\n",
       "      <th>2</th>\n",
       "      <td>0.694</td>\n",
       "      <td>0.679</td>\n",
       "    </tr>\n",
       "    <tr>\n",
       "      <th>3</th>\n",
       "      <td>0.744</td>\n",
       "      <td>0.764</td>\n",
       "    </tr>\n",
       "    <tr>\n",
       "      <th>4</th>\n",
       "      <td>0.545</td>\n",
       "      <td>0.559</td>\n",
       "    </tr>\n",
       "    <tr>\n",
       "      <th>5</th>\n",
       "      <td>0.820</td>\n",
       "      <td>0.812</td>\n",
       "    </tr>\n",
       "  </tbody>\n",
       "</table>\n",
       "</div>"
      ],
      "text/plain": [
       "   Band Power  Power and Complexity\n",
       "0       0.779                 0.806\n",
       "1       0.643                 0.647\n",
       "2       0.694                 0.679\n",
       "3       0.744                 0.764\n",
       "4       0.545                 0.559\n",
       "5       0.820                 0.812"
      ]
     },
     "execution_count": 29,
     "metadata": {},
     "output_type": "execute_result"
    }
   ],
   "source": [
    "precisions.round(decimals = 3)"
   ]
  },
  {
   "cell_type": "code",
   "execution_count": 30,
   "id": "3e79d7f5",
   "metadata": {},
   "outputs": [
    {
     "data": {
      "text/html": [
       "<div>\n",
       "<style scoped>\n",
       "    .dataframe tbody tr th:only-of-type {\n",
       "        vertical-align: middle;\n",
       "    }\n",
       "\n",
       "    .dataframe tbody tr th {\n",
       "        vertical-align: top;\n",
       "    }\n",
       "\n",
       "    .dataframe thead th {\n",
       "        text-align: right;\n",
       "    }\n",
       "</style>\n",
       "<table border=\"1\" class=\"dataframe\">\n",
       "  <thead>\n",
       "    <tr style=\"text-align: right;\">\n",
       "      <th></th>\n",
       "      <th>Band Power</th>\n",
       "      <th>Power and Complexity</th>\n",
       "    </tr>\n",
       "  </thead>\n",
       "  <tbody>\n",
       "    <tr>\n",
       "      <th>0</th>\n",
       "      <td>0.888</td>\n",
       "      <td>0.888</td>\n",
       "    </tr>\n",
       "    <tr>\n",
       "      <th>1</th>\n",
       "      <td>0.785</td>\n",
       "      <td>0.801</td>\n",
       "    </tr>\n",
       "    <tr>\n",
       "      <th>2</th>\n",
       "      <td>0.805</td>\n",
       "      <td>0.825</td>\n",
       "    </tr>\n",
       "    <tr>\n",
       "      <th>3</th>\n",
       "      <td>0.810</td>\n",
       "      <td>0.839</td>\n",
       "    </tr>\n",
       "    <tr>\n",
       "      <th>4</th>\n",
       "      <td>0.443</td>\n",
       "      <td>0.417</td>\n",
       "    </tr>\n",
       "    <tr>\n",
       "      <th>5</th>\n",
       "      <td>0.505</td>\n",
       "      <td>0.519</td>\n",
       "    </tr>\n",
       "  </tbody>\n",
       "</table>\n",
       "</div>"
      ],
      "text/plain": [
       "   Band Power  Power and Complexity\n",
       "0       0.888                 0.888\n",
       "1       0.785                 0.801\n",
       "2       0.805                 0.825\n",
       "3       0.810                 0.839\n",
       "4       0.443                 0.417\n",
       "5       0.505                 0.519"
      ]
     },
     "execution_count": 30,
     "metadata": {},
     "output_type": "execute_result"
    }
   ],
   "source": [
    "recalls.round(decimals = 3)"
   ]
  },
  {
   "cell_type": "code",
   "execution_count": 31,
   "id": "dfa1dbec",
   "metadata": {},
   "outputs": [
    {
     "data": {
      "text/html": [
       "<div>\n",
       "<style scoped>\n",
       "    .dataframe tbody tr th:only-of-type {\n",
       "        vertical-align: middle;\n",
       "    }\n",
       "\n",
       "    .dataframe tbody tr th {\n",
       "        vertical-align: top;\n",
       "    }\n",
       "\n",
       "    .dataframe thead th {\n",
       "        text-align: right;\n",
       "    }\n",
       "</style>\n",
       "<table border=\"1\" class=\"dataframe\">\n",
       "  <thead>\n",
       "    <tr style=\"text-align: right;\">\n",
       "      <th></th>\n",
       "      <th>Band Power</th>\n",
       "      <th>Power and Complexity</th>\n",
       "    </tr>\n",
       "  </thead>\n",
       "  <tbody>\n",
       "    <tr>\n",
       "      <th>0</th>\n",
       "      <td>0.830</td>\n",
       "      <td>0.845</td>\n",
       "    </tr>\n",
       "    <tr>\n",
       "      <th>1</th>\n",
       "      <td>0.706</td>\n",
       "      <td>0.716</td>\n",
       "    </tr>\n",
       "    <tr>\n",
       "      <th>2</th>\n",
       "      <td>0.745</td>\n",
       "      <td>0.745</td>\n",
       "    </tr>\n",
       "    <tr>\n",
       "      <th>3</th>\n",
       "      <td>0.776</td>\n",
       "      <td>0.800</td>\n",
       "    </tr>\n",
       "    <tr>\n",
       "      <th>4</th>\n",
       "      <td>0.489</td>\n",
       "      <td>0.478</td>\n",
       "    </tr>\n",
       "    <tr>\n",
       "      <th>5</th>\n",
       "      <td>0.625</td>\n",
       "      <td>0.633</td>\n",
       "    </tr>\n",
       "  </tbody>\n",
       "</table>\n",
       "</div>"
      ],
      "text/plain": [
       "   Band Power  Power and Complexity\n",
       "0       0.830                 0.845\n",
       "1       0.706                 0.716\n",
       "2       0.745                 0.745\n",
       "3       0.776                 0.800\n",
       "4       0.489                 0.478\n",
       "5       0.625                 0.633"
      ]
     },
     "execution_count": 31,
     "metadata": {},
     "output_type": "execute_result"
    }
   ],
   "source": [
    "f1_scores.round(decimals = 3)"
   ]
  },
  {
   "cell_type": "markdown",
   "id": "0c1dbe24",
   "metadata": {},
   "source": [
    "**Frequency-Domain**"
   ]
  },
  {
   "cell_type": "code",
   "execution_count": 32,
   "id": "b6433178",
   "metadata": {},
   "outputs": [],
   "source": [
    "#freq_comp_df = full_complexity_df(activity_df_list, index_lists, 1, None,\n",
    "#                                 bandpass = True, notch = False, reref = True, spectral = True)\n",
    "#freq_comp_df.to_csv('freq_comp_df.csv', index = None)"
   ]
  },
  {
   "cell_type": "code",
   "execution_count": 33,
   "id": "c7161212",
   "metadata": {},
   "outputs": [],
   "source": [
    "X1 = pd.read_csv('band_pow_df.csv')\n",
    "X2 = pd.read_csv('freq_comp_df.csv')\n",
    "cols1, cols2 = X1.columns, X2.columns\n",
    "\n",
    "scaler1 = StandardScaler()\n",
    "X1 = scaler1.fit_transform(X1)\n",
    "X1 = pd.DataFrame(X1, columns = cols1)\n",
    "\n",
    "scaler2 = StandardScaler()\n",
    "X2 = scaler2.fit_transform(X2)\n",
    "X2 = pd.DataFrame(X2, columns = cols2)\n",
    "\n",
    "X = pd.concat([X1, X2], axis = 1)\n",
    "\n",
    "X_train, X_test, y_train, y_test = train_test_split(X, y, test_size = 0.1, random_state = 42)"
   ]
  },
  {
   "cell_type": "code",
   "execution_count": 34,
   "id": "cf6d4ef7",
   "metadata": {},
   "outputs": [
    {
     "name": "stdout",
     "output_type": "stream",
     "text": [
      "Band Power and Hjorth Complexity (Frequency) Training\n",
      "              precision    recall  f1-score   support\n",
      "\n",
      "         GPD       0.82      0.94      0.88      1794\n",
      "        GRDA       0.79      0.88      0.83      1819\n",
      "         LPD       0.78      0.89      0.83      1800\n",
      "        LRDA       0.84      0.90      0.87      1795\n",
      "       Other       0.81      0.62      0.70      1808\n",
      "     Seizure       0.90      0.69      0.78      1784\n",
      "\n",
      "    accuracy                           0.82     10800\n",
      "   macro avg       0.82      0.82      0.82     10800\n",
      "weighted avg       0.82      0.82      0.82     10800\n",
      "\n",
      "Band Power and Hjorth Complexity (Frequency) Testing\n",
      "              precision    recall  f1-score   support\n",
      "\n",
      "         GPD       0.77      0.88      0.82       206\n",
      "        GRDA       0.69      0.80      0.74       181\n",
      "         LPD       0.70      0.80      0.75       200\n",
      "        LRDA       0.75      0.82      0.78       205\n",
      "       Other       0.56      0.46      0.51       192\n",
      "     Seizure       0.81      0.54      0.65       216\n",
      "\n",
      "    accuracy                           0.72      1200\n",
      "   macro avg       0.71      0.72      0.71      1200\n",
      "weighted avg       0.72      0.72      0.71      1200\n",
      "\n"
     ]
    }
   ],
   "source": [
    "knn = KNeighborsClassifier()\n",
    "knn.fit(X_train, y_train)\n",
    "training_yhat = knn.predict(X_train)\n",
    "testing_yhat = knn.predict(X_test)\n",
    "print('Band Power and Hjorth Complexity (Frequency) Training')\n",
    "print(classification_report(y_train, training_yhat))\n",
    "print('Band Power and Hjorth Complexity (Frequency) Testing')\n",
    "print(classification_report(y_test, testing_yhat))\n",
    "comp2_band_power_acc = accuracy_score(y_test, testing_yhat)\n",
    "comp2_band_power_macro_f1 = f1_score(y_test, testing_yhat, average = 'macro')\n",
    "comp2_band_power_f1 = f1_score(y_test, testing_yhat, average = None)\n",
    "comp2_band_power_prec = precision_score(y_test, testing_yhat, average = None)\n",
    "comp2_band_power_rec = recall_score(y_test, testing_yhat, average = None)"
   ]
  },
  {
   "cell_type": "code",
   "execution_count": 35,
   "id": "e552d529",
   "metadata": {},
   "outputs": [],
   "source": [
    "precisions['Power and Spectral Complexity'] = comp2_band_power_prec\n",
    "recalls['Power and Spectral Complexity'] = comp2_band_power_rec\n",
    "f1_scores['Power and Spectral Complexity'] = comp2_band_power_f1"
   ]
  },
  {
   "cell_type": "markdown",
   "id": "4e9d7354",
   "metadata": {},
   "source": [
    "### Higuchi"
   ]
  },
  {
   "cell_type": "code",
   "execution_count": 36,
   "id": "02108ad9",
   "metadata": {},
   "outputs": [],
   "source": [
    "#higuchi_fd_set = full_higuchi_df(activity_df_list, index_lists, 1, None, bandpass = True, \n",
    "#                                notch = False, reref = True)\n",
    "#higuchi_fd_set.to_csv('higuchi_fd_set.csv', index = None)"
   ]
  },
  {
   "cell_type": "code",
   "execution_count": 37,
   "id": "89054b5e",
   "metadata": {},
   "outputs": [],
   "source": [
    "X1 = pd.read_csv('band_pow_df.csv')\n",
    "X2 = pd.read_csv('higuchi_fd_set.csv')\n",
    "cols1, cols2 = X1.columns, X2.columns\n",
    "\n",
    "scaler1 = StandardScaler()\n",
    "X1 = scaler1.fit_transform(X1)\n",
    "X1 = pd.DataFrame(X1, columns = cols1)\n",
    "\n",
    "scaler2 = StandardScaler()\n",
    "X2 = scaler2.fit_transform(X2)\n",
    "X2 = pd.DataFrame(X2, columns = cols2)\n",
    "\n",
    "X = pd.concat([X1, X2], axis = 1)\n",
    "\n",
    "X_train, X_test, y_train, y_test = train_test_split(X, y, test_size = 0.1, random_state = 42)"
   ]
  },
  {
   "cell_type": "code",
   "execution_count": 38,
   "id": "7434d66e",
   "metadata": {},
   "outputs": [
    {
     "name": "stdout",
     "output_type": "stream",
     "text": [
      "Band Power and Higuchi Fractal Dimension Training\n",
      "              precision    recall  f1-score   support\n",
      "\n",
      "         GPD       0.84      0.94      0.88      1794\n",
      "        GRDA       0.80      0.88      0.84      1819\n",
      "         LPD       0.77      0.90      0.83      1800\n",
      "        LRDA       0.84      0.90      0.87      1795\n",
      "       Other       0.80      0.62      0.70      1808\n",
      "     Seizure       0.89      0.69      0.78      1784\n",
      "\n",
      "    accuracy                           0.82     10800\n",
      "   macro avg       0.82      0.82      0.82     10800\n",
      "weighted avg       0.82      0.82      0.82     10800\n",
      "\n",
      "Band Power and Higuchi Fractal Dimension Testing\n",
      "              precision    recall  f1-score   support\n",
      "\n",
      "         GPD       0.80      0.91      0.85       206\n",
      "        GRDA       0.65      0.80      0.72       181\n",
      "         LPD       0.68      0.81      0.74       200\n",
      "        LRDA       0.75      0.80      0.77       205\n",
      "       Other       0.56      0.41      0.47       192\n",
      "     Seizure       0.81      0.54      0.65       216\n",
      "\n",
      "    accuracy                           0.71      1200\n",
      "   macro avg       0.71      0.71      0.70      1200\n",
      "weighted avg       0.71      0.71      0.70      1200\n",
      "\n"
     ]
    }
   ],
   "source": [
    "knn = KNeighborsClassifier()\n",
    "knn.fit(X_train, y_train)\n",
    "training_yhat = knn.predict(X_train)\n",
    "testing_yhat = knn.predict(X_test)\n",
    "print('Band Power and Higuchi Fractal Dimension Training')\n",
    "print(classification_report(y_train, training_yhat))\n",
    "print('Band Power and Higuchi Fractal Dimension Testing')\n",
    "print(classification_report(y_test, testing_yhat))\n",
    "higuchi_power_acc = accuracy_score(y_test, testing_yhat)\n",
    "higuchi_power_macro_f1 = f1_score(y_test, testing_yhat, average = 'macro')\n",
    "higuchi_power_f1 = f1_score(y_test, testing_yhat, average = None)\n",
    "higuchi_power_prec = precision_score(y_test, testing_yhat, average = None)\n",
    "higuchi_power_rec = recall_score(y_test, testing_yhat, average = None)"
   ]
  },
  {
   "cell_type": "code",
   "execution_count": 39,
   "id": "b941a316",
   "metadata": {},
   "outputs": [],
   "source": [
    "precisions['Power and Higuchi'] = higuchi_power_prec\n",
    "recalls['Power and Higuchi'] = higuchi_power_rec\n",
    "f1_scores['Power and Higuchi'] = higuchi_power_f1"
   ]
  },
  {
   "cell_type": "markdown",
   "id": "8ea0d4ef",
   "metadata": {},
   "source": [
    "### Katz"
   ]
  },
  {
   "cell_type": "code",
   "execution_count": 41,
   "id": "47c328ff",
   "metadata": {},
   "outputs": [],
   "source": [
    "#katz_fd_set = full_katz_df(activity_df_list, index_lists, 1, None, bandpass = True, \n",
    "#                                notch = False, reref = True)\n",
    "#katz_fd_set.to_csv('katz_fd_set.csv', index = None)"
   ]
  },
  {
   "cell_type": "code",
   "execution_count": 42,
   "id": "9481d1b2",
   "metadata": {},
   "outputs": [],
   "source": [
    "X1 = pd.read_csv('band_pow_df.csv')\n",
    "X2 = pd.read_csv('katz_fd_set.csv')\n",
    "cols1, cols2 = X1.columns, X2.columns\n",
    "\n",
    "scaler1 = StandardScaler()\n",
    "X1 = scaler1.fit_transform(X1)\n",
    "X1 = pd.DataFrame(X1, columns = cols1)\n",
    "\n",
    "scaler2 = StandardScaler()\n",
    "X2 = scaler2.fit_transform(X2)\n",
    "X2 = pd.DataFrame(X2, columns = cols2)\n",
    "\n",
    "X = pd.concat([X1, X2], axis = 1)\n",
    "\n",
    "X_train, X_test, y_train, y_test = train_test_split(X, y, test_size = 0.1, random_state = 42)"
   ]
  },
  {
   "cell_type": "code",
   "execution_count": 43,
   "id": "482eb913",
   "metadata": {},
   "outputs": [
    {
     "name": "stdout",
     "output_type": "stream",
     "text": [
      "Band Power and Katz Fractal Dimension Training\n",
      "              precision    recall  f1-score   support\n",
      "\n",
      "         GPD       0.83      0.94      0.88      1794\n",
      "        GRDA       0.79      0.88      0.84      1819\n",
      "         LPD       0.77      0.90      0.83      1800\n",
      "        LRDA       0.84      0.89      0.86      1795\n",
      "       Other       0.79      0.61      0.69      1808\n",
      "     Seizure       0.91      0.69      0.78      1784\n",
      "\n",
      "    accuracy                           0.82     10800\n",
      "   macro avg       0.82      0.82      0.81     10800\n",
      "weighted avg       0.82      0.82      0.81     10800\n",
      "\n",
      "Band Power and Katz Fractal Dimension Testing\n",
      "              precision    recall  f1-score   support\n",
      "\n",
      "         GPD       0.78      0.88      0.83       206\n",
      "        GRDA       0.64      0.79      0.71       181\n",
      "         LPD       0.68      0.81      0.74       200\n",
      "        LRDA       0.73      0.80      0.77       205\n",
      "       Other       0.54      0.42      0.47       192\n",
      "     Seizure       0.83      0.50      0.63       216\n",
      "\n",
      "    accuracy                           0.70      1200\n",
      "   macro avg       0.70      0.70      0.69      1200\n",
      "weighted avg       0.70      0.70      0.69      1200\n",
      "\n"
     ]
    }
   ],
   "source": [
    "knn = KNeighborsClassifier()\n",
    "knn.fit(X_train, y_train)\n",
    "training_yhat = knn.predict(X_train)\n",
    "testing_yhat = knn.predict(X_test)\n",
    "print('Band Power and Katz Fractal Dimension Training')\n",
    "print(classification_report(y_train, training_yhat))\n",
    "print('Band Power and Katz Fractal Dimension Testing')\n",
    "print(classification_report(y_test, testing_yhat))\n",
    "katz_power_acc = accuracy_score(y_test, testing_yhat)\n",
    "katz_power_macro_f1 = f1_score(y_test, testing_yhat, average = 'macro')\n",
    "katz_power_f1 = f1_score(y_test, testing_yhat, average = None)\n",
    "katz_power_prec = precision_score(y_test, testing_yhat, average = None)\n",
    "katz_power_rec = recall_score(y_test, testing_yhat, average = None)"
   ]
  },
  {
   "cell_type": "code",
   "execution_count": 44,
   "id": "e9471bdb",
   "metadata": {},
   "outputs": [],
   "source": [
    "precisions['Power and Katz'] = katz_power_prec\n",
    "recalls['Power and Katz'] = katz_power_rec\n",
    "f1_scores['Power and Katz'] = katz_power_f1"
   ]
  },
  {
   "cell_type": "markdown",
   "id": "e9be755c",
   "metadata": {},
   "source": [
    "### Wavelet Coef Energy"
   ]
  },
  {
   "cell_type": "code",
   "execution_count": 46,
   "id": "fb5e7674",
   "metadata": {},
   "outputs": [],
   "source": [
    "#coef_energy_df = full_coef_energy_df('db4', activity_df_list, index_lists, 1, None, bandpass = True, \n",
    "#                                notch = False, reref = True)\n",
    "#coef_energy_df.to_csv('coef_energy_df.csv', index = None)"
   ]
  },
  {
   "cell_type": "code",
   "execution_count": 47,
   "id": "bc1d8d45",
   "metadata": {},
   "outputs": [],
   "source": [
    "X1 = pd.read_csv('band_pow_df.csv')\n",
    "X2 = pd.read_csv('coef_energy_df.csv')\n",
    "cols1, cols2 = X1.columns, X2.columns\n",
    "\n",
    "scaler1 = StandardScaler()\n",
    "X1 = scaler1.fit_transform(X1)\n",
    "X1 = pd.DataFrame(X1, columns = cols1)\n",
    "\n",
    "scaler2 = StandardScaler()\n",
    "X2 = scaler2.fit_transform(X2)\n",
    "X2 = pd.DataFrame(X2, columns = cols2)\n",
    "\n",
    "X = pd.concat([X1, X2], axis = 1)\n",
    "\n",
    "X_train, X_test, y_train, y_test = train_test_split(X, y, test_size = 0.1, random_state = 42)"
   ]
  },
  {
   "cell_type": "code",
   "execution_count": 48,
   "id": "d1b49706",
   "metadata": {},
   "outputs": [
    {
     "name": "stdout",
     "output_type": "stream",
     "text": [
      "Band Power and Wavelet Coef Energy Training\n",
      "              precision    recall  f1-score   support\n",
      "\n",
      "         GPD       0.84      0.94      0.88      1794\n",
      "        GRDA       0.79      0.88      0.83      1819\n",
      "         LPD       0.78      0.90      0.84      1800\n",
      "        LRDA       0.83      0.89      0.86      1795\n",
      "       Other       0.78      0.64      0.70      1808\n",
      "     Seizure       0.92      0.66      0.77      1784\n",
      "\n",
      "    accuracy                           0.82     10800\n",
      "   macro avg       0.82      0.82      0.81     10800\n",
      "weighted avg       0.82      0.82      0.81     10800\n",
      "\n",
      "Band Power and Wavelet Coef Energy Testing\n",
      "              precision    recall  f1-score   support\n",
      "\n",
      "         GPD       0.75      0.89      0.82       206\n",
      "        GRDA       0.66      0.76      0.70       181\n",
      "         LPD       0.68      0.83      0.75       200\n",
      "        LRDA       0.77      0.80      0.79       205\n",
      "       Other       0.56      0.45      0.50       192\n",
      "     Seizure       0.84      0.51      0.64       216\n",
      "\n",
      "    accuracy                           0.71      1200\n",
      "   macro avg       0.71      0.71      0.70      1200\n",
      "weighted avg       0.71      0.71      0.70      1200\n",
      "\n"
     ]
    }
   ],
   "source": [
    "knn = KNeighborsClassifier()\n",
    "knn.fit(X_train, y_train)\n",
    "training_yhat = knn.predict(X_train)\n",
    "testing_yhat = knn.predict(X_test)\n",
    "print('Band Power and Wavelet Coef Energy Training')\n",
    "print(classification_report(y_train, training_yhat))\n",
    "print('Band Power and Wavelet Coef Energy Testing')\n",
    "print(classification_report(y_test, testing_yhat))\n",
    "coef_energy_power_acc = accuracy_score(y_test, testing_yhat)\n",
    "coef_energy_power_macro_f1 = f1_score(y_test, testing_yhat, average = 'macro')\n",
    "coef_energy_power_f1 = f1_score(y_test, testing_yhat, average = None)\n",
    "coef_energy_power_prec = precision_score(y_test, testing_yhat, average = None)\n",
    "coef_energy_power_rec = recall_score(y_test, testing_yhat, average = None)"
   ]
  },
  {
   "cell_type": "code",
   "execution_count": 49,
   "id": "5c3a17f6",
   "metadata": {},
   "outputs": [],
   "source": [
    "precisions['Power and Coef Energy'] = coef_energy_power_prec\n",
    "recalls['Power and Coef Energy'] = coef_energy_power_rec\n",
    "f1_scores['Power and Coef Energy'] = coef_energy_power_f1"
   ]
  },
  {
   "cell_type": "markdown",
   "id": "f27720d6",
   "metadata": {},
   "source": [
    "### Teager-Kaiser Energy"
   ]
  },
  {
   "cell_type": "code",
   "execution_count": 50,
   "id": "b871cd4f",
   "metadata": {},
   "outputs": [],
   "source": [
    "#tk_energy_df = full_tk_energy_df('db4', activity_df_list, index_lists, 1, None, bandpass = True, \n",
    "#                                notch = False, reref = True)\n",
    "#tk_energy_df.to_csv('tk_energy_df.csv', index = None)"
   ]
  },
  {
   "cell_type": "code",
   "execution_count": 51,
   "id": "f1381369",
   "metadata": {},
   "outputs": [],
   "source": [
    "X1 = pd.read_csv('band_pow_df.csv')\n",
    "X2 = pd.read_csv('tk_energy_df.csv')\n",
    "cols1, cols2 = X1.columns, X2.columns\n",
    "\n",
    "scaler1 = StandardScaler()\n",
    "X1 = scaler1.fit_transform(X1)\n",
    "X1 = pd.DataFrame(X1, columns = cols1)\n",
    "\n",
    "scaler2 = StandardScaler()\n",
    "X2 = scaler2.fit_transform(X2)\n",
    "X2 = pd.DataFrame(X2, columns = cols2)\n",
    "\n",
    "X = pd.concat([X1, X2], axis = 1)\n",
    "\n",
    "X_train, X_test, y_train, y_test = train_test_split(X, y, test_size = 0.1, random_state = 42)"
   ]
  },
  {
   "cell_type": "code",
   "execution_count": 52,
   "id": "e6d8ba35",
   "metadata": {},
   "outputs": [
    {
     "name": "stdout",
     "output_type": "stream",
     "text": [
      "Band Power and Teager-Kaiser Energy Training\n",
      "              precision    recall  f1-score   support\n",
      "\n",
      "         GPD       0.84      0.94      0.89      1794\n",
      "        GRDA       0.78      0.89      0.83      1819\n",
      "         LPD       0.78      0.88      0.83      1800\n",
      "        LRDA       0.82      0.91      0.86      1795\n",
      "       Other       0.79      0.63      0.70      1808\n",
      "     Seizure       0.90      0.65      0.76      1784\n",
      "\n",
      "    accuracy                           0.81     10800\n",
      "   macro avg       0.82      0.81      0.81     10800\n",
      "weighted avg       0.82      0.81      0.81     10800\n",
      "\n",
      "Band Power and Teager-Kaiser Energy Testing\n",
      "              precision    recall  f1-score   support\n",
      "\n",
      "         GPD       0.73      0.88      0.80       206\n",
      "        GRDA       0.63      0.76      0.69       181\n",
      "         LPD       0.67      0.81      0.73       200\n",
      "        LRDA       0.75      0.79      0.77       205\n",
      "       Other       0.57      0.41      0.47       192\n",
      "     Seizure       0.83      0.53      0.64       216\n",
      "\n",
      "    accuracy                           0.69      1200\n",
      "   macro avg       0.70      0.69      0.68      1200\n",
      "weighted avg       0.70      0.69      0.69      1200\n",
      "\n"
     ]
    }
   ],
   "source": [
    "knn = KNeighborsClassifier()\n",
    "knn.fit(X_train, y_train)\n",
    "training_yhat = knn.predict(X_train)\n",
    "testing_yhat = knn.predict(X_test)\n",
    "print('Band Power and Teager-Kaiser Energy Training')\n",
    "print(classification_report(y_train, training_yhat))\n",
    "print('Band Power and Teager-Kaiser Energy Testing')\n",
    "print(classification_report(y_test, testing_yhat))\n",
    "tk_energy_power_acc = accuracy_score(y_test, testing_yhat)\n",
    "tk_energy_power_macro_f1 = f1_score(y_test, testing_yhat, average = 'macro')\n",
    "tk_energy_power_f1 = f1_score(y_test, testing_yhat, average = None)\n",
    "tk_energy_power_prec = precision_score(y_test, testing_yhat, average = None)\n",
    "tk_energy_power_rec = recall_score(y_test, testing_yhat, average = None)"
   ]
  },
  {
   "cell_type": "code",
   "execution_count": 53,
   "id": "4f464f85",
   "metadata": {},
   "outputs": [],
   "source": [
    "precisions['Power and TK Energy'] = tk_energy_power_prec\n",
    "recalls['Power and TK Energy'] = tk_energy_power_rec\n",
    "f1_scores['Power and TK Energy'] = tk_energy_power_f1"
   ]
  },
  {
   "cell_type": "markdown",
   "id": "8d0eb729",
   "metadata": {},
   "source": [
    "### Zero Crossings"
   ]
  },
  {
   "cell_type": "code",
   "execution_count": 54,
   "id": "9c73792e",
   "metadata": {},
   "outputs": [],
   "source": [
    "#zero_xing_df = full_zero_xing_df(activity_df_list, index_lists, 1, None, bandpass = True, \n",
    "#                                notch = False, reref = True)\n",
    "#zero_xing_df.to_csv('zero_xing_df.csv', index = None)"
   ]
  },
  {
   "cell_type": "code",
   "execution_count": 55,
   "id": "ebbad65a",
   "metadata": {},
   "outputs": [],
   "source": [
    "X1 = pd.read_csv('band_pow_df.csv')\n",
    "X2 = pd.read_csv('zero_xing_df.csv')\n",
    "cols1, cols2 = X1.columns, X2.columns\n",
    "\n",
    "scaler1 = StandardScaler()\n",
    "X1 = scaler1.fit_transform(X1)\n",
    "X1 = pd.DataFrame(X1, columns = cols1)\n",
    "\n",
    "scaler2 = StandardScaler()\n",
    "X2 = scaler2.fit_transform(X2)\n",
    "X2 = pd.DataFrame(X2, columns = cols2)\n",
    "\n",
    "X = pd.concat([X1, X2], axis = 1)\n",
    "\n",
    "X_train, X_test, y_train, y_test = train_test_split(X, y, test_size = 0.1, random_state = 42)"
   ]
  },
  {
   "cell_type": "code",
   "execution_count": 56,
   "id": "799871f6",
   "metadata": {},
   "outputs": [
    {
     "name": "stdout",
     "output_type": "stream",
     "text": [
      "Band Power and Zero Crossings Training\n",
      "              precision    recall  f1-score   support\n",
      "\n",
      "         GPD       0.83      0.93      0.88      1794\n",
      "        GRDA       0.79      0.89      0.84      1819\n",
      "         LPD       0.78      0.90      0.83      1800\n",
      "        LRDA       0.84      0.90      0.87      1795\n",
      "       Other       0.79      0.61      0.69      1808\n",
      "     Seizure       0.90      0.70      0.78      1784\n",
      "\n",
      "    accuracy                           0.82     10800\n",
      "   macro avg       0.82      0.82      0.82     10800\n",
      "weighted avg       0.82      0.82      0.82     10800\n",
      "\n",
      "Band Power and Zero Crossings Testing\n",
      "              precision    recall  f1-score   support\n",
      "\n",
      "         GPD       0.79      0.91      0.84       206\n",
      "        GRDA       0.68      0.79      0.73       181\n",
      "         LPD       0.68      0.82      0.74       200\n",
      "        LRDA       0.77      0.83      0.80       205\n",
      "       Other       0.55      0.41      0.47       192\n",
      "     Seizure       0.82      0.56      0.67       216\n",
      "\n",
      "    accuracy                           0.72      1200\n",
      "   macro avg       0.72      0.72      0.71      1200\n",
      "weighted avg       0.72      0.72      0.71      1200\n",
      "\n"
     ]
    }
   ],
   "source": [
    "knn = KNeighborsClassifier()\n",
    "knn.fit(X_train, y_train)\n",
    "training_yhat = knn.predict(X_train)\n",
    "testing_yhat = knn.predict(X_test)\n",
    "print('Band Power and Zero Crossings Training')\n",
    "print(classification_report(y_train, training_yhat))\n",
    "print('Band Power and Zero Crossings Testing')\n",
    "print(classification_report(y_test, testing_yhat))\n",
    "zero_xing_power_acc = accuracy_score(y_test, testing_yhat)\n",
    "zero_xing_power_macro_f1 = f1_score(y_test, testing_yhat, average = 'macro')\n",
    "zero_xing_power_f1 = f1_score(y_test, testing_yhat, average = None)\n",
    "zero_xing_power_prec = precision_score(y_test, testing_yhat, average = None)\n",
    "zero_xing_power_rec = recall_score(y_test, testing_yhat, average = None)"
   ]
  },
  {
   "cell_type": "code",
   "execution_count": 57,
   "id": "40122566",
   "metadata": {},
   "outputs": [],
   "source": [
    "precisions['Power and Zero Crossings'] = zero_xing_power_prec\n",
    "recalls['Power and Zero Crossings'] = zero_xing_power_rec\n",
    "f1_scores['Power and Zero Crossings'] = zero_xing_power_f1"
   ]
  },
  {
   "cell_type": "markdown",
   "id": "846c2f45",
   "metadata": {},
   "source": [
    "### Line Length"
   ]
  },
  {
   "cell_type": "code",
   "execution_count": 64,
   "id": "08461a5d",
   "metadata": {},
   "outputs": [],
   "source": [
    "#line_length_df = full_linelength_df(activity_df_list, index_lists, 1, None, bandpass = True, \n",
    "#                                notch = False, reref = True)\n",
    "#line_length_df.to_csv('line_length_df.csv', index = None)"
   ]
  },
  {
   "cell_type": "code",
   "execution_count": 65,
   "id": "3147eeec",
   "metadata": {},
   "outputs": [],
   "source": [
    "X1 = pd.read_csv('band_pow_df.csv')\n",
    "X2 = pd.read_csv('line_length_df.csv')\n",
    "cols1, cols2 = X1.columns, X2.columns\n",
    "\n",
    "scaler1 = StandardScaler()\n",
    "X1 = scaler1.fit_transform(X1)\n",
    "X1 = pd.DataFrame(X1, columns = cols1)\n",
    "\n",
    "scaler2 = StandardScaler()\n",
    "X2 = scaler2.fit_transform(X2)\n",
    "X2 = pd.DataFrame(X2, columns = cols2)\n",
    "\n",
    "X = pd.concat([X1, X2], axis = 1)\n",
    "\n",
    "X_train, X_test, y_train, y_test = train_test_split(X, y, test_size = 0.1, random_state = 42)"
   ]
  },
  {
   "cell_type": "code",
   "execution_count": 66,
   "id": "711d4b99",
   "metadata": {},
   "outputs": [
    {
     "name": "stdout",
     "output_type": "stream",
     "text": [
      "Band Power and Line Length Training\n",
      "              precision    recall  f1-score   support\n",
      "\n",
      "         GPD       0.83      0.94      0.88      1794\n",
      "        GRDA       0.80      0.88      0.84      1819\n",
      "         LPD       0.76      0.91      0.83      1800\n",
      "        LRDA       0.85      0.89      0.87      1795\n",
      "       Other       0.81      0.62      0.70      1808\n",
      "     Seizure       0.91      0.69      0.79      1784\n",
      "\n",
      "    accuracy                           0.82     10800\n",
      "   macro avg       0.83      0.82      0.82     10800\n",
      "weighted avg       0.83      0.82      0.82     10800\n",
      "\n",
      "Band Power and Line Length Testing\n",
      "              precision    recall  f1-score   support\n",
      "\n",
      "         GPD       0.79      0.89      0.84       206\n",
      "        GRDA       0.68      0.77      0.73       181\n",
      "         LPD       0.69      0.81      0.74       200\n",
      "        LRDA       0.73      0.80      0.77       205\n",
      "       Other       0.55      0.45      0.50       192\n",
      "     Seizure       0.84      0.55      0.66       216\n",
      "\n",
      "    accuracy                           0.71      1200\n",
      "   macro avg       0.71      0.71      0.71      1200\n",
      "weighted avg       0.72      0.71      0.71      1200\n",
      "\n"
     ]
    }
   ],
   "source": [
    "knn = KNeighborsClassifier()\n",
    "knn.fit(X_train, y_train)\n",
    "training_yhat = knn.predict(X_train)\n",
    "testing_yhat = knn.predict(X_test)\n",
    "print('Band Power and Line Length Training')\n",
    "print(classification_report(y_train, training_yhat))\n",
    "print('Band Power and Line Length Testing')\n",
    "print(classification_report(y_test, testing_yhat))\n",
    "line_length_power_acc = accuracy_score(y_test, testing_yhat)\n",
    "line_length_power_macro_f1 = f1_score(y_test, testing_yhat, average = 'macro')\n",
    "line_length_power_f1 = f1_score(y_test, testing_yhat, average = None)\n",
    "line_length_power_prec = precision_score(y_test, testing_yhat, average = None)\n",
    "line_length_power_rec = recall_score(y_test, testing_yhat, average = None)"
   ]
  },
  {
   "cell_type": "code",
   "execution_count": 67,
   "id": "4ce577f8",
   "metadata": {},
   "outputs": [],
   "source": [
    "precisions['Power and Line Length'] = line_length_power_prec\n",
    "recalls['Power and Line Length'] = line_length_power_rec\n",
    "f1_scores['Power and Line Length'] = line_length_power_f1"
   ]
  },
  {
   "cell_type": "markdown",
   "id": "327fd5b4",
   "metadata": {},
   "source": [
    "### Spectral Slope"
   ]
  },
  {
   "cell_type": "code",
   "execution_count": 68,
   "id": "73e900d8",
   "metadata": {},
   "outputs": [],
   "source": [
    "#spectslope_df = full_spect_slope_df(activity_df_list, index_lists, 1, None, bandpass = True, \n",
    "#                                notch = False, reref = True)\n",
    "#spectslope_df.to_csv('spectslope_df.csv', index = None)"
   ]
  },
  {
   "cell_type": "code",
   "execution_count": 69,
   "id": "b9f5c595",
   "metadata": {},
   "outputs": [],
   "source": [
    "X1 = pd.read_csv('band_pow_df.csv')\n",
    "X2 = pd.read_csv('spectslope_df.csv')\n",
    "cols1, cols2 = X1.columns, X2.columns\n",
    "\n",
    "scaler1 = StandardScaler()\n",
    "X1 = scaler1.fit_transform(X1)\n",
    "X1 = pd.DataFrame(X1, columns = cols1)\n",
    "\n",
    "scaler2 = StandardScaler()\n",
    "X2 = scaler2.fit_transform(X2)\n",
    "X2 = pd.DataFrame(X2, columns = cols2)\n",
    "\n",
    "X = pd.concat([X1, X2], axis = 1)\n",
    "\n",
    "X_train, X_test, y_train, y_test = train_test_split(X, y, test_size = 0.1, random_state = 42)"
   ]
  },
  {
   "cell_type": "code",
   "execution_count": 70,
   "id": "7fc33523",
   "metadata": {},
   "outputs": [
    {
     "name": "stdout",
     "output_type": "stream",
     "text": [
      "Band Power and Spectral Slope Training\n",
      "              precision    recall  f1-score   support\n",
      "\n",
      "         GPD       0.84      0.94      0.89      1794\n",
      "        GRDA       0.78      0.88      0.83      1819\n",
      "         LPD       0.79      0.89      0.83      1800\n",
      "        LRDA       0.84      0.89      0.86      1795\n",
      "       Other       0.80      0.62      0.70      1808\n",
      "     Seizure       0.90      0.70      0.79      1784\n",
      "\n",
      "    accuracy                           0.82     10800\n",
      "   macro avg       0.83      0.82      0.82     10800\n",
      "weighted avg       0.82      0.82      0.82     10800\n",
      "\n",
      "Band Power and Spectral Slope Testing\n",
      "              precision    recall  f1-score   support\n",
      "\n",
      "         GPD       0.78      0.88      0.83       206\n",
      "        GRDA       0.66      0.76      0.71       181\n",
      "         LPD       0.66      0.80      0.73       200\n",
      "        LRDA       0.70      0.81      0.75       205\n",
      "       Other       0.55      0.42      0.48       192\n",
      "     Seizure       0.81      0.50      0.62       216\n",
      "\n",
      "    accuracy                           0.70      1200\n",
      "   macro avg       0.70      0.70      0.69      1200\n",
      "weighted avg       0.70      0.70      0.69      1200\n",
      "\n"
     ]
    }
   ],
   "source": [
    "knn = KNeighborsClassifier()\n",
    "knn.fit(X_train, y_train)\n",
    "training_yhat = knn.predict(X_train)\n",
    "testing_yhat = knn.predict(X_test)\n",
    "print('Band Power and Spectral Slope Training')\n",
    "print(classification_report(y_train, training_yhat))\n",
    "print('Band Power and Spectral Slope Testing')\n",
    "print(classification_report(y_test, testing_yhat))\n",
    "spectslope_power_acc = accuracy_score(y_test, testing_yhat)\n",
    "spectslope_power_macro_f1 = f1_score(y_test, testing_yhat, average = 'macro')\n",
    "spectslope_power_f1 = f1_score(y_test, testing_yhat, average = None)\n",
    "spectslope_power_prec = precision_score(y_test, testing_yhat, average = None)\n",
    "spectslope_power_rec = recall_score(y_test, testing_yhat, average = None)"
   ]
  },
  {
   "cell_type": "code",
   "execution_count": 71,
   "id": "b27b58a0",
   "metadata": {},
   "outputs": [],
   "source": [
    "precisions['Power and Spectral Slope'] = spectslope_power_prec\n",
    "recalls['Power and Spectral Slope'] = spectslope_power_rec\n",
    "f1_scores['Power and Spectral Slope'] = spectslope_power_f1"
   ]
  },
  {
   "cell_type": "markdown",
   "id": "ff441cb4",
   "metadata": {},
   "source": [
    "### Hjorth Mobility: Time"
   ]
  },
  {
   "cell_type": "code",
   "execution_count": 72,
   "id": "6358b91e",
   "metadata": {},
   "outputs": [],
   "source": [
    "#time_mob_df = full_mobility_df(activity_df_list, index_lists, 1, None, bandpass = True, notch = False, \n",
    "#                              reref = True, spectral = False)\n",
    "#time_mob_df.to_csv('time_mob_df.csv', index = True)"
   ]
  },
  {
   "cell_type": "code",
   "execution_count": 73,
   "id": "cd998a5e",
   "metadata": {},
   "outputs": [],
   "source": [
    "X1 = pd.read_csv('band_pow_df.csv')\n",
    "X2 = pd.read_csv('time_mob_df.csv')\n",
    "cols1, cols2 = X1.columns, X2.columns\n",
    "\n",
    "scaler1 = StandardScaler()\n",
    "X1 = scaler1.fit_transform(X1)\n",
    "X1 = pd.DataFrame(X1, columns = cols1)\n",
    "\n",
    "scaler2 = StandardScaler()\n",
    "X2 = scaler2.fit_transform(X2)\n",
    "X2 = pd.DataFrame(X2, columns = cols2)\n",
    "\n",
    "X = pd.concat([X1, X2], axis = 1)\n",
    "\n",
    "X_train, X_test, y_train, y_test = train_test_split(X, y, test_size = 0.1, random_state = 42)"
   ]
  },
  {
   "cell_type": "markdown",
   "id": "9273f54d",
   "metadata": {},
   "source": [
    "### Notes on Results  \n",
    "  \n",
    "This is a big shift from the trend above. Rather than little to no effect, testing accuracy has increased to 78%. I'm not sure why and need to check the code for this function as well as the resulting feature data to make sure something else isn't going on."
   ]
  },
  {
   "cell_type": "code",
   "execution_count": 74,
   "id": "2cf14110",
   "metadata": {},
   "outputs": [
    {
     "name": "stdout",
     "output_type": "stream",
     "text": [
      "Band Power and Hjorth Mobility Time Training\n",
      "              precision    recall  f1-score   support\n",
      "\n",
      "         GPD       0.85      0.95      0.89      1794\n",
      "        GRDA       0.87      0.91      0.89      1819\n",
      "         LPD       0.83      0.91      0.87      1800\n",
      "        LRDA       0.92      0.91      0.92      1795\n",
      "       Other       0.85      0.79      0.82      1808\n",
      "     Seizure       0.90      0.73      0.81      1784\n",
      "\n",
      "    accuracy                           0.87     10800\n",
      "   macro avg       0.87      0.87      0.87     10800\n",
      "weighted avg       0.87      0.87      0.87     10800\n",
      "\n",
      "Band Power and Hjorth Mobility Time Testing\n",
      "              precision    recall  f1-score   support\n",
      "\n",
      "         GPD       0.80      0.91      0.85       206\n",
      "        GRDA       0.78      0.86      0.82       181\n",
      "         LPD       0.71      0.85      0.78       200\n",
      "        LRDA       0.86      0.83      0.85       205\n",
      "       Other       0.68      0.63      0.66       192\n",
      "     Seizure       0.84      0.58      0.68       216\n",
      "\n",
      "    accuracy                           0.78      1200\n",
      "   macro avg       0.78      0.78      0.77      1200\n",
      "weighted avg       0.78      0.78      0.77      1200\n",
      "\n"
     ]
    }
   ],
   "source": [
    "knn = KNeighborsClassifier()\n",
    "knn.fit(X_train, y_train)\n",
    "training_yhat = knn.predict(X_train)\n",
    "testing_yhat = knn.predict(X_test)\n",
    "print('Band Power and Hjorth Mobility Time Training')\n",
    "print(classification_report(y_train, training_yhat))\n",
    "print('Band Power and Hjorth Mobility Time Testing')\n",
    "print(classification_report(y_test, testing_yhat))\n",
    "time_mob_power_acc = accuracy_score(y_test, testing_yhat)\n",
    "time_mob_power_macro_f1 = f1_score(y_test, testing_yhat, average = 'macro')\n",
    "time_mob_power_f1 = f1_score(y_test, testing_yhat, average = None)\n",
    "time_mob_power_prec = precision_score(y_test, testing_yhat, average = None)\n",
    "time_mob_power_rec = recall_score(y_test, testing_yhat, average = None)"
   ]
  },
  {
   "cell_type": "code",
   "execution_count": 75,
   "id": "b690d216",
   "metadata": {},
   "outputs": [],
   "source": [
    "precisions['Power and Time Mobility'] = time_mob_power_prec\n",
    "recalls['Power and Time Mobility'] = time_mob_power_rec\n",
    "f1_scores['Power and Time Mobility'] = time_mob_power_f1"
   ]
  },
  {
   "cell_type": "markdown",
   "id": "e6a34853",
   "metadata": {},
   "source": [
    "### Hjorth Mobility: Frequency"
   ]
  },
  {
   "cell_type": "code",
   "execution_count": 77,
   "id": "71762233",
   "metadata": {},
   "outputs": [],
   "source": [
    "#spectral_mob_df = full_mobility_df(activity_df_list, index_lists, 1, None, bandpass = True, notch = False, \n",
    "#                              reref = True, spectral = True)\n",
    "#spectral_mob_df.to_csv('spectral_mob_df.csv', index = True)"
   ]
  },
  {
   "cell_type": "code",
   "execution_count": 78,
   "id": "4450e1f7",
   "metadata": {},
   "outputs": [],
   "source": [
    "X1 = pd.read_csv('band_pow_df.csv')\n",
    "X2 = pd.read_csv('spectral_mob_df.csv')\n",
    "cols1, cols2 = X1.columns, X2.columns\n",
    "\n",
    "scaler1 = StandardScaler()\n",
    "X1 = scaler1.fit_transform(X1)\n",
    "X1 = pd.DataFrame(X1, columns = cols1)\n",
    "\n",
    "scaler2 = StandardScaler()\n",
    "X2 = scaler2.fit_transform(X2)\n",
    "X2 = pd.DataFrame(X2, columns = cols2)\n",
    "\n",
    "X = pd.concat([X1, X2], axis = 1)\n",
    "\n",
    "X_train, X_test, y_train, y_test = train_test_split(X, y, test_size = 0.1, random_state = 42)"
   ]
  },
  {
   "cell_type": "markdown",
   "id": "62f68873",
   "metadata": {},
   "source": [
    "### Hjorth Mobility Results  \n",
    "  \n",
    "The Hjorth mobility features both do significantly better than the other features when combined with the band power features. I'm not sure why that is, but it's true for both Hjorth mobility in the time-domain and in the frequency-domain. I don't really know what to do with this information other than prioritizing these feature types going forward."
   ]
  },
  {
   "cell_type": "code",
   "execution_count": 79,
   "id": "ea270437",
   "metadata": {},
   "outputs": [
    {
     "name": "stdout",
     "output_type": "stream",
     "text": [
      "Band Power and Spectral Mobility Training\n",
      "              precision    recall  f1-score   support\n",
      "\n",
      "         GPD       0.84      0.95      0.89      1794\n",
      "        GRDA       0.88      0.91      0.90      1819\n",
      "         LPD       0.82      0.92      0.87      1800\n",
      "        LRDA       0.92      0.92      0.92      1795\n",
      "       Other       0.86      0.80      0.83      1808\n",
      "     Seizure       0.91      0.73      0.81      1784\n",
      "\n",
      "    accuracy                           0.87     10800\n",
      "   macro avg       0.87      0.87      0.87     10800\n",
      "weighted avg       0.87      0.87      0.87     10800\n",
      "\n",
      "Band Power and Spectral Mobility Testing\n",
      "              precision    recall  f1-score   support\n",
      "\n",
      "         GPD       0.78      0.90      0.84       206\n",
      "        GRDA       0.79      0.87      0.83       181\n",
      "         LPD       0.73      0.84      0.78       200\n",
      "        LRDA       0.87      0.85      0.86       205\n",
      "       Other       0.70      0.67      0.69       192\n",
      "     Seizure       0.86      0.59      0.70       216\n",
      "\n",
      "    accuracy                           0.79      1200\n",
      "   macro avg       0.79      0.79      0.78      1200\n",
      "weighted avg       0.79      0.79      0.78      1200\n",
      "\n"
     ]
    }
   ],
   "source": [
    "knn = KNeighborsClassifier()\n",
    "knn.fit(X_train, y_train)\n",
    "training_yhat = knn.predict(X_train)\n",
    "testing_yhat = knn.predict(X_test)\n",
    "print('Band Power and Spectral Mobility Training')\n",
    "print(classification_report(y_train, training_yhat))\n",
    "print('Band Power and Spectral Mobility Testing')\n",
    "print(classification_report(y_test, testing_yhat))\n",
    "spectral_mob_power_acc = accuracy_score(y_test, testing_yhat)\n",
    "spectral_mob_power_macro_f1 = f1_score(y_test, testing_yhat, average = 'macro')\n",
    "spectral_mob_power_f1 = f1_score(y_test, testing_yhat, average = None)\n",
    "spectral_mob_power_prec = precision_score(y_test, testing_yhat, average = None)\n",
    "spectral_mob_power_rec = recall_score(y_test, testing_yhat, average = None)"
   ]
  },
  {
   "cell_type": "code",
   "execution_count": 80,
   "id": "a2dcb4c1",
   "metadata": {},
   "outputs": [],
   "source": [
    "precisions['Power and Spectral Mobility'] = spectral_mob_power_prec\n",
    "recalls['Power and Spectral Mobility'] = spectral_mob_power_rec\n",
    "f1_scores['Power and Spectral Mobility'] = spectral_mob_power_f1"
   ]
  },
  {
   "cell_type": "markdown",
   "id": "8566dba7",
   "metadata": {},
   "source": [
    "### Hjorth Altogether"
   ]
  },
  {
   "cell_type": "code",
   "execution_count": 9,
   "id": "7e775979",
   "metadata": {},
   "outputs": [],
   "source": [
    "X1 = pd.read_csv('time_mob_df.csv')\n",
    "X2 = pd.read_csv('spectral_mob_df.csv')\n",
    "X3 = pd.read_csv('time_comp_df.csv')\n",
    "X4 = pd.read_csv('freq_comp_df.csv')\n",
    "cols1, cols2, cols3, cols4 = X1.columns, X2.columns, X3.columns, X4.columns\n",
    "\n",
    "scaler1 = StandardScaler()\n",
    "X1 = scaler1.fit_transform(X1)\n",
    "X1 = pd.DataFrame(X1, columns = cols1)\n",
    "\n",
    "scaler2 = StandardScaler()\n",
    "X2 = scaler2.fit_transform(X2)\n",
    "X2 = pd.DataFrame(X2, columns = cols2)\n",
    "\n",
    "scaler3 = StandardScaler()\n",
    "X3 = scaler3.fit_transform(X3)\n",
    "X3 = pd.DataFrame(X3, columns = cols3)\n",
    "\n",
    "scaler4 = StandardScaler()\n",
    "X4 = scaler4.fit_transform(X4)\n",
    "X4 = pd.DataFrame(X4, columns = cols4)\n",
    "\n",
    "X = pd.concat([X1, X2], axis = 1)\n",
    "X = pd.concat([X, X3], axis = 1)\n",
    "X = pd.concat([X, X4], axis = 1)\n",
    "\n",
    "X_train, X_test, y_train, y_test = train_test_split(X, y, test_size = 0.1, random_state = 42)"
   ]
  },
  {
   "cell_type": "markdown",
   "id": "1fc5b921",
   "metadata": {},
   "source": [
    "### Notes on Results  \n",
    "  \n",
    "The Hjorth feature set has 76 columns. For frequency band power, it was 95 because there were 5 frequency band powers and 19 EEG channels. Here, there are two complexity and two mobility numbers and 19 EEG channels. Lower dimensionality and much better results. This may be the feature type to prioritize going forward."
   ]
  },
  {
   "cell_type": "code",
   "execution_count": 10,
   "id": "7d3e7bd8",
   "metadata": {},
   "outputs": [
    {
     "name": "stdout",
     "output_type": "stream",
     "text": [
      "Hjorth Altogether Training\n",
      "              precision    recall  f1-score   support\n",
      "\n",
      "         GPD       0.85      0.95      0.89      1794\n",
      "        GRDA       0.90      0.90      0.90      1819\n",
      "         LPD       0.88      0.91      0.90      1800\n",
      "        LRDA       0.95      0.93      0.94      1795\n",
      "       Other       0.91      0.81      0.86      1808\n",
      "     Seizure       0.85      0.84      0.85      1784\n",
      "\n",
      "    accuracy                           0.89     10800\n",
      "   macro avg       0.89      0.89      0.89     10800\n",
      "weighted avg       0.89      0.89      0.89     10800\n",
      "\n",
      "Hjorth Altogether Testing\n",
      "              precision    recall  f1-score   support\n",
      "\n",
      "         GPD       0.79      0.89      0.84       206\n",
      "        GRDA       0.82      0.83      0.82       181\n",
      "         LPD       0.82      0.84      0.83       200\n",
      "        LRDA       0.93      0.92      0.92       205\n",
      "       Other       0.81      0.69      0.75       192\n",
      "     Seizure       0.75      0.73      0.74       216\n",
      "\n",
      "    accuracy                           0.82      1200\n",
      "   macro avg       0.82      0.82      0.82      1200\n",
      "weighted avg       0.82      0.82      0.82      1200\n",
      "\n"
     ]
    }
   ],
   "source": [
    "knn = KNeighborsClassifier()\n",
    "knn.fit(X_train, y_train)\n",
    "training_yhat = knn.predict(X_train)\n",
    "testing_yhat = knn.predict(X_test)\n",
    "print('Hjorth Altogether Training')\n",
    "print(classification_report(y_train, training_yhat))\n",
    "print('Hjorth Altogether Testing')\n",
    "print(classification_report(y_test, testing_yhat))\n",
    "hjorth_acc = accuracy_score(y_test, testing_yhat)\n",
    "hjorth_macro_f1 = f1_score(y_test, testing_yhat, average = 'macro')\n",
    "hjorth_f1 = f1_score(y_test, testing_yhat, average = None)\n",
    "hjorth_prec = precision_score(y_test, testing_yhat, average = None)\n",
    "hjorth_rec = recall_score(y_test, testing_yhat, average = None)"
   ]
  },
  {
   "cell_type": "markdown",
   "id": "219a5a0b",
   "metadata": {},
   "source": [
    "### Wavelet Altogether"
   ]
  },
  {
   "cell_type": "code",
   "execution_count": 11,
   "id": "d6f12092",
   "metadata": {},
   "outputs": [],
   "source": [
    "X1 = pd.read_csv('coef_energy_df.csv')\n",
    "X2 = pd.read_csv('tk_energy_df.csv')\n",
    "cols1, cols2 = X1.columns, X2.columns\n",
    "\n",
    "scaler1 = StandardScaler()\n",
    "X1 = scaler1.fit_transform(X1)\n",
    "X1 = pd.DataFrame(X1, columns = cols1)\n",
    "\n",
    "scaler2 = StandardScaler()\n",
    "X2 = scaler2.fit_transform(X2)\n",
    "X2 = pd.DataFrame(X2, columns = cols2)\n",
    "\n",
    "X = pd.concat([X1, X2], axis = 1)\n",
    "\n",
    "X_train, X_test, y_train, y_test = train_test_split(X, y, test_size = 0.1, random_state = 42)"
   ]
  },
  {
   "cell_type": "markdown",
   "id": "ed5f413f",
   "metadata": {},
   "source": [
    "### Wavelet Results  \n",
    "  \n",
    "380 columns and a testing accuracy of 66%. I do intend to try including the coef energy feature data in the overall dataset. I intend to reduce the number of columns by averaging EEG signals by on specific electrode chains which are identified by common EEG montages. Then feature selection and maybe PCA will further reduce that number. The Hjorth parameters are the priority features. From there, some of the band power info, wavelet coef info, fractal dimension info, etc. should be useful."
   ]
  },
  {
   "cell_type": "code",
   "execution_count": 12,
   "id": "60b1ff74",
   "metadata": {},
   "outputs": [
    {
     "name": "stdout",
     "output_type": "stream",
     "text": [
      "Wavelet Altogether Training\n",
      "              precision    recall  f1-score   support\n",
      "\n",
      "         GPD       0.81      0.94      0.87      1794\n",
      "        GRDA       0.78      0.88      0.82      1819\n",
      "         LPD       0.78      0.86      0.82      1800\n",
      "        LRDA       0.81      0.90      0.85      1795\n",
      "       Other       0.79      0.62      0.69      1808\n",
      "     Seizure       0.87      0.63      0.74      1784\n",
      "\n",
      "    accuracy                           0.80     10800\n",
      "   macro avg       0.81      0.80      0.80     10800\n",
      "weighted avg       0.81      0.80      0.80     10800\n",
      "\n",
      "Wavelet Altogether Testing\n",
      "              precision    recall  f1-score   support\n",
      "\n",
      "         GPD       0.71      0.88      0.79       206\n",
      "        GRDA       0.66      0.72      0.69       181\n",
      "         LPD       0.64      0.72      0.68       200\n",
      "        LRDA       0.67      0.76      0.71       205\n",
      "       Other       0.52      0.43      0.47       192\n",
      "     Seizure       0.75      0.46      0.57       216\n",
      "\n",
      "    accuracy                           0.66      1200\n",
      "   macro avg       0.66      0.66      0.65      1200\n",
      "weighted avg       0.66      0.66      0.65      1200\n",
      "\n"
     ]
    }
   ],
   "source": [
    "knn = KNeighborsClassifier()\n",
    "knn.fit(X_train, y_train)\n",
    "training_yhat = knn.predict(X_train)\n",
    "testing_yhat = knn.predict(X_test)\n",
    "print('Wavelet Altogether Training')\n",
    "print(classification_report(y_train, training_yhat))\n",
    "print('Wavelet Altogether Testing')\n",
    "print(classification_report(y_test, testing_yhat))\n",
    "wavelet_acc = accuracy_score(y_test, testing_yhat)\n",
    "wavelet_macro_f1 = f1_score(y_test, testing_yhat, average = 'macro')\n",
    "wavelet_f1 = f1_score(y_test, testing_yhat, average = None)\n",
    "wavelet_prec = precision_score(y_test, testing_yhat, average = None)\n",
    "wavelet_rec = recall_score(y_test, testing_yhat, average = None)"
   ]
  },
  {
   "cell_type": "markdown",
   "id": "6297b0be",
   "metadata": {},
   "source": [
    "### Brief Note on Results  \n",
    "  \n",
    "If I remember correctly, the first KNN model I ran without any preprocessing done other than standardization had a testing accuracy of 64% or 65%. Highpass filtering and re-referencing brought that up to about 70%. Adding new features to the feature set is having little to no effect. I don't really know why that is. I think what I'm likely to end up doing is signal averaging to handle some of the high correlation between columns and then use most of the feature types tested above in a single feature set. From there, I can determine which features are most important and may try PCA as well."
   ]
  },
  {
   "cell_type": "code",
   "execution_count": 84,
   "id": "e4ac5102",
   "metadata": {},
   "outputs": [],
   "source": [
    "activity_list = ['GPD', 'GRDA', 'LPD', 'LRDA', 'Other', 'Seizure']\n",
    "precisions.index = activity_list\n",
    "recalls.index = activity_list\n",
    "f1_scores.index = activity_list"
   ]
  },
  {
   "cell_type": "code",
   "execution_count": 85,
   "id": "a761590e",
   "metadata": {},
   "outputs": [
    {
     "data": {
      "text/html": [
       "<div>\n",
       "<style scoped>\n",
       "    .dataframe tbody tr th:only-of-type {\n",
       "        vertical-align: middle;\n",
       "    }\n",
       "\n",
       "    .dataframe tbody tr th {\n",
       "        vertical-align: top;\n",
       "    }\n",
       "\n",
       "    .dataframe thead th {\n",
       "        text-align: right;\n",
       "    }\n",
       "</style>\n",
       "<table border=\"1\" class=\"dataframe\">\n",
       "  <thead>\n",
       "    <tr style=\"text-align: right;\">\n",
       "      <th></th>\n",
       "      <th>Band Power</th>\n",
       "      <th>Power and Complexity</th>\n",
       "      <th>Power and Spectral Complexity</th>\n",
       "      <th>Power and Higuchi</th>\n",
       "      <th>Power and Katz</th>\n",
       "      <th>Power and Coef Energy</th>\n",
       "      <th>Power and TK Energy</th>\n",
       "      <th>Power and Zero Crossings</th>\n",
       "      <th>Power and Line Length</th>\n",
       "      <th>Power and Spectral Slope</th>\n",
       "      <th>Power and Time Mobility</th>\n",
       "      <th>Power and Spectral Mobility</th>\n",
       "    </tr>\n",
       "  </thead>\n",
       "  <tbody>\n",
       "    <tr>\n",
       "      <th>GPD</th>\n",
       "      <td>0.779</td>\n",
       "      <td>0.806</td>\n",
       "      <td>0.768</td>\n",
       "      <td>0.799</td>\n",
       "      <td>0.781</td>\n",
       "      <td>0.754</td>\n",
       "      <td>0.733</td>\n",
       "      <td>0.786</td>\n",
       "      <td>0.786</td>\n",
       "      <td>0.778</td>\n",
       "      <td>0.799</td>\n",
       "      <td>0.785</td>\n",
       "    </tr>\n",
       "    <tr>\n",
       "      <th>GRDA</th>\n",
       "      <td>0.643</td>\n",
       "      <td>0.647</td>\n",
       "      <td>0.689</td>\n",
       "      <td>0.655</td>\n",
       "      <td>0.644</td>\n",
       "      <td>0.656</td>\n",
       "      <td>0.626</td>\n",
       "      <td>0.684</td>\n",
       "      <td>0.683</td>\n",
       "      <td>0.662</td>\n",
       "      <td>0.776</td>\n",
       "      <td>0.789</td>\n",
       "    </tr>\n",
       "    <tr>\n",
       "      <th>LPD</th>\n",
       "      <td>0.694</td>\n",
       "      <td>0.679</td>\n",
       "      <td>0.704</td>\n",
       "      <td>0.682</td>\n",
       "      <td>0.678</td>\n",
       "      <td>0.679</td>\n",
       "      <td>0.665</td>\n",
       "      <td>0.679</td>\n",
       "      <td>0.686</td>\n",
       "      <td>0.664</td>\n",
       "      <td>0.710</td>\n",
       "      <td>0.725</td>\n",
       "    </tr>\n",
       "    <tr>\n",
       "      <th>LRDA</th>\n",
       "      <td>0.744</td>\n",
       "      <td>0.764</td>\n",
       "      <td>0.747</td>\n",
       "      <td>0.745</td>\n",
       "      <td>0.730</td>\n",
       "      <td>0.767</td>\n",
       "      <td>0.752</td>\n",
       "      <td>0.766</td>\n",
       "      <td>0.730</td>\n",
       "      <td>0.702</td>\n",
       "      <td>0.864</td>\n",
       "      <td>0.874</td>\n",
       "    </tr>\n",
       "    <tr>\n",
       "      <th>Other</th>\n",
       "      <td>0.545</td>\n",
       "      <td>0.559</td>\n",
       "      <td>0.560</td>\n",
       "      <td>0.556</td>\n",
       "      <td>0.537</td>\n",
       "      <td>0.565</td>\n",
       "      <td>0.569</td>\n",
       "      <td>0.553</td>\n",
       "      <td>0.554</td>\n",
       "      <td>0.555</td>\n",
       "      <td>0.684</td>\n",
       "      <td>0.701</td>\n",
       "    </tr>\n",
       "    <tr>\n",
       "      <th>Seizure</th>\n",
       "      <td>0.820</td>\n",
       "      <td>0.812</td>\n",
       "      <td>0.812</td>\n",
       "      <td>0.807</td>\n",
       "      <td>0.832</td>\n",
       "      <td>0.841</td>\n",
       "      <td>0.826</td>\n",
       "      <td>0.823</td>\n",
       "      <td>0.838</td>\n",
       "      <td>0.813</td>\n",
       "      <td>0.839</td>\n",
       "      <td>0.858</td>\n",
       "    </tr>\n",
       "  </tbody>\n",
       "</table>\n",
       "</div>"
      ],
      "text/plain": [
       "         Band Power  Power and Complexity  Power and Spectral Complexity  \\\n",
       "GPD           0.779                 0.806                          0.768   \n",
       "GRDA          0.643                 0.647                          0.689   \n",
       "LPD           0.694                 0.679                          0.704   \n",
       "LRDA          0.744                 0.764                          0.747   \n",
       "Other         0.545                 0.559                          0.560   \n",
       "Seizure       0.820                 0.812                          0.812   \n",
       "\n",
       "         Power and Higuchi  Power and Katz  Power and Coef Energy  \\\n",
       "GPD                  0.799           0.781                  0.754   \n",
       "GRDA                 0.655           0.644                  0.656   \n",
       "LPD                  0.682           0.678                  0.679   \n",
       "LRDA                 0.745           0.730                  0.767   \n",
       "Other                0.556           0.537                  0.565   \n",
       "Seizure              0.807           0.832                  0.841   \n",
       "\n",
       "         Power and TK Energy  Power and Zero Crossings  Power and Line Length  \\\n",
       "GPD                    0.733                     0.786                  0.786   \n",
       "GRDA                   0.626                     0.684                  0.683   \n",
       "LPD                    0.665                     0.679                  0.686   \n",
       "LRDA                   0.752                     0.766                  0.730   \n",
       "Other                  0.569                     0.553                  0.554   \n",
       "Seizure                0.826                     0.823                  0.838   \n",
       "\n",
       "         Power and Spectral Slope  Power and Time Mobility  \\\n",
       "GPD                         0.778                    0.799   \n",
       "GRDA                        0.662                    0.776   \n",
       "LPD                         0.664                    0.710   \n",
       "LRDA                        0.702                    0.864   \n",
       "Other                       0.555                    0.684   \n",
       "Seizure                     0.813                    0.839   \n",
       "\n",
       "         Power and Spectral Mobility  \n",
       "GPD                            0.785  \n",
       "GRDA                           0.789  \n",
       "LPD                            0.725  \n",
       "LRDA                           0.874  \n",
       "Other                          0.701  \n",
       "Seizure                        0.858  "
      ]
     },
     "execution_count": 85,
     "metadata": {},
     "output_type": "execute_result"
    }
   ],
   "source": [
    "precisions.round(decimals = 3)"
   ]
  },
  {
   "cell_type": "code",
   "execution_count": 86,
   "id": "977eb7dd",
   "metadata": {},
   "outputs": [
    {
     "data": {
      "text/html": [
       "<div>\n",
       "<style scoped>\n",
       "    .dataframe tbody tr th:only-of-type {\n",
       "        vertical-align: middle;\n",
       "    }\n",
       "\n",
       "    .dataframe tbody tr th {\n",
       "        vertical-align: top;\n",
       "    }\n",
       "\n",
       "    .dataframe thead th {\n",
       "        text-align: right;\n",
       "    }\n",
       "</style>\n",
       "<table border=\"1\" class=\"dataframe\">\n",
       "  <thead>\n",
       "    <tr style=\"text-align: right;\">\n",
       "      <th></th>\n",
       "      <th>Band Power</th>\n",
       "      <th>Power and Complexity</th>\n",
       "      <th>Power and Spectral Complexity</th>\n",
       "      <th>Power and Higuchi</th>\n",
       "      <th>Power and Katz</th>\n",
       "      <th>Power and Coef Energy</th>\n",
       "      <th>Power and TK Energy</th>\n",
       "      <th>Power and Zero Crossings</th>\n",
       "      <th>Power and Line Length</th>\n",
       "      <th>Power and Spectral Slope</th>\n",
       "      <th>Power and Time Mobility</th>\n",
       "      <th>Power and Spectral Mobility</th>\n",
       "    </tr>\n",
       "  </thead>\n",
       "  <tbody>\n",
       "    <tr>\n",
       "      <th>GPD</th>\n",
       "      <td>0.888</td>\n",
       "      <td>0.888</td>\n",
       "      <td>0.883</td>\n",
       "      <td>0.908</td>\n",
       "      <td>0.883</td>\n",
       "      <td>0.893</td>\n",
       "      <td>0.879</td>\n",
       "      <td>0.908</td>\n",
       "      <td>0.893</td>\n",
       "      <td>0.883</td>\n",
       "      <td>0.908</td>\n",
       "      <td>0.903</td>\n",
       "    </tr>\n",
       "    <tr>\n",
       "      <th>GRDA</th>\n",
       "      <td>0.785</td>\n",
       "      <td>0.801</td>\n",
       "      <td>0.796</td>\n",
       "      <td>0.796</td>\n",
       "      <td>0.790</td>\n",
       "      <td>0.757</td>\n",
       "      <td>0.757</td>\n",
       "      <td>0.790</td>\n",
       "      <td>0.773</td>\n",
       "      <td>0.757</td>\n",
       "      <td>0.862</td>\n",
       "      <td>0.867</td>\n",
       "    </tr>\n",
       "    <tr>\n",
       "      <th>LPD</th>\n",
       "      <td>0.805</td>\n",
       "      <td>0.825</td>\n",
       "      <td>0.795</td>\n",
       "      <td>0.815</td>\n",
       "      <td>0.810</td>\n",
       "      <td>0.835</td>\n",
       "      <td>0.815</td>\n",
       "      <td>0.825</td>\n",
       "      <td>0.810</td>\n",
       "      <td>0.800</td>\n",
       "      <td>0.855</td>\n",
       "      <td>0.845</td>\n",
       "    </tr>\n",
       "    <tr>\n",
       "      <th>LRDA</th>\n",
       "      <td>0.810</td>\n",
       "      <td>0.839</td>\n",
       "      <td>0.820</td>\n",
       "      <td>0.800</td>\n",
       "      <td>0.805</td>\n",
       "      <td>0.805</td>\n",
       "      <td>0.785</td>\n",
       "      <td>0.829</td>\n",
       "      <td>0.805</td>\n",
       "      <td>0.815</td>\n",
       "      <td>0.834</td>\n",
       "      <td>0.849</td>\n",
       "    </tr>\n",
       "    <tr>\n",
       "      <th>Other</th>\n",
       "      <td>0.443</td>\n",
       "      <td>0.417</td>\n",
       "      <td>0.464</td>\n",
       "      <td>0.411</td>\n",
       "      <td>0.417</td>\n",
       "      <td>0.453</td>\n",
       "      <td>0.406</td>\n",
       "      <td>0.406</td>\n",
       "      <td>0.453</td>\n",
       "      <td>0.422</td>\n",
       "      <td>0.630</td>\n",
       "      <td>0.672</td>\n",
       "    </tr>\n",
       "    <tr>\n",
       "      <th>Seizure</th>\n",
       "      <td>0.505</td>\n",
       "      <td>0.519</td>\n",
       "      <td>0.542</td>\n",
       "      <td>0.542</td>\n",
       "      <td>0.505</td>\n",
       "      <td>0.514</td>\n",
       "      <td>0.528</td>\n",
       "      <td>0.560</td>\n",
       "      <td>0.551</td>\n",
       "      <td>0.505</td>\n",
       "      <td>0.579</td>\n",
       "      <td>0.588</td>\n",
       "    </tr>\n",
       "  </tbody>\n",
       "</table>\n",
       "</div>"
      ],
      "text/plain": [
       "         Band Power  Power and Complexity  Power and Spectral Complexity  \\\n",
       "GPD           0.888                 0.888                          0.883   \n",
       "GRDA          0.785                 0.801                          0.796   \n",
       "LPD           0.805                 0.825                          0.795   \n",
       "LRDA          0.810                 0.839                          0.820   \n",
       "Other         0.443                 0.417                          0.464   \n",
       "Seizure       0.505                 0.519                          0.542   \n",
       "\n",
       "         Power and Higuchi  Power and Katz  Power and Coef Energy  \\\n",
       "GPD                  0.908           0.883                  0.893   \n",
       "GRDA                 0.796           0.790                  0.757   \n",
       "LPD                  0.815           0.810                  0.835   \n",
       "LRDA                 0.800           0.805                  0.805   \n",
       "Other                0.411           0.417                  0.453   \n",
       "Seizure              0.542           0.505                  0.514   \n",
       "\n",
       "         Power and TK Energy  Power and Zero Crossings  Power and Line Length  \\\n",
       "GPD                    0.879                     0.908                  0.893   \n",
       "GRDA                   0.757                     0.790                  0.773   \n",
       "LPD                    0.815                     0.825                  0.810   \n",
       "LRDA                   0.785                     0.829                  0.805   \n",
       "Other                  0.406                     0.406                  0.453   \n",
       "Seizure                0.528                     0.560                  0.551   \n",
       "\n",
       "         Power and Spectral Slope  Power and Time Mobility  \\\n",
       "GPD                         0.883                    0.908   \n",
       "GRDA                        0.757                    0.862   \n",
       "LPD                         0.800                    0.855   \n",
       "LRDA                        0.815                    0.834   \n",
       "Other                       0.422                    0.630   \n",
       "Seizure                     0.505                    0.579   \n",
       "\n",
       "         Power and Spectral Mobility  \n",
       "GPD                            0.903  \n",
       "GRDA                           0.867  \n",
       "LPD                            0.845  \n",
       "LRDA                           0.849  \n",
       "Other                          0.672  \n",
       "Seizure                        0.588  "
      ]
     },
     "execution_count": 86,
     "metadata": {},
     "output_type": "execute_result"
    }
   ],
   "source": [
    "recalls.round(decimals = 3)"
   ]
  },
  {
   "cell_type": "code",
   "execution_count": 87,
   "id": "57793f8b",
   "metadata": {},
   "outputs": [
    {
     "data": {
      "text/html": [
       "<div>\n",
       "<style scoped>\n",
       "    .dataframe tbody tr th:only-of-type {\n",
       "        vertical-align: middle;\n",
       "    }\n",
       "\n",
       "    .dataframe tbody tr th {\n",
       "        vertical-align: top;\n",
       "    }\n",
       "\n",
       "    .dataframe thead th {\n",
       "        text-align: right;\n",
       "    }\n",
       "</style>\n",
       "<table border=\"1\" class=\"dataframe\">\n",
       "  <thead>\n",
       "    <tr style=\"text-align: right;\">\n",
       "      <th></th>\n",
       "      <th>Band Power</th>\n",
       "      <th>Power and Complexity</th>\n",
       "      <th>Power and Spectral Complexity</th>\n",
       "      <th>Power and Higuchi</th>\n",
       "      <th>Power and Katz</th>\n",
       "      <th>Power and Coef Energy</th>\n",
       "      <th>Power and TK Energy</th>\n",
       "      <th>Power and Zero Crossings</th>\n",
       "      <th>Power and Line Length</th>\n",
       "      <th>Power and Spectral Slope</th>\n",
       "      <th>Power and Time Mobility</th>\n",
       "      <th>Power and Spectral Mobility</th>\n",
       "    </tr>\n",
       "  </thead>\n",
       "  <tbody>\n",
       "    <tr>\n",
       "      <th>GPD</th>\n",
       "      <td>0.830</td>\n",
       "      <td>0.845</td>\n",
       "      <td>0.822</td>\n",
       "      <td>0.850</td>\n",
       "      <td>0.829</td>\n",
       "      <td>0.818</td>\n",
       "      <td>0.799</td>\n",
       "      <td>0.842</td>\n",
       "      <td>0.836</td>\n",
       "      <td>0.827</td>\n",
       "      <td>0.850</td>\n",
       "      <td>0.840</td>\n",
       "    </tr>\n",
       "    <tr>\n",
       "      <th>GRDA</th>\n",
       "      <td>0.706</td>\n",
       "      <td>0.716</td>\n",
       "      <td>0.738</td>\n",
       "      <td>0.718</td>\n",
       "      <td>0.710</td>\n",
       "      <td>0.703</td>\n",
       "      <td>0.685</td>\n",
       "      <td>0.733</td>\n",
       "      <td>0.725</td>\n",
       "      <td>0.706</td>\n",
       "      <td>0.817</td>\n",
       "      <td>0.826</td>\n",
       "    </tr>\n",
       "    <tr>\n",
       "      <th>LPD</th>\n",
       "      <td>0.745</td>\n",
       "      <td>0.745</td>\n",
       "      <td>0.746</td>\n",
       "      <td>0.743</td>\n",
       "      <td>0.738</td>\n",
       "      <td>0.749</td>\n",
       "      <td>0.733</td>\n",
       "      <td>0.745</td>\n",
       "      <td>0.743</td>\n",
       "      <td>0.726</td>\n",
       "      <td>0.776</td>\n",
       "      <td>0.781</td>\n",
       "    </tr>\n",
       "    <tr>\n",
       "      <th>LRDA</th>\n",
       "      <td>0.776</td>\n",
       "      <td>0.800</td>\n",
       "      <td>0.781</td>\n",
       "      <td>0.772</td>\n",
       "      <td>0.766</td>\n",
       "      <td>0.786</td>\n",
       "      <td>0.768</td>\n",
       "      <td>0.796</td>\n",
       "      <td>0.766</td>\n",
       "      <td>0.754</td>\n",
       "      <td>0.849</td>\n",
       "      <td>0.861</td>\n",
       "    </tr>\n",
       "    <tr>\n",
       "      <th>Other</th>\n",
       "      <td>0.489</td>\n",
       "      <td>0.478</td>\n",
       "      <td>0.507</td>\n",
       "      <td>0.473</td>\n",
       "      <td>0.469</td>\n",
       "      <td>0.503</td>\n",
       "      <td>0.474</td>\n",
       "      <td>0.468</td>\n",
       "      <td>0.499</td>\n",
       "      <td>0.479</td>\n",
       "      <td>0.656</td>\n",
       "      <td>0.686</td>\n",
       "    </tr>\n",
       "    <tr>\n",
       "      <th>Seizure</th>\n",
       "      <td>0.625</td>\n",
       "      <td>0.633</td>\n",
       "      <td>0.650</td>\n",
       "      <td>0.648</td>\n",
       "      <td>0.628</td>\n",
       "      <td>0.638</td>\n",
       "      <td>0.644</td>\n",
       "      <td>0.667</td>\n",
       "      <td>0.665</td>\n",
       "      <td>0.623</td>\n",
       "      <td>0.685</td>\n",
       "      <td>0.698</td>\n",
       "    </tr>\n",
       "  </tbody>\n",
       "</table>\n",
       "</div>"
      ],
      "text/plain": [
       "         Band Power  Power and Complexity  Power and Spectral Complexity  \\\n",
       "GPD           0.830                 0.845                          0.822   \n",
       "GRDA          0.706                 0.716                          0.738   \n",
       "LPD           0.745                 0.745                          0.746   \n",
       "LRDA          0.776                 0.800                          0.781   \n",
       "Other         0.489                 0.478                          0.507   \n",
       "Seizure       0.625                 0.633                          0.650   \n",
       "\n",
       "         Power and Higuchi  Power and Katz  Power and Coef Energy  \\\n",
       "GPD                  0.850           0.829                  0.818   \n",
       "GRDA                 0.718           0.710                  0.703   \n",
       "LPD                  0.743           0.738                  0.749   \n",
       "LRDA                 0.772           0.766                  0.786   \n",
       "Other                0.473           0.469                  0.503   \n",
       "Seizure              0.648           0.628                  0.638   \n",
       "\n",
       "         Power and TK Energy  Power and Zero Crossings  Power and Line Length  \\\n",
       "GPD                    0.799                     0.842                  0.836   \n",
       "GRDA                   0.685                     0.733                  0.725   \n",
       "LPD                    0.733                     0.745                  0.743   \n",
       "LRDA                   0.768                     0.796                  0.766   \n",
       "Other                  0.474                     0.468                  0.499   \n",
       "Seizure                0.644                     0.667                  0.665   \n",
       "\n",
       "         Power and Spectral Slope  Power and Time Mobility  \\\n",
       "GPD                         0.827                    0.850   \n",
       "GRDA                        0.706                    0.817   \n",
       "LPD                         0.726                    0.776   \n",
       "LRDA                        0.754                    0.849   \n",
       "Other                       0.479                    0.656   \n",
       "Seizure                     0.623                    0.685   \n",
       "\n",
       "         Power and Spectral Mobility  \n",
       "GPD                            0.840  \n",
       "GRDA                           0.826  \n",
       "LPD                            0.781  \n",
       "LRDA                           0.861  \n",
       "Other                          0.686  \n",
       "Seizure                        0.698  "
      ]
     },
     "execution_count": 87,
     "metadata": {},
     "output_type": "execute_result"
    }
   ],
   "source": [
    "f1_scores.round(decimals = 3)"
   ]
  },
  {
   "cell_type": "code",
   "execution_count": null,
   "id": "9ae84514",
   "metadata": {},
   "outputs": [],
   "source": []
  }
 ],
 "metadata": {
  "kernelspec": {
   "display_name": "Python 3 (ipykernel)",
   "language": "python",
   "name": "python3"
  },
  "language_info": {
   "codemirror_mode": {
    "name": "ipython",
    "version": 3
   },
   "file_extension": ".py",
   "mimetype": "text/x-python",
   "name": "python",
   "nbconvert_exporter": "python",
   "pygments_lexer": "ipython3",
   "version": "3.8.10"
  }
 },
 "nbformat": 4,
 "nbformat_minor": 5
}
