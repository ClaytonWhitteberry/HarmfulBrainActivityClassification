{
 "cells": [
  {
   "cell_type": "markdown",
   "id": "bbe14fe5",
   "metadata": {},
   "source": [
    "### Bandpass Filtering  \n",
    "  \n",
    "The first time around, I began with settings for the bandpass filter of 1 Hz and 70 Hz because of the recommendations from Learning EEG, but I've decided it's better to make my adjustments to the filters with the other at its default setting rather than starting from the Learning EEG recommendation."
   ]
  },
  {
   "cell_type": "code",
   "execution_count": 1,
   "id": "d766f7a3",
   "metadata": {},
   "outputs": [],
   "source": [
    "import numpy as np\n",
    "import pandas as pd\n",
    "import matplotlib.pyplot as plt\n",
    "import fastparquet, pyarrow\n",
    "import mne\n",
    "from mne.decoding import Scaler\n",
    "from mne_features.univariate import compute_pow_freq_bands\n",
    "from utils import *"
   ]
  },
  {
   "cell_type": "code",
   "execution_count": 2,
   "id": "feb69558",
   "metadata": {},
   "outputs": [],
   "source": [
    "mne.set_log_level('WARNING')"
   ]
  },
  {
   "cell_type": "code",
   "execution_count": 3,
   "id": "2040c1ef",
   "metadata": {},
   "outputs": [],
   "source": [
    "df = pd.read_csv('by_patient.csv')"
   ]
  },
  {
   "cell_type": "code",
   "execution_count": 4,
   "id": "7dffa85e",
   "metadata": {},
   "outputs": [],
   "source": [
    "other_df = activity_df(df, 'Other', 'expert_consensus')\n",
    "seizure_df = activity_df(df, 'Seizure', 'expert_consensus')\n",
    "lpd_df = activity_df(df, 'LPD', 'expert_consensus')\n",
    "gpd_df = activity_df(df, 'GPD', 'expert_consensus')\n",
    "lrda_df = activity_df(df, 'LRDA', 'expert_consensus')\n",
    "grda_df = activity_df(df, 'GRDA', 'expert_consensus')"
   ]
  },
  {
   "cell_type": "code",
   "execution_count": 5,
   "id": "ec0510a3",
   "metadata": {},
   "outputs": [],
   "source": [
    "activity_df_list = [other_df, seizure_df, gpd_df, lpd_df, grda_df, lrda_df]"
   ]
  },
  {
   "cell_type": "code",
   "execution_count": 6,
   "id": "07a85337",
   "metadata": {},
   "outputs": [],
   "source": [
    "bandpass_df = pd.read_csv('bandpass_df.csv')"
   ]
  },
  {
   "cell_type": "code",
   "execution_count": 7,
   "id": "780a8754",
   "metadata": {},
   "outputs": [],
   "source": [
    "#bandpass_df = full_band_df(2000, activity_df_list, 1, 70, notch = False)"
   ]
  },
  {
   "cell_type": "code",
   "execution_count": 8,
   "id": "d470140d",
   "metadata": {},
   "outputs": [
    {
     "data": {
      "text/plain": [
       "(12000, 95)"
      ]
     },
     "execution_count": 8,
     "metadata": {},
     "output_type": "execute_result"
    }
   ],
   "source": [
    "bandpass_df.shape"
   ]
  },
  {
   "cell_type": "code",
   "execution_count": 9,
   "id": "168c8038",
   "metadata": {},
   "outputs": [],
   "source": [
    "y_true = get_yvals(2000)"
   ]
  },
  {
   "cell_type": "code",
   "execution_count": 10,
   "id": "caec3906",
   "metadata": {},
   "outputs": [],
   "source": [
    "#bandpass_df.to_csv('bandpass_df.csv', index = None)"
   ]
  },
  {
   "cell_type": "code",
   "execution_count": 33,
   "id": "b0d496e8",
   "metadata": {},
   "outputs": [],
   "source": [
    "X1 = pd.read_csv('bandfeatures_12000.csv')\n",
    "X2 = bandpass_df"
   ]
  },
  {
   "cell_type": "code",
   "execution_count": 34,
   "id": "bb7e39ca",
   "metadata": {},
   "outputs": [],
   "source": [
    "X1 = X1.drop(columns = ['activity']).copy()\n",
    "y1  = y_true['activity'].copy()\n",
    "y2 = y_true['activity'].copy()"
   ]
  },
  {
   "cell_type": "code",
   "execution_count": 35,
   "id": "0bfb2ccf",
   "metadata": {},
   "outputs": [],
   "source": [
    "from sklearn.model_selection import train_test_split\n",
    "from sklearn.preprocessing import StandardScaler"
   ]
  },
  {
   "cell_type": "code",
   "execution_count": 36,
   "id": "2d34d885",
   "metadata": {},
   "outputs": [],
   "source": [
    "skl_scaler = StandardScaler()\n",
    "X1 = skl_scaler.fit_transform(X1)\n",
    "\n",
    "skl_scaler2 = StandardScaler()\n",
    "X2 = skl_scaler2.fit_transform(X2)"
   ]
  },
  {
   "cell_type": "code",
   "execution_count": 37,
   "id": "d273a66f",
   "metadata": {},
   "outputs": [],
   "source": [
    "X1_train, X1_test, y1_train, y1_test = train_test_split(X1, y1, test_size = 0.1, random_state = 42)\n",
    "X2_train, X2_test, y2_train, y2_test = train_test_split(X2, y2, test_size = 0.1, random_state = 42)"
   ]
  },
  {
   "cell_type": "code",
   "execution_count": 38,
   "id": "4e419322",
   "metadata": {},
   "outputs": [],
   "source": [
    "from sklearn.neighbors import KNeighborsClassifier\n",
    "from sklearn.metrics import classification_report, accuracy_score, f1_score"
   ]
  },
  {
   "cell_type": "markdown",
   "id": "0ffceec2",
   "metadata": {},
   "source": [
    "### Before Bandpass Filtering"
   ]
  },
  {
   "cell_type": "code",
   "execution_count": 39,
   "id": "a1991767",
   "metadata": {},
   "outputs": [
    {
     "name": "stdout",
     "output_type": "stream",
     "text": [
      "Training\n",
      "              precision    recall  f1-score   support\n",
      "\n",
      "         GPD       0.81      0.92      0.86      1794\n",
      "        GRDA       0.72      0.87      0.79      1819\n",
      "         LPD       0.75      0.87      0.80      1800\n",
      "        LRDA       0.80      0.87      0.83      1795\n",
      "       Other       0.76      0.53      0.62      1808\n",
      "     Seizure       0.86      0.60      0.71      1784\n",
      "\n",
      "    accuracy                           0.78     10800\n",
      "   macro avg       0.78      0.78      0.77     10800\n",
      "weighted avg       0.78      0.78      0.77     10800\n",
      "\n",
      "Testing\n",
      "              precision    recall  f1-score   support\n",
      "\n",
      "         GPD       0.72      0.85      0.78       206\n",
      "        GRDA       0.56      0.76      0.65       181\n",
      "         LPD       0.63      0.71      0.67       200\n",
      "        LRDA       0.65      0.76      0.70       205\n",
      "       Other       0.64      0.41      0.50       192\n",
      "     Seizure       0.74      0.44      0.55       216\n",
      "\n",
      "    accuracy                           0.65      1200\n",
      "   macro avg       0.66      0.65      0.64      1200\n",
      "weighted avg       0.66      0.65      0.64      1200\n",
      "\n"
     ]
    }
   ],
   "source": [
    "knn = KNeighborsClassifier()\n",
    "knn.fit(X1_train, y1_train)\n",
    "training_yhat1 = knn.predict(X1_train)\n",
    "testing_yhat1 = knn.predict(X1_test)\n",
    "print('Training')\n",
    "print(classification_report(y1_train, training_yhat1))\n",
    "print('Testing')\n",
    "print(classification_report(y1_test, testing_yhat1))"
   ]
  },
  {
   "cell_type": "code",
   "execution_count": 41,
   "id": "7b46ac82",
   "metadata": {},
   "outputs": [],
   "source": [
    "nofilter_train, nofilter_test = accuracy_score(y1_train, training_yhat1), accuracy_score(y1_test, testing_yhat1)"
   ]
  },
  {
   "cell_type": "code",
   "execution_count": 43,
   "id": "9f791820",
   "metadata": {},
   "outputs": [
    {
     "data": {
      "text/plain": [
       "(0.776, 0.653)"
      ]
     },
     "execution_count": 43,
     "metadata": {},
     "output_type": "execute_result"
    }
   ],
   "source": [
    "nofilter_train.round(decimals = 3), nofilter_test.round(decimals = 3)"
   ]
  },
  {
   "cell_type": "markdown",
   "id": "28a56cc4",
   "metadata": {},
   "source": [
    "### After Bandpass Filtering"
   ]
  },
  {
   "cell_type": "code",
   "execution_count": 21,
   "id": "ed83dcfe",
   "metadata": {},
   "outputs": [
    {
     "name": "stdout",
     "output_type": "stream",
     "text": [
      "Training\n",
      "              precision    recall  f1-score   support\n",
      "\n",
      "         GPD       0.79      0.91      0.85      1803\n",
      "        GRDA       0.76      0.88      0.81      1803\n",
      "         LPD       0.75      0.87      0.80      1792\n",
      "        LRDA       0.83      0.89      0.86      1788\n",
      "       Other       0.76      0.54      0.63      1807\n",
      "     Seizure       0.87      0.63      0.73      1807\n",
      "\n",
      "    accuracy                           0.79     10800\n",
      "   macro avg       0.79      0.79      0.78     10800\n",
      "weighted avg       0.79      0.79      0.78     10800\n",
      "\n",
      "Testing\n",
      "              precision    recall  f1-score   support\n",
      "\n",
      "         GPD       0.67      0.85      0.75       197\n",
      "        GRDA       0.67      0.79      0.73       197\n",
      "         LPD       0.66      0.77      0.71       208\n",
      "        LRDA       0.80      0.78      0.79       212\n",
      "       Other       0.56      0.42      0.48       193\n",
      "     Seizure       0.77      0.50      0.61       193\n",
      "\n",
      "    accuracy                           0.69      1200\n",
      "   macro avg       0.69      0.69      0.68      1200\n",
      "weighted avg       0.69      0.69      0.68      1200\n",
      "\n"
     ]
    }
   ],
   "source": [
    "knn = KNeighborsClassifier()\n",
    "knn.fit(X2_train, y2_train)\n",
    "training_yhat2 = knn.predict(X2_train)\n",
    "testing_yhat2 = knn.predict(X2_test)\n",
    "print('Training')\n",
    "print(classification_report(y2_train, training_yhat2))\n",
    "print('Testing')\n",
    "print(classification_report(y2_test, testing_yhat2))"
   ]
  },
  {
   "cell_type": "markdown",
   "id": "8533050a",
   "metadata": {},
   "source": [
    "### Initial Notes on Results  \n",
    "  \n",
    "I had to run the above code again. I got a 3% testing accuracy improvement the first few times I ran it and then a 1% improvement. This most recent run shows no change in testing accuracy before and after bandpass filtering with a bandpass filter set at 1 Hz and 70 Hz.  \n",
    "  \n",
    "### Highpass Filtering"
   ]
  },
  {
   "cell_type": "code",
   "execution_count": 28,
   "id": "5492fee2",
   "metadata": {},
   "outputs": [],
   "source": [
    "#highpass_vals = [0.5, 1.0, 1.5, 2.0]\n",
    "#for i in range(len(highpass_vals)):\n",
    "#    feature_df = full_band_df(2000, activity_df_list, highpass_vals[i], None, bandpass = True, notch = False, reref = False)\n",
    "#    feature_df.to_csv('highpass_features_{}.csv'.format(i), index = None)"
   ]
  },
  {
   "cell_type": "code",
   "execution_count": 50,
   "id": "aaf40697",
   "metadata": {},
   "outputs": [],
   "source": [
    "X0 = pd.read_csv('highpass_features_0.csv')\n",
    "X1 = pd.read_csv('highpass_features_1.csv')\n",
    "X2 = pd.read_csv('highpass_features_2.csv')\n",
    "X3 = pd.read_csv('highpass_features_3.csv')\n",
    "y = y_true['activity'].copy()"
   ]
  },
  {
   "cell_type": "code",
   "execution_count": 51,
   "id": "9dd47d2b",
   "metadata": {},
   "outputs": [],
   "source": [
    "scaler0 = StandardScaler()\n",
    "X0 = scaler0.fit_transform(X0)\n",
    "\n",
    "scaler1 = StandardScaler()\n",
    "X1 = scaler1.fit_transform(X1)\n",
    "\n",
    "scaler2 = StandardScaler()\n",
    "X2 = scaler2.fit_transform(X2)\n",
    "\n",
    "scaler3 = StandardScaler()\n",
    "X3 = scaler3.fit_transform(X3)"
   ]
  },
  {
   "cell_type": "code",
   "execution_count": 52,
   "id": "5b076e03",
   "metadata": {},
   "outputs": [],
   "source": [
    "X0_train, X0_test, y0_train, y0_test = train_test_split(X0, y, test_size = 0.1, random_state = 42)\n",
    "X1_train, X1_test, y1_train, y1_test = train_test_split(X1, y, test_size = 0.1, random_state = 42)\n",
    "X2_train, X2_test, y2_train, y2_test = train_test_split(X2, y, test_size = 0.1, random_state = 42)\n",
    "X3_train, X3_test, y3_train, y3_test = train_test_split(X3, y, test_size = 0.1, random_state = 42)"
   ]
  },
  {
   "cell_type": "code",
   "execution_count": 32,
   "id": "a4a46b2a",
   "metadata": {},
   "outputs": [],
   "source": [
    "x_training_sets = [X0_train, X1_train, X2_train, X3_train]\n",
    "x_testing_sets = [X0_test, X1_test, X2_test, X3_test]"
   ]
  },
  {
   "cell_type": "code",
   "execution_count": 33,
   "id": "0df5d665",
   "metadata": {},
   "outputs": [],
   "source": [
    "y_training_sets = [y0_train, y1_train, y2_train, y3_train]\n",
    "y_testing_sets = [y0_test, y1_test, y2_test, y3_test]"
   ]
  },
  {
   "cell_type": "code",
   "execution_count": 34,
   "id": "edfc3480",
   "metadata": {},
   "outputs": [],
   "source": [
    "training_accs, training_macro_f1s, training_f1s = [], [], []\n",
    "testing_accs, testing_macro_f1s, testing_f1s = [], [], []\n",
    "for i in range(4):\n",
    "    knn = KNeighborsClassifier()\n",
    "    knn.fit(x_training_sets[i], y_training_sets[i])\n",
    "    training_yhat = knn.predict(x_training_sets[i])\n",
    "    testing_yhat = knn.predict(x_testing_sets[i])\n",
    "    training_accs.append(accuracy_score(y_training_sets[i], training_yhat))\n",
    "    training_macro_f1s.append(f1_score(y_training_sets[i], training_yhat, average = 'macro'))\n",
    "    training_f1s.append(f1_score(y_training_sets[i], training_yhat, average = None))\n",
    "    testing_accs.append(accuracy_score(y_testing_sets[i], testing_yhat))\n",
    "    testing_macro_f1s.append(f1_score(y_testing_sets[i], testing_yhat, average = 'macro'))\n",
    "    testing_f1s.append(f1_score(y_testing_sets[i], testing_yhat, average = None))"
   ]
  },
  {
   "cell_type": "code",
   "execution_count": 35,
   "id": "a9d74ec1",
   "metadata": {},
   "outputs": [],
   "source": [
    "training_f1_activity = pd.DataFrame(training_f1s, index = ['0.5 Hz', '1.0 Hz', '1.5 Hz', '2.0 Hz'], columns = np.unique(y)).transpose()\n",
    "testing_f1_activity = pd.DataFrame(testing_f1s, index = ['0.5 Hz', '1.0 Hz', '1.5 Hz', '2.0 Hz'], columns = np.unique(y)).transpose()"
   ]
  },
  {
   "cell_type": "code",
   "execution_count": 42,
   "id": "682ecaba",
   "metadata": {},
   "outputs": [
    {
     "data": {
      "text/html": [
       "<div>\n",
       "<style scoped>\n",
       "    .dataframe tbody tr th:only-of-type {\n",
       "        vertical-align: middle;\n",
       "    }\n",
       "\n",
       "    .dataframe tbody tr th {\n",
       "        vertical-align: top;\n",
       "    }\n",
       "\n",
       "    .dataframe thead th {\n",
       "        text-align: right;\n",
       "    }\n",
       "</style>\n",
       "<table border=\"1\" class=\"dataframe\">\n",
       "  <thead>\n",
       "    <tr style=\"text-align: right;\">\n",
       "      <th></th>\n",
       "      <th>0.5 Hz</th>\n",
       "      <th>1.0 Hz</th>\n",
       "      <th>1.5 Hz</th>\n",
       "      <th>2.0 Hz</th>\n",
       "    </tr>\n",
       "  </thead>\n",
       "  <tbody>\n",
       "    <tr>\n",
       "      <th>GPD</th>\n",
       "      <td>0.843</td>\n",
       "      <td>0.857</td>\n",
       "      <td>0.853</td>\n",
       "      <td>0.855</td>\n",
       "    </tr>\n",
       "    <tr>\n",
       "      <th>GRDA</th>\n",
       "      <td>0.806</td>\n",
       "      <td>0.803</td>\n",
       "      <td>0.813</td>\n",
       "      <td>0.809</td>\n",
       "    </tr>\n",
       "    <tr>\n",
       "      <th>LPD</th>\n",
       "      <td>0.793</td>\n",
       "      <td>0.800</td>\n",
       "      <td>0.808</td>\n",
       "      <td>0.803</td>\n",
       "    </tr>\n",
       "    <tr>\n",
       "      <th>LRDA</th>\n",
       "      <td>0.834</td>\n",
       "      <td>0.842</td>\n",
       "      <td>0.848</td>\n",
       "      <td>0.849</td>\n",
       "    </tr>\n",
       "    <tr>\n",
       "      <th>Other</th>\n",
       "      <td>0.628</td>\n",
       "      <td>0.657</td>\n",
       "      <td>0.655</td>\n",
       "      <td>0.656</td>\n",
       "    </tr>\n",
       "    <tr>\n",
       "      <th>Seizure</th>\n",
       "      <td>0.725</td>\n",
       "      <td>0.744</td>\n",
       "      <td>0.732</td>\n",
       "      <td>0.728</td>\n",
       "    </tr>\n",
       "  </tbody>\n",
       "</table>\n",
       "</div>"
      ],
      "text/plain": [
       "         0.5 Hz  1.0 Hz  1.5 Hz  2.0 Hz\n",
       "GPD       0.843   0.857   0.853   0.855\n",
       "GRDA      0.806   0.803   0.813   0.809\n",
       "LPD       0.793   0.800   0.808   0.803\n",
       "LRDA      0.834   0.842   0.848   0.849\n",
       "Other     0.628   0.657   0.655   0.656\n",
       "Seizure   0.725   0.744   0.732   0.728"
      ]
     },
     "execution_count": 42,
     "metadata": {},
     "output_type": "execute_result"
    }
   ],
   "source": [
    "training_f1_activity.round(decimals = 3)"
   ]
  },
  {
   "cell_type": "code",
   "execution_count": 44,
   "id": "d93a3f8e",
   "metadata": {},
   "outputs": [
    {
     "data": {
      "text/html": [
       "<div>\n",
       "<style scoped>\n",
       "    .dataframe tbody tr th:only-of-type {\n",
       "        vertical-align: middle;\n",
       "    }\n",
       "\n",
       "    .dataframe tbody tr th {\n",
       "        vertical-align: top;\n",
       "    }\n",
       "\n",
       "    .dataframe thead th {\n",
       "        text-align: right;\n",
       "    }\n",
       "</style>\n",
       "<table border=\"1\" class=\"dataframe\">\n",
       "  <thead>\n",
       "    <tr style=\"text-align: right;\">\n",
       "      <th></th>\n",
       "      <th>0.5 Hz</th>\n",
       "      <th>1.0 Hz</th>\n",
       "      <th>1.5 Hz</th>\n",
       "      <th>2.0 Hz</th>\n",
       "    </tr>\n",
       "  </thead>\n",
       "  <tbody>\n",
       "    <tr>\n",
       "      <th>GPD</th>\n",
       "      <td>0.783</td>\n",
       "      <td>0.786</td>\n",
       "      <td>0.751</td>\n",
       "      <td>0.773</td>\n",
       "    </tr>\n",
       "    <tr>\n",
       "      <th>GRDA</th>\n",
       "      <td>0.688</td>\n",
       "      <td>0.737</td>\n",
       "      <td>0.710</td>\n",
       "      <td>0.667</td>\n",
       "    </tr>\n",
       "    <tr>\n",
       "      <th>LPD</th>\n",
       "      <td>0.664</td>\n",
       "      <td>0.736</td>\n",
       "      <td>0.709</td>\n",
       "      <td>0.694</td>\n",
       "    </tr>\n",
       "    <tr>\n",
       "      <th>LRDA</th>\n",
       "      <td>0.730</td>\n",
       "      <td>0.771</td>\n",
       "      <td>0.736</td>\n",
       "      <td>0.768</td>\n",
       "    </tr>\n",
       "    <tr>\n",
       "      <th>Other</th>\n",
       "      <td>0.471</td>\n",
       "      <td>0.489</td>\n",
       "      <td>0.398</td>\n",
       "      <td>0.431</td>\n",
       "    </tr>\n",
       "    <tr>\n",
       "      <th>Seizure</th>\n",
       "      <td>0.521</td>\n",
       "      <td>0.571</td>\n",
       "      <td>0.557</td>\n",
       "      <td>0.624</td>\n",
       "    </tr>\n",
       "  </tbody>\n",
       "</table>\n",
       "</div>"
      ],
      "text/plain": [
       "         0.5 Hz  1.0 Hz  1.5 Hz  2.0 Hz\n",
       "GPD       0.783   0.786   0.751   0.773\n",
       "GRDA      0.688   0.737   0.710   0.667\n",
       "LPD       0.664   0.736   0.709   0.694\n",
       "LRDA      0.730   0.771   0.736   0.768\n",
       "Other     0.471   0.489   0.398   0.431\n",
       "Seizure   0.521   0.571   0.557   0.624"
      ]
     },
     "execution_count": 44,
     "metadata": {},
     "output_type": "execute_result"
    }
   ],
   "source": [
    "testing_f1_activity.round(decimals = 3)"
   ]
  },
  {
   "cell_type": "code",
   "execution_count": 38,
   "id": "72ee4f03",
   "metadata": {},
   "outputs": [],
   "source": [
    "overall_scores = pd.DataFrame(training_accs, index = ['0.5 Hz', '1.0 Hz', '1.5 Hz', '2.0 Hz'], columns = ['Training Accuracy'])"
   ]
  },
  {
   "cell_type": "code",
   "execution_count": 39,
   "id": "ac19389a",
   "metadata": {},
   "outputs": [],
   "source": [
    "overall_scores['Training Macro F1'] = training_macro_f1s\n",
    "overall_scores['Testing Accuracy'] = testing_accs\n",
    "overall_scores['Testing Macro F1'] = testing_macro_f1s"
   ]
  },
  {
   "cell_type": "markdown",
   "id": "ae1bef0c",
   "metadata": {},
   "source": [
    "### Notes on Results  \n",
    "  \n",
    "From these results, setting the highpass filter at 1 Hz generates the best results and the results with the smallest gap between training and testing results."
   ]
  },
  {
   "cell_type": "code",
   "execution_count": 45,
   "id": "6a1c5bff",
   "metadata": {},
   "outputs": [
    {
     "data": {
      "text/html": [
       "<div>\n",
       "<style scoped>\n",
       "    .dataframe tbody tr th:only-of-type {\n",
       "        vertical-align: middle;\n",
       "    }\n",
       "\n",
       "    .dataframe tbody tr th {\n",
       "        vertical-align: top;\n",
       "    }\n",
       "\n",
       "    .dataframe thead th {\n",
       "        text-align: right;\n",
       "    }\n",
       "</style>\n",
       "<table border=\"1\" class=\"dataframe\">\n",
       "  <thead>\n",
       "    <tr style=\"text-align: right;\">\n",
       "      <th></th>\n",
       "      <th>Training Accuracy</th>\n",
       "      <th>Training Macro F1</th>\n",
       "      <th>Testing Accuracy</th>\n",
       "      <th>Testing Macro F1</th>\n",
       "    </tr>\n",
       "  </thead>\n",
       "  <tbody>\n",
       "    <tr>\n",
       "      <th>0.5 Hz</th>\n",
       "      <td>0.779</td>\n",
       "      <td>0.772</td>\n",
       "      <td>0.661</td>\n",
       "      <td>0.643</td>\n",
       "    </tr>\n",
       "    <tr>\n",
       "      <th>1.0 Hz</th>\n",
       "      <td>0.790</td>\n",
       "      <td>0.784</td>\n",
       "      <td>0.697</td>\n",
       "      <td>0.682</td>\n",
       "    </tr>\n",
       "    <tr>\n",
       "      <th>1.5 Hz</th>\n",
       "      <td>0.791</td>\n",
       "      <td>0.785</td>\n",
       "      <td>0.656</td>\n",
       "      <td>0.643</td>\n",
       "    </tr>\n",
       "    <tr>\n",
       "      <th>2.0 Hz</th>\n",
       "      <td>0.789</td>\n",
       "      <td>0.783</td>\n",
       "      <td>0.670</td>\n",
       "      <td>0.659</td>\n",
       "    </tr>\n",
       "  </tbody>\n",
       "</table>\n",
       "</div>"
      ],
      "text/plain": [
       "        Training Accuracy  Training Macro F1  Testing Accuracy  \\\n",
       "0.5 Hz              0.779              0.772             0.661   \n",
       "1.0 Hz              0.790              0.784             0.697   \n",
       "1.5 Hz              0.791              0.785             0.656   \n",
       "2.0 Hz              0.789              0.783             0.670   \n",
       "\n",
       "        Testing Macro F1  \n",
       "0.5 Hz             0.643  \n",
       "1.0 Hz             0.682  \n",
       "1.5 Hz             0.643  \n",
       "2.0 Hz             0.659  "
      ]
     },
     "execution_count": 45,
     "metadata": {},
     "output_type": "execute_result"
    }
   ],
   "source": [
    "overall_scores.round(decimals = 3)"
   ]
  },
  {
   "cell_type": "code",
   "execution_count": 72,
   "id": "aac64920",
   "metadata": {},
   "outputs": [
    {
     "data": {
      "image/png": "[encoded data removed]",
      "text/plain": [
       "<Figure size 432x288 with 1 Axes>"
      ]
     },
     "metadata": {
      "needs_background": "light"
     },
     "output_type": "display_data"
    }
   ],
   "source": [
    "plt.plot(highpass_vals, training_accs, '-o', color = 'skyblue', label = 'training')\n",
    "plt.plot(highpass_vals, testing_accs, '-o', color = 'lightgreen', label = 'testing')\n",
    "plt.xlabel('Highpass Filter (Hz)')\n",
    "plt.ylabel('Accuracy Score')\n",
    "plt.xticks([0.5, 1.0, 1.5, 2.0])\n",
    "plt.yticks([0.6, 0.7, 0.8, 0.9])\n",
    "plt.title('Training vs. Testing Accuracy Score by Highpass Filter (Hz)')\n",
    "plt.legend(bbox_to_anchor = (1.25, 1), loc = 'upper right')\n",
    "plt.show()"
   ]
  },
  {
   "cell_type": "code",
   "execution_count": 71,
   "id": "4a1c2989",
   "metadata": {},
   "outputs": [
    {
     "data": {
      "image/png": "[encoded data removed]",
      "text/plain": [
       "<Figure size 432x288 with 1 Axes>"
      ]
     },
     "metadata": {
      "needs_background": "light"
     },
     "output_type": "display_data"
    }
   ],
   "source": [
    "plt.plot(highpass_vals, training_macro_f1s, '-o', color = 'skyblue', label = 'training')\n",
    "plt.plot(highpass_vals, testing_macro_f1s, '-o', color = 'lightgreen', label = 'testing')\n",
    "plt.xlabel('Highpass Filter (Hz)')\n",
    "plt.ylabel('F1 Score')\n",
    "plt.xticks([0.5, 1.0, 1.5, 2.0])\n",
    "plt.yticks([0.6, 0.7, 0.8, 0.9])\n",
    "plt.title('Training vs. Testing F1 Score by Highpass Filter (Hz)')\n",
    "plt.legend(bbox_to_anchor = (1.25, 1), loc = 'upper right')\n",
    "plt.show()"
   ]
  },
  {
   "cell_type": "markdown",
   "id": "9c87001a",
   "metadata": {},
   "source": [
    "### Lowpass Filtering"
   ]
  },
  {
   "cell_type": "code",
   "execution_count": 73,
   "id": "6be1f9b9",
   "metadata": {},
   "outputs": [],
   "source": [
    "lowpass_values = [40, 50, 60, 70, 80, 90]"
   ]
  },
  {
   "cell_type": "code",
   "execution_count": 75,
   "id": "dedd1ef5",
   "metadata": {},
   "outputs": [],
   "source": [
    "#for i in range(6):\n",
    "#    feature_df = full_band_df(2000, activity_df_list, None, lowpass_values[i], bandpass = True, notch = False, reref = False)\n",
    "#    feature_df.to_csv('lowpass_features_{}.csv'.format(i), index = None)"
   ]
  },
  {
   "cell_type": "code",
   "execution_count": 76,
   "id": "0eca9f41",
   "metadata": {},
   "outputs": [],
   "source": [
    "X0 = pd.read_csv('lowpass_features_0.csv')\n",
    "X1 = pd.read_csv('lowpass_features_1.csv')\n",
    "X2 = pd.read_csv('lowpass_features_2.csv')\n",
    "X3 = pd.read_csv('lowpass_features_3.csv')\n",
    "X4 = pd.read_csv('lowpass_features_4.csv')\n",
    "X5 = pd.read_csv('lowpass_features_5.csv')"
   ]
  },
  {
   "cell_type": "code",
   "execution_count": 77,
   "id": "ef556394",
   "metadata": {},
   "outputs": [],
   "source": [
    "scaler0 = StandardScaler()\n",
    "X0 = scaler0.fit_transform(X0)\n",
    "\n",
    "scaler1 = StandardScaler()\n",
    "X1 = scaler1.fit_transform(X1)\n",
    "\n",
    "scaler2 = StandardScaler()\n",
    "X2 = scaler2.fit_transform(X2)\n",
    "\n",
    "scaler3 = StandardScaler()\n",
    "X3 = scaler3.fit_transform(X3)\n",
    "\n",
    "scaler4 = StandardScaler()\n",
    "X4 = scaler4.fit_transform(X4)\n",
    "\n",
    "scaler5 = StandardScaler()\n",
    "X5 = scaler5.fit_transform(X5)"
   ]
  },
  {
   "cell_type": "code",
   "execution_count": 78,
   "id": "5cab3c9f",
   "metadata": {},
   "outputs": [],
   "source": [
    "X0_train, X0_test, y0_train, y0_test = train_test_split(X0, y, test_size = 0.1)\n",
    "X1_train, X1_test, y1_train, y1_test = train_test_split(X1, y, test_size = 0.1)\n",
    "X2_train, X2_test, y2_train, y2_test = train_test_split(X2, y, test_size = 0.1)\n",
    "X3_train, X3_test, y3_train, y3_test = train_test_split(X3, y, test_size = 0.1)\n",
    "X4_train, X4_test, y4_train, y4_test = train_test_split(X4, y, test_size = 0.1)\n",
    "X5_train, X5_test, y5_train, y5_test = train_test_split(X5, y, test_size = 0.1)"
   ]
  },
  {
   "cell_type": "code",
   "execution_count": 79,
   "id": "b20a7986",
   "metadata": {},
   "outputs": [],
   "source": [
    "x_training_sets = [X0_train, X1_train, X2_train, X3_train, X4_train, X5_train]\n",
    "x_testing_sets = [X0_test, X1_test, X2_test, X3_test, X4_test, X5_test]"
   ]
  },
  {
   "cell_type": "code",
   "execution_count": 80,
   "id": "0199a338",
   "metadata": {},
   "outputs": [],
   "source": [
    "y_training_sets = [y0_train, y1_train, y2_train, y3_train, y4_train, y5_train]\n",
    "y_testing_sets = [y0_test, y1_test, y2_test, y3_test, y4_test, y5_test]"
   ]
  },
  {
   "cell_type": "code",
   "execution_count": 81,
   "id": "3f994832",
   "metadata": {},
   "outputs": [],
   "source": [
    "training_accs, training_macro_f1s, training_f1s = [], [], []\n",
    "testing_accs, testing_macro_f1s, testing_f1s = [], [], []\n",
    "for i in range(6):\n",
    "    knn = KNeighborsClassifier()\n",
    "    knn.fit(x_training_sets[i], y_training_sets[i])\n",
    "    training_yhat = knn.predict(x_training_sets[i])\n",
    "    testing_yhat = knn.predict(x_testing_sets[i])\n",
    "    training_accs.append(accuracy_score(y_training_sets[i], training_yhat))\n",
    "    training_macro_f1s.append(f1_score(y_training_sets[i], training_yhat, average = 'macro'))\n",
    "    training_f1s.append(f1_score(y_training_sets[i], training_yhat, average = None))\n",
    "    testing_accs.append(accuracy_score(y_testing_sets[i], testing_yhat))\n",
    "    testing_macro_f1s.append(f1_score(y_testing_sets[i], testing_yhat, average = 'macro'))\n",
    "    testing_f1s.append(f1_score(y_testing_sets[i], testing_yhat, average = None))"
   ]
  },
  {
   "cell_type": "code",
   "execution_count": 82,
   "id": "5fd2ab06",
   "metadata": {},
   "outputs": [],
   "source": [
    "training_f1_activity = pd.DataFrame(training_f1s, index = ['40 Hz', '50 Hz', '60 Hz', '70 Hz', '80 Hz', '90 Hz'], columns = np.unique(y)).transpose()\n",
    "testing_f1_activity = pd.DataFrame(testing_f1s, index = ['40 Hz', '50 Hz', '60 Hz', '70 Hz', '80 Hz', '90 Hz'], columns = np.unique(y)).transpose()"
   ]
  },
  {
   "cell_type": "code",
   "execution_count": 83,
   "id": "eba65b04",
   "metadata": {},
   "outputs": [
    {
     "data": {
      "text/html": [
       "<div>\n",
       "<style scoped>\n",
       "    .dataframe tbody tr th:only-of-type {\n",
       "        vertical-align: middle;\n",
       "    }\n",
       "\n",
       "    .dataframe tbody tr th {\n",
       "        vertical-align: top;\n",
       "    }\n",
       "\n",
       "    .dataframe thead th {\n",
       "        text-align: right;\n",
       "    }\n",
       "</style>\n",
       "<table border=\"1\" class=\"dataframe\">\n",
       "  <thead>\n",
       "    <tr style=\"text-align: right;\">\n",
       "      <th></th>\n",
       "      <th>40 Hz</th>\n",
       "      <th>50 Hz</th>\n",
       "      <th>60 Hz</th>\n",
       "      <th>70 Hz</th>\n",
       "      <th>80 Hz</th>\n",
       "      <th>90 Hz</th>\n",
       "    </tr>\n",
       "  </thead>\n",
       "  <tbody>\n",
       "    <tr>\n",
       "      <th>GPD</th>\n",
       "      <td>0.852</td>\n",
       "      <td>0.852</td>\n",
       "      <td>0.855</td>\n",
       "      <td>0.860</td>\n",
       "      <td>0.867</td>\n",
       "      <td>0.857</td>\n",
       "    </tr>\n",
       "    <tr>\n",
       "      <th>GRDA</th>\n",
       "      <td>0.778</td>\n",
       "      <td>0.788</td>\n",
       "      <td>0.802</td>\n",
       "      <td>0.785</td>\n",
       "      <td>0.792</td>\n",
       "      <td>0.805</td>\n",
       "    </tr>\n",
       "    <tr>\n",
       "      <th>LPD</th>\n",
       "      <td>0.764</td>\n",
       "      <td>0.792</td>\n",
       "      <td>0.805</td>\n",
       "      <td>0.798</td>\n",
       "      <td>0.798</td>\n",
       "      <td>0.800</td>\n",
       "    </tr>\n",
       "    <tr>\n",
       "      <th>LRDA</th>\n",
       "      <td>0.842</td>\n",
       "      <td>0.827</td>\n",
       "      <td>0.842</td>\n",
       "      <td>0.841</td>\n",
       "      <td>0.833</td>\n",
       "      <td>0.838</td>\n",
       "    </tr>\n",
       "    <tr>\n",
       "      <th>Other</th>\n",
       "      <td>0.608</td>\n",
       "      <td>0.617</td>\n",
       "      <td>0.655</td>\n",
       "      <td>0.650</td>\n",
       "      <td>0.633</td>\n",
       "      <td>0.645</td>\n",
       "    </tr>\n",
       "    <tr>\n",
       "      <th>Seizure</th>\n",
       "      <td>0.666</td>\n",
       "      <td>0.695</td>\n",
       "      <td>0.729</td>\n",
       "      <td>0.728</td>\n",
       "      <td>0.721</td>\n",
       "      <td>0.703</td>\n",
       "    </tr>\n",
       "  </tbody>\n",
       "</table>\n",
       "</div>"
      ],
      "text/plain": [
       "         40 Hz  50 Hz  60 Hz  70 Hz  80 Hz  90 Hz\n",
       "GPD      0.852  0.852  0.855  0.860  0.867  0.857\n",
       "GRDA     0.778  0.788  0.802  0.785  0.792  0.805\n",
       "LPD      0.764  0.792  0.805  0.798  0.798  0.800\n",
       "LRDA     0.842  0.827  0.842  0.841  0.833  0.838\n",
       "Other    0.608  0.617  0.655  0.650  0.633  0.645\n",
       "Seizure  0.666  0.695  0.729  0.728  0.721  0.703"
      ]
     },
     "execution_count": 83,
     "metadata": {},
     "output_type": "execute_result"
    }
   ],
   "source": [
    "training_f1_activity.round(decimals = 3)"
   ]
  },
  {
   "cell_type": "code",
   "execution_count": 84,
   "id": "61f69bef",
   "metadata": {},
   "outputs": [
    {
     "data": {
      "text/html": [
       "<div>\n",
       "<style scoped>\n",
       "    .dataframe tbody tr th:only-of-type {\n",
       "        vertical-align: middle;\n",
       "    }\n",
       "\n",
       "    .dataframe tbody tr th {\n",
       "        vertical-align: top;\n",
       "    }\n",
       "\n",
       "    .dataframe thead th {\n",
       "        text-align: right;\n",
       "    }\n",
       "</style>\n",
       "<table border=\"1\" class=\"dataframe\">\n",
       "  <thead>\n",
       "    <tr style=\"text-align: right;\">\n",
       "      <th></th>\n",
       "      <th>40 Hz</th>\n",
       "      <th>50 Hz</th>\n",
       "      <th>60 Hz</th>\n",
       "      <th>70 Hz</th>\n",
       "      <th>80 Hz</th>\n",
       "      <th>90 Hz</th>\n",
       "    </tr>\n",
       "  </thead>\n",
       "  <tbody>\n",
       "    <tr>\n",
       "      <th>GPD</th>\n",
       "      <td>0.748</td>\n",
       "      <td>0.757</td>\n",
       "      <td>0.745</td>\n",
       "      <td>0.755</td>\n",
       "      <td>0.762</td>\n",
       "      <td>0.770</td>\n",
       "    </tr>\n",
       "    <tr>\n",
       "      <th>GRDA</th>\n",
       "      <td>0.647</td>\n",
       "      <td>0.667</td>\n",
       "      <td>0.674</td>\n",
       "      <td>0.664</td>\n",
       "      <td>0.662</td>\n",
       "      <td>0.676</td>\n",
       "    </tr>\n",
       "    <tr>\n",
       "      <th>LPD</th>\n",
       "      <td>0.656</td>\n",
       "      <td>0.627</td>\n",
       "      <td>0.673</td>\n",
       "      <td>0.683</td>\n",
       "      <td>0.708</td>\n",
       "      <td>0.688</td>\n",
       "    </tr>\n",
       "    <tr>\n",
       "      <th>LRDA</th>\n",
       "      <td>0.746</td>\n",
       "      <td>0.737</td>\n",
       "      <td>0.764</td>\n",
       "      <td>0.751</td>\n",
       "      <td>0.726</td>\n",
       "      <td>0.744</td>\n",
       "    </tr>\n",
       "    <tr>\n",
       "      <th>Other</th>\n",
       "      <td>0.449</td>\n",
       "      <td>0.412</td>\n",
       "      <td>0.389</td>\n",
       "      <td>0.462</td>\n",
       "      <td>0.385</td>\n",
       "      <td>0.444</td>\n",
       "    </tr>\n",
       "    <tr>\n",
       "      <th>Seizure</th>\n",
       "      <td>0.542</td>\n",
       "      <td>0.522</td>\n",
       "      <td>0.561</td>\n",
       "      <td>0.562</td>\n",
       "      <td>0.559</td>\n",
       "      <td>0.555</td>\n",
       "    </tr>\n",
       "  </tbody>\n",
       "</table>\n",
       "</div>"
      ],
      "text/plain": [
       "         40 Hz  50 Hz  60 Hz  70 Hz  80 Hz  90 Hz\n",
       "GPD      0.748  0.757  0.745  0.755  0.762  0.770\n",
       "GRDA     0.647  0.667  0.674  0.664  0.662  0.676\n",
       "LPD      0.656  0.627  0.673  0.683  0.708  0.688\n",
       "LRDA     0.746  0.737  0.764  0.751  0.726  0.744\n",
       "Other    0.449  0.412  0.389  0.462  0.385  0.444\n",
       "Seizure  0.542  0.522  0.561  0.562  0.559  0.555"
      ]
     },
     "execution_count": 84,
     "metadata": {},
     "output_type": "execute_result"
    }
   ],
   "source": [
    "testing_f1_activity.round(decimals = 3)"
   ]
  },
  {
   "cell_type": "code",
   "execution_count": 85,
   "id": "20768cd0",
   "metadata": {},
   "outputs": [],
   "source": [
    "overall_scores = pd.DataFrame(training_accs, index = ['40 Hz', '50 Hz', '60 Hz', '70 Hz', '80 Hz', '90 Hz'], columns = ['Training Accuracy'])"
   ]
  },
  {
   "cell_type": "code",
   "execution_count": 86,
   "id": "9c43e0d0",
   "metadata": {},
   "outputs": [],
   "source": [
    "overall_scores['Training Macro F1'] = training_macro_f1s\n",
    "overall_scores['Testing Accuracy'] = testing_accs\n",
    "overall_scores['Testing Macro F1'] = testing_macro_f1s"
   ]
  },
  {
   "cell_type": "markdown",
   "id": "33f2bdc5",
   "metadata": {},
   "source": [
    "### Notes on Results  \n",
    "  \n",
    "The best results here are 70 Hz and 90 Hz. They both mark about a 1% improvement in testing accuracy from the results before filtering. I'm going with 90 Hz for the lowpass filter instead of 70 Hz which was the recommendation from Learning EEG because a lowpass filter at 90 Hz filters out less data. When preprocessing EEG data, it's important to err on the side of caution because you don't want to distort the actual brain activity signals. The results of the 70 Hz and 90 Hz filters are nearly equivalent, so the best option is the one which filters out the least amount of data."
   ]
  },
  {
   "cell_type": "code",
   "execution_count": 87,
   "id": "f86bdbda",
   "metadata": {},
   "outputs": [
    {
     "data": {
      "text/html": [
       "<div>\n",
       "<style scoped>\n",
       "    .dataframe tbody tr th:only-of-type {\n",
       "        vertical-align: middle;\n",
       "    }\n",
       "\n",
       "    .dataframe tbody tr th {\n",
       "        vertical-align: top;\n",
       "    }\n",
       "\n",
       "    .dataframe thead th {\n",
       "        text-align: right;\n",
       "    }\n",
       "</style>\n",
       "<table border=\"1\" class=\"dataframe\">\n",
       "  <thead>\n",
       "    <tr style=\"text-align: right;\">\n",
       "      <th></th>\n",
       "      <th>Training Accuracy</th>\n",
       "      <th>Training Macro F1</th>\n",
       "      <th>Testing Accuracy</th>\n",
       "      <th>Testing Macro F1</th>\n",
       "    </tr>\n",
       "  </thead>\n",
       "  <tbody>\n",
       "    <tr>\n",
       "      <th>40 Hz</th>\n",
       "      <td>0.761</td>\n",
       "      <td>0.751</td>\n",
       "      <td>0.643</td>\n",
       "      <td>0.631</td>\n",
       "    </tr>\n",
       "    <tr>\n",
       "      <th>50 Hz</th>\n",
       "      <td>0.770</td>\n",
       "      <td>0.762</td>\n",
       "      <td>0.637</td>\n",
       "      <td>0.620</td>\n",
       "    </tr>\n",
       "    <tr>\n",
       "      <th>60 Hz</th>\n",
       "      <td>0.787</td>\n",
       "      <td>0.781</td>\n",
       "      <td>0.653</td>\n",
       "      <td>0.634</td>\n",
       "    </tr>\n",
       "    <tr>\n",
       "      <th>70 Hz</th>\n",
       "      <td>0.783</td>\n",
       "      <td>0.777</td>\n",
       "      <td>0.658</td>\n",
       "      <td>0.646</td>\n",
       "    </tr>\n",
       "    <tr>\n",
       "      <th>80 Hz</th>\n",
       "      <td>0.781</td>\n",
       "      <td>0.774</td>\n",
       "      <td>0.648</td>\n",
       "      <td>0.634</td>\n",
       "    </tr>\n",
       "    <tr>\n",
       "      <th>90 Hz</th>\n",
       "      <td>0.783</td>\n",
       "      <td>0.775</td>\n",
       "      <td>0.660</td>\n",
       "      <td>0.646</td>\n",
       "    </tr>\n",
       "  </tbody>\n",
       "</table>\n",
       "</div>"
      ],
      "text/plain": [
       "       Training Accuracy  Training Macro F1  Testing Accuracy  \\\n",
       "40 Hz              0.761              0.751             0.643   \n",
       "50 Hz              0.770              0.762             0.637   \n",
       "60 Hz              0.787              0.781             0.653   \n",
       "70 Hz              0.783              0.777             0.658   \n",
       "80 Hz              0.781              0.774             0.648   \n",
       "90 Hz              0.783              0.775             0.660   \n",
       "\n",
       "       Testing Macro F1  \n",
       "40 Hz             0.631  \n",
       "50 Hz             0.620  \n",
       "60 Hz             0.634  \n",
       "70 Hz             0.646  \n",
       "80 Hz             0.634  \n",
       "90 Hz             0.646  "
      ]
     },
     "execution_count": 87,
     "metadata": {},
     "output_type": "execute_result"
    }
   ],
   "source": [
    "overall_scores.round(decimals = 3)"
   ]
  },
  {
   "cell_type": "code",
   "execution_count": 89,
   "id": "ea47cb89",
   "metadata": {},
   "outputs": [
    {
     "data": {
      "image/png": "[encoded data removed]",
      "text/plain": [
       "<Figure size 432x288 with 1 Axes>"
      ]
     },
     "metadata": {
      "needs_background": "light"
     },
     "output_type": "display_data"
    }
   ],
   "source": [
    "plt.plot(lowpass_values, training_accs, '-o', color = 'skyblue', label = 'training')\n",
    "plt.plot(lowpass_values, testing_accs, '-o', color = 'lightgreen', label = 'testing')\n",
    "plt.xlabel('Lowpass Filter (Hz)')\n",
    "plt.ylabel('Accuracy Score')\n",
    "plt.xticks([40, 50, 60, 70, 80, 90])\n",
    "plt.yticks([0.6, 0.7, 0.8, 0.9])\n",
    "plt.title('Training vs. Testing Accuracy by Lowpass Filter (Hz)')\n",
    "plt.legend(bbox_to_anchor = (1.25, 1), loc = 'upper right')\n",
    "plt.show()"
   ]
  },
  {
   "cell_type": "code",
   "execution_count": 90,
   "id": "acf1f813",
   "metadata": {},
   "outputs": [
    {
     "data": {
      "image/png": "[encoded data removed]",
      "text/plain": [
       "<Figure size 432x288 with 1 Axes>"
      ]
     },
     "metadata": {
      "needs_background": "light"
     },
     "output_type": "display_data"
    }
   ],
   "source": [
    "plt.plot(lowpass_values, training_macro_f1s, '-o', color = 'skyblue', label = 'training')\n",
    "plt.plot(lowpass_values, testing_macro_f1s, '-o', color = 'lightgreen', label = 'testing')\n",
    "plt.xlabel('Lowpass Filter (Hz)')\n",
    "plt.ylabel('F1 Score')\n",
    "plt.xticks([40, 50, 60, 70, 80, 90])\n",
    "plt.yticks([0.6, 0.7, 0.8, 0.9])\n",
    "plt.title('Training vs. Testing F1 Score by Lowpass Filter (Hz)')\n",
    "plt.legend(bbox_to_anchor = (1.25, 1), loc = 'upper right')\n",
    "plt.show()"
   ]
  },
  {
   "cell_type": "markdown",
   "id": "f1162157",
   "metadata": {},
   "source": [
    "### Bandpass (1, 90) Filter"
   ]
  },
  {
   "cell_type": "code",
   "execution_count": 98,
   "id": "bca5a834",
   "metadata": {},
   "outputs": [],
   "source": [
    "#bandpass_190 = full_band_df(2000, activity_df_list, 1, 90, bandpass = True, notch = False, reref = False)\n",
    "#bandpass_190.to_csv('bandpass_190.csv', index = None)"
   ]
  },
  {
   "cell_type": "code",
   "execution_count": 46,
   "id": "7ca7a9c0",
   "metadata": {},
   "outputs": [],
   "source": [
    "X = pd.read_csv('bandpass_190.csv')\n",
    "\n",
    "scaler = StandardScaler()\n",
    "X = scaler.fit_transform(X)\n",
    "\n",
    "X_train, X_test, y_train, y_test = train_test_split(X, y, test_size = 0.1, random_state = 42)"
   ]
  },
  {
   "cell_type": "code",
   "execution_count": 47,
   "id": "6d4dc409",
   "metadata": {},
   "outputs": [
    {
     "name": "stdout",
     "output_type": "stream",
     "text": [
      "Training with Bandpass (1, 90)\n",
      "              precision    recall  f1-score   support\n",
      "\n",
      "         GPD       0.80      0.93      0.86      1794\n",
      "        GRDA       0.73      0.88      0.79      1819\n",
      "         LPD       0.75      0.86      0.80      1800\n",
      "        LRDA       0.82      0.87      0.84      1795\n",
      "       Other       0.77      0.56      0.65      1808\n",
      "     Seizure       0.87      0.60      0.71      1784\n",
      "\n",
      "    accuracy                           0.78     10800\n",
      "   macro avg       0.79      0.78      0.78     10800\n",
      "weighted avg       0.79      0.78      0.78     10800\n",
      "\n",
      "Testing with Bandpass (1, 90)\n",
      "              precision    recall  f1-score   support\n",
      "\n",
      "         GPD       0.73      0.86      0.79       206\n",
      "        GRDA       0.57      0.80      0.67       181\n",
      "         LPD       0.61      0.76      0.68       200\n",
      "        LRDA       0.74      0.77      0.76       205\n",
      "       Other       0.49      0.28      0.36       192\n",
      "     Seizure       0.83      0.50      0.62       216\n",
      "\n",
      "    accuracy                           0.66      1200\n",
      "   macro avg       0.66      0.66      0.64      1200\n",
      "weighted avg       0.67      0.66      0.65      1200\n",
      "\n"
     ]
    }
   ],
   "source": [
    "knn = KNeighborsClassifier()\n",
    "knn.fit(X_train, y_train)\n",
    "training_yhat = knn.predict(X_train)\n",
    "testing_yhat = knn.predict(X_test)\n",
    "print('Training with Bandpass (1, 90)')\n",
    "print(classification_report(y_train, training_yhat))\n",
    "print('Testing with Bandpass (1, 90)')\n",
    "print(classification_report(y_test, testing_yhat))"
   ]
  },
  {
   "cell_type": "code",
   "execution_count": 48,
   "id": "a63e1767",
   "metadata": {},
   "outputs": [],
   "source": [
    "lowpass_train, lowpass_test = accuracy_score(y_train, training_yhat), accuracy_score(y_test, testing_yhat)"
   ]
  },
  {
   "cell_type": "code",
   "execution_count": 49,
   "id": "142cee0f",
   "metadata": {},
   "outputs": [
    {
     "data": {
      "text/plain": [
       "(0.783, 0.662)"
      ]
     },
     "execution_count": 49,
     "metadata": {},
     "output_type": "execute_result"
    }
   ],
   "source": [
    "lowpass_train.round(decimals = 3), lowpass_test.round(decimals = 3)"
   ]
  },
  {
   "cell_type": "markdown",
   "id": "e4080abe",
   "metadata": {},
   "source": [
    "### Highpass Filter Only  \n",
    "  \n",
    "The lowpass filter at 90 Hz either doesn't improve results or hurts results slightly. In the interest of erring on the side of caution, it's best to not filter out data for no benefit."
   ]
  },
  {
   "cell_type": "code",
   "execution_count": 14,
   "id": "48e7725b",
   "metadata": {},
   "outputs": [],
   "source": [
    "#highpass_only = full_band_df(2000, activity_df_list, 1, None, bandpass = True, reref = False)\n",
    "#highpass_only.to_csv('highpass_only_df.csv', index = None)"
   ]
  },
  {
   "cell_type": "code",
   "execution_count": 23,
   "id": "c7abea8c",
   "metadata": {},
   "outputs": [],
   "source": [
    "X = pd.read_csv('highpass_only_df.csv')\n",
    "y = get_yvals(2000)['activity']\n",
    "\n",
    "scaler = StandardScaler()\n",
    "X = scaler.fit_transform(X)\n",
    "\n",
    "X_train, X_test, y_train, y_test = train_test_split(X, y, test_size = 0.1, random_state = 42)"
   ]
  },
  {
   "cell_type": "code",
   "execution_count": 24,
   "id": "88ac78ba",
   "metadata": {},
   "outputs": [
    {
     "name": "stdout",
     "output_type": "stream",
     "text": [
      "Training with Bandpass (Highpass at 1 Hz Only)\n",
      "              precision    recall  f1-score   support\n",
      "\n",
      "         GPD       0.80      0.92      0.86      1794\n",
      "        GRDA       0.73      0.88      0.80      1819\n",
      "         LPD       0.75      0.87      0.80      1800\n",
      "        LRDA       0.82      0.87      0.85      1795\n",
      "       Other       0.76      0.55      0.64      1808\n",
      "     Seizure       0.88      0.62      0.73      1784\n",
      "\n",
      "    accuracy                           0.78     10800\n",
      "   macro avg       0.79      0.78      0.78     10800\n",
      "weighted avg       0.79      0.78      0.78     10800\n",
      "\n",
      "Testing with Bandpass (Highpass at 1 Hz Only)\n",
      "              precision    recall  f1-score   support\n",
      "\n",
      "         GPD       0.72      0.87      0.79       206\n",
      "        GRDA       0.58      0.77      0.66       181\n",
      "         LPD       0.70      0.80      0.74       200\n",
      "        LRDA       0.73      0.83      0.78       205\n",
      "       Other       0.53      0.35      0.42       192\n",
      "     Seizure       0.72      0.42      0.53       216\n",
      "\n",
      "    accuracy                           0.67      1200\n",
      "   macro avg       0.66      0.67      0.65      1200\n",
      "weighted avg       0.67      0.67      0.65      1200\n",
      "\n"
     ]
    }
   ],
   "source": [
    "knn = KNeighborsClassifier()\n",
    "knn.fit(X_train, y_train)\n",
    "training_yhat = knn.predict(X_train)\n",
    "testing_yhat = knn.predict(X_test)\n",
    "print('Training with Bandpass (Highpass at 1 Hz Only)')\n",
    "print(classification_report(y_train, training_yhat))\n",
    "print('Testing with Bandpass (Highpass at 1 Hz Only)')\n",
    "print(classification_report(y_test, testing_yhat))"
   ]
  },
  {
   "cell_type": "code",
   "execution_count": null,
   "id": "8ac11114",
   "metadata": {},
   "outputs": [],
   "source": []
  }
 ],
 "metadata": {
  "kernelspec": {
   "display_name": "Python 3 (ipykernel)",
   "language": "python",
   "name": "python3"
  },
  "language_info": {
   "codemirror_mode": {
    "name": "ipython",
    "version": 3
   },
   "file_extension": ".py",
   "mimetype": "text/x-python",
   "name": "python",
   "nbconvert_exporter": "python",
   "pygments_lexer": "ipython3",
   "version": "3.8.10"
  }
 },
 "nbformat": 4,
 "nbformat_minor": 5
}
