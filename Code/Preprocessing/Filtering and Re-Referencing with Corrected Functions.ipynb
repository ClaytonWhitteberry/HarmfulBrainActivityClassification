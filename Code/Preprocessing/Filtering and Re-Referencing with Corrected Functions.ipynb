{
 "cells": [
  {
   "cell_type": "code",
   "execution_count": 1,
   "id": "f77bde38",
   "metadata": {},
   "outputs": [],
   "source": [
    "import numpy as np\n",
    "import pandas as pd\n",
    "import matplotlib.pyplot as plt\n",
    "import fastparquet, pyarrow\n",
    "import mne\n",
    "from mne.decoding import Scaler\n",
    "from sklearn.preprocessing import StandardScaler\n",
    "from sklearn.model_selection import train_test_split\n",
    "from sklearn.neighbors import KNeighborsClassifier\n",
    "from sklearn.metrics import classification_report, f1_score, accuracy_score\n",
    "from utils import *"
   ]
  },
  {
   "cell_type": "code",
   "execution_count": 2,
   "id": "93df0685",
   "metadata": {},
   "outputs": [],
   "source": [
    "mne.set_log_level('WARNING')"
   ]
  },
  {
   "cell_type": "code",
   "execution_count": 3,
   "id": "91998143",
   "metadata": {},
   "outputs": [],
   "source": [
    "df = pd.read_csv('by_patient.csv')"
   ]
  },
  {
   "cell_type": "code",
   "execution_count": 4,
   "id": "8933b5a4",
   "metadata": {},
   "outputs": [],
   "source": [
    "other_df = activity_df(df, 'Other', 'expert_consensus')\n",
    "seizure_df = activity_df(df, 'Seizure', 'expert_consensus')\n",
    "gpd_df = activity_df(df, 'GPD', 'expert_consensus')\n",
    "lpd_df = activity_df(df, 'LPD', 'expert_consensus')\n",
    "grda_df = activity_df(df, 'GRDA', 'expert_consensus')\n",
    "lrda_df = activity_df(df, 'LRDA', 'expert_consensus')\n",
    "activity_df_list = [other_df, seizure_df, gpd_df, lpd_df, grda_df, lrda_df]"
   ]
  },
  {
   "cell_type": "markdown",
   "id": "abcb4fbe",
   "metadata": {},
   "source": [
    "### Testing Each Step of Preprocessing Again  \n",
    "  \n",
    "I realized that the way I wrote my nested function in utils likely might have meant that even if I set bandpass and notch and reref as True, one of the functions within that overall function had them defaulted to False so that function would run bandpass = False when called. Re-Referencing having the effect that it did makes me think this isn't true and that setting the overall function's value for bandpass would set all internal functions' values and override whatever those internal functions' defaults are. But I'm going to run a few tests to see if I get the same results I was getting before altering my code so that the only place these values are set is the overall function.  \n",
    "  \n",
    "### No Filtering or Re-Rereferencing"
   ]
  },
  {
   "cell_type": "code",
   "execution_count": 8,
   "id": "8c0b9417",
   "metadata": {},
   "outputs": [],
   "source": [
    "y = get_yvals(2000)['activity']"
   ]
  },
  {
   "cell_type": "code",
   "execution_count": 7,
   "id": "3fc386bf",
   "metadata": {},
   "outputs": [],
   "source": [
    "#nofilt_df = full_band_df(2000, activity_df_list, None, None, bandpass = False, notch = False, reref = False)\n",
    "#nofilt_df.to_csv('nofilt_df.csv', index = None)"
   ]
  },
  {
   "cell_type": "code",
   "execution_count": 8,
   "id": "3ff0345e",
   "metadata": {},
   "outputs": [
    {
     "data": {
      "text/plain": [
       "(12000, 95)"
      ]
     },
     "execution_count": 8,
     "metadata": {},
     "output_type": "execute_result"
    }
   ],
   "source": [
    "pd.read_csv('nofilt_df.csv').shape"
   ]
  },
  {
   "cell_type": "code",
   "execution_count": 9,
   "id": "caf4b203",
   "metadata": {},
   "outputs": [],
   "source": [
    "X = pd.read_csv('nofilt_df.csv')\n",
    "\n",
    "scaler = StandardScaler()\n",
    "X = scaler.fit_transform(X)\n",
    "\n",
    "X_train, X_test, y_train, y_test = train_test_split(X, y, test_size = 0.1, random_state = 42)"
   ]
  },
  {
   "cell_type": "code",
   "execution_count": 10,
   "id": "4d128b63",
   "metadata": {},
   "outputs": [
    {
     "name": "stdout",
     "output_type": "stream",
     "text": [
      "Training\n",
      "              precision    recall  f1-score   support\n",
      "\n",
      "         GPD       0.79      0.92      0.85      1794\n",
      "        GRDA       0.72      0.85      0.78      1819\n",
      "         LPD       0.75      0.86      0.80      1800\n",
      "        LRDA       0.81      0.87      0.84      1795\n",
      "       Other       0.76      0.55      0.64      1808\n",
      "     Seizure       0.87      0.62      0.72      1784\n",
      "\n",
      "    accuracy                           0.78     10800\n",
      "   macro avg       0.78      0.78      0.77     10800\n",
      "weighted avg       0.78      0.78      0.77     10800\n",
      "\n",
      "Testing\n",
      "              precision    recall  f1-score   support\n",
      "\n",
      "         GPD       0.72      0.88      0.79       206\n",
      "        GRDA       0.62      0.78      0.69       181\n",
      "         LPD       0.65      0.74      0.70       200\n",
      "        LRDA       0.71      0.82      0.76       205\n",
      "       Other       0.55      0.32      0.41       192\n",
      "     Seizure       0.77      0.50      0.61       216\n",
      "\n",
      "    accuracy                           0.68      1200\n",
      "   macro avg       0.67      0.68      0.66      1200\n",
      "weighted avg       0.67      0.68      0.66      1200\n",
      "\n"
     ]
    }
   ],
   "source": [
    "knn = KNeighborsClassifier()\n",
    "knn.fit(X_train, y_train)\n",
    "training_yhat = knn.predict(X_train)\n",
    "testing_yhat = knn.predict(X_test)\n",
    "print('Training')\n",
    "print(classification_report(y_train, training_yhat))\n",
    "print('Testing')\n",
    "print(classification_report(y_test, testing_yhat))"
   ]
  },
  {
   "cell_type": "markdown",
   "id": "05e40417",
   "metadata": {},
   "source": [
    "### Highpass Only (1 Hz)"
   ]
  },
  {
   "cell_type": "code",
   "execution_count": null,
   "id": "f7e6c14d",
   "metadata": {},
   "outputs": [],
   "source": [
    "#lowfreqfilt_df = full_band_df(2000, activity_df_list, 1, None, bandpass = True, notch = False, reref = False)\n",
    "#lowfreqfilt_df.to_csv('lowfreqfilt_df.csv', index = None)"
   ]
  },
  {
   "cell_type": "code",
   "execution_count": 12,
   "id": "c54345ce",
   "metadata": {},
   "outputs": [],
   "source": [
    "X = pd.read_csv('lowfreqfilt_df.csv')\n",
    "\n",
    "scaler = StandardScaler()\n",
    "X = scaler.fit_transform(X)\n",
    "\n",
    "X_train, X_test, y_train, y_test = train_test_split(X, y, test_size = 0.1, random_state = 42)"
   ]
  },
  {
   "cell_type": "code",
   "execution_count": 14,
   "id": "9e1beb28",
   "metadata": {},
   "outputs": [
    {
     "name": "stdout",
     "output_type": "stream",
     "text": [
      "Training\n",
      "              precision    recall  f1-score   support\n",
      "\n",
      "         GPD       0.80      0.93      0.86      1794\n",
      "        GRDA       0.75      0.88      0.81      1819\n",
      "         LPD       0.76      0.87      0.81      1800\n",
      "        LRDA       0.81      0.88      0.85      1795\n",
      "       Other       0.77      0.56      0.65      1808\n",
      "     Seizure       0.89      0.63      0.74      1784\n",
      "\n",
      "    accuracy                           0.79     10800\n",
      "   macro avg       0.80      0.79      0.79     10800\n",
      "weighted avg       0.80      0.79      0.78     10800\n",
      "\n",
      "Testing\n",
      "              precision    recall  f1-score   support\n",
      "\n",
      "         GPD       0.69      0.84      0.76       206\n",
      "        GRDA       0.61      0.71      0.65       181\n",
      "         LPD       0.63      0.79      0.70       200\n",
      "        LRDA       0.75      0.81      0.78       205\n",
      "       Other       0.58      0.40      0.47       192\n",
      "     Seizure       0.84      0.52      0.64       216\n",
      "\n",
      "    accuracy                           0.68      1200\n",
      "   macro avg       0.68      0.68      0.67      1200\n",
      "weighted avg       0.69      0.68      0.67      1200\n",
      "\n"
     ]
    }
   ],
   "source": [
    "knn = KNeighborsClassifier()\n",
    "knn.fit(X_train, y_train)\n",
    "training_yhat = knn.predict(X_train)\n",
    "testing_yhat = knn.predict(X_test)\n",
    "print('Training')\n",
    "print(classification_report(y_train, training_yhat))\n",
    "print('Testing')\n",
    "print(classification_report(y_test, testing_yhat))"
   ]
  },
  {
   "cell_type": "markdown",
   "id": "371efb8c",
   "metadata": {},
   "source": [
    "### Default Notch Filtering"
   ]
  },
  {
   "cell_type": "code",
   "execution_count": 6,
   "id": "a1c38212",
   "metadata": {},
   "outputs": [],
   "source": [
    "#default_notch_df = full_band_df(2000, activity_df_list, 1, None, bandpass = True, notch = True, reref = False)\n",
    "#default_notch_df.to_csv('default_notch_df.csv', index = None)"
   ]
  },
  {
   "cell_type": "code",
   "execution_count": 9,
   "id": "c77bb618",
   "metadata": {},
   "outputs": [],
   "source": [
    "X = pd.read_csv('default_notch_df.csv')\n",
    "\n",
    "scaler = StandardScaler()\n",
    "X = scaler.fit_transform(X)\n",
    "\n",
    "X_train, X_test, y_train, y_test = train_test_split(X, y, test_size = 0.1, random_state = 42)"
   ]
  },
  {
   "cell_type": "code",
   "execution_count": 10,
   "id": "962ebe80",
   "metadata": {},
   "outputs": [
    {
     "name": "stdout",
     "output_type": "stream",
     "text": [
      "Training\n",
      "              precision    recall  f1-score   support\n",
      "\n",
      "         GPD       0.78      0.92      0.84      1794\n",
      "        GRDA       0.74      0.88      0.81      1819\n",
      "         LPD       0.74      0.87      0.80      1800\n",
      "        LRDA       0.82      0.85      0.84      1795\n",
      "       Other       0.73      0.55      0.63      1808\n",
      "     Seizure       0.89      0.59      0.71      1784\n",
      "\n",
      "    accuracy                           0.78     10800\n",
      "   macro avg       0.78      0.78      0.77     10800\n",
      "weighted avg       0.78      0.78      0.77     10800\n",
      "\n",
      "Testing\n",
      "              precision    recall  f1-score   support\n",
      "\n",
      "         GPD       0.67      0.85      0.75       206\n",
      "        GRDA       0.62      0.79      0.69       181\n",
      "         LPD       0.62      0.73      0.67       200\n",
      "        LRDA       0.75      0.82      0.78       205\n",
      "       Other       0.50      0.31      0.39       192\n",
      "     Seizure       0.76      0.44      0.55       216\n",
      "\n",
      "    accuracy                           0.66      1200\n",
      "   macro avg       0.65      0.66      0.64      1200\n",
      "weighted avg       0.66      0.66      0.64      1200\n",
      "\n"
     ]
    }
   ],
   "source": [
    "knn = KNeighborsClassifier()\n",
    "knn.fit(X_train, y_train)\n",
    "training_yhat = knn.predict(X_train)\n",
    "testing_yhat = knn.predict(X_test)\n",
    "print('Training')\n",
    "print(classification_report(y_train, training_yhat))\n",
    "print('Testing')\n",
    "print(classification_report(y_test, testing_yhat))"
   ]
  },
  {
   "cell_type": "markdown",
   "id": "f0b4a4dc",
   "metadata": {},
   "source": [
    "### Global Average Re-Referencing"
   ]
  },
  {
   "cell_type": "code",
   "execution_count": 11,
   "id": "7c185453",
   "metadata": {},
   "outputs": [],
   "source": [
    "#glb_avg_df = full_band_df(2000, activity_df_list, 1, None, bandpass = True, notch = False, reref = True)\n",
    "#glb_avg_df.to_csv('glb_avg_df.csv', index = None)"
   ]
  },
  {
   "cell_type": "code",
   "execution_count": 12,
   "id": "01edabdc",
   "metadata": {},
   "outputs": [],
   "source": [
    "X = pd.read_csv('glb_avg_df.csv')\n",
    "\n",
    "scaler = StandardScaler()\n",
    "X = scaler.fit_transform(X)\n",
    "\n",
    "X_train, X_test, y_train, y_test = train_test_split(X, y, test_size = 0.1, random_state = 42)"
   ]
  },
  {
   "cell_type": "code",
   "execution_count": 13,
   "id": "ee7e5910",
   "metadata": {},
   "outputs": [
    {
     "name": "stdout",
     "output_type": "stream",
     "text": [
      "Training\n",
      "              precision    recall  f1-score   support\n",
      "\n",
      "         GPD       0.83      0.93      0.88      1794\n",
      "        GRDA       0.78      0.89      0.83      1819\n",
      "         LPD       0.79      0.88      0.83      1800\n",
      "        LRDA       0.85      0.89      0.87      1795\n",
      "       Other       0.78      0.63      0.70      1808\n",
      "     Seizure       0.90      0.69      0.78      1784\n",
      "\n",
      "    accuracy                           0.82     10800\n",
      "   macro avg       0.82      0.82      0.81     10800\n",
      "weighted avg       0.82      0.82      0.81     10800\n",
      "\n",
      "Testing\n",
      "              precision    recall  f1-score   support\n",
      "\n",
      "         GPD       0.73      0.87      0.80       206\n",
      "        GRDA       0.66      0.81      0.72       181\n",
      "         LPD       0.70      0.78      0.74       200\n",
      "        LRDA       0.80      0.79      0.80       205\n",
      "       Other       0.51      0.45      0.48       192\n",
      "     Seizure       0.81      0.53      0.64       216\n",
      "\n",
      "    accuracy                           0.70      1200\n",
      "   macro avg       0.70      0.70      0.70      1200\n",
      "weighted avg       0.71      0.70      0.70      1200\n",
      "\n"
     ]
    }
   ],
   "source": [
    "knn = KNeighborsClassifier()\n",
    "knn.fit(X_train, y_train)\n",
    "training_yhat = knn.predict(X_train)\n",
    "testing_yhat = knn.predict(X_test)\n",
    "print('Training')\n",
    "print(classification_report(y_train, training_yhat))\n",
    "print('Testing')\n",
    "print(classification_report(y_test, testing_yhat))"
   ]
  },
  {
   "cell_type": "markdown",
   "id": "876ec06e",
   "metadata": {},
   "source": [
    "### Conclusion  \n",
    "  \n",
    "The way the functions were written wasn't an issue. These results are equivalent to results from before changes were made. The next step today is going to be testing different feature types."
   ]
  },
  {
   "cell_type": "code",
   "execution_count": null,
   "id": "25b094e5",
   "metadata": {},
   "outputs": [],
   "source": []
  }
 ],
 "metadata": {
  "kernelspec": {
   "display_name": "Python 3 (ipykernel)",
   "language": "python",
   "name": "python3"
  },
  "language_info": {
   "codemirror_mode": {
    "name": "ipython",
    "version": 3
   },
   "file_extension": ".py",
   "mimetype": "text/x-python",
   "name": "python",
   "nbconvert_exporter": "python",
   "pygments_lexer": "ipython3",
   "version": "3.8.10"
  }
 },
 "nbformat": 4,
 "nbformat_minor": 5
}
