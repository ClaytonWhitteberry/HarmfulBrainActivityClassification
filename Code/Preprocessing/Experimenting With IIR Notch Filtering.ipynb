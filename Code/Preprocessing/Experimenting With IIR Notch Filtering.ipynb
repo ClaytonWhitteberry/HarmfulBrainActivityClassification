{
 "cells": [
  {
   "cell_type": "markdown",
   "id": "47baee18",
   "metadata": {},
   "source": [
    "### Experimenting With IIR Notch Filtering"
   ]
  },
  {
   "cell_type": "code",
   "execution_count": 1,
   "id": "67b38996",
   "metadata": {},
   "outputs": [],
   "source": [
    "import numpy as np\n",
    "import pandas as pd\n",
    "import matplotlib.pyplot as plt\n",
    "import fastparquet, pyarrow\n",
    "import mne\n",
    "from mne.decoding import Scaler\n",
    "from sklearn.preprocessing import StandardScaler\n",
    "from sklearn.model_selection import train_test_split\n",
    "from sklearn.neighbors import KNeighborsClassifier\n",
    "from sklearn.metrics import classification_report, f1_score, accuracy_score\n",
    "from mne_features.univariate import compute_pow_freq_bands\n",
    "from utils import *"
   ]
  },
  {
   "cell_type": "code",
   "execution_count": 2,
   "id": "c91fa154",
   "metadata": {},
   "outputs": [],
   "source": [
    "from scipy.signal import butter, filtfilt"
   ]
  },
  {
   "cell_type": "code",
   "execution_count": 3,
   "id": "9554dc92",
   "metadata": {},
   "outputs": [],
   "source": [
    "mne.set_log_level('WARNING')"
   ]
  },
  {
   "cell_type": "code",
   "execution_count": 4,
   "id": "b28517f5",
   "metadata": {},
   "outputs": [],
   "source": [
    "df = pd.read_csv('by_patient.csv')\n",
    "\n",
    "other_df = activity_df(df, 'Other', 'expert_consensus')\n",
    "seizure_df = activity_df(df, 'Seizure', 'expert_consensus')\n",
    "gpd_df = activity_df(df, 'GPD', 'expert_consensus')\n",
    "lpd_df = activity_df(df, 'LPD', 'expert_consensus')\n",
    "grda_df = activity_df(df, 'GRDA', 'expert_consensus')\n",
    "lrda_df = activity_df(df, 'LRDA', 'expert_consensus')\n",
    "\n",
    "activity_df_list = [other_df, seizure_df, gpd_df, lpd_df, grda_df, lrda_df]"
   ]
  },
  {
   "cell_type": "code",
   "execution_count": 5,
   "id": "be81abeb",
   "metadata": {},
   "outputs": [],
   "source": [
    "def iir_eeg(raw, n_channels, order, sfreq, l_freq, h_freq, b_type):\n",
    "    filtered_eeg = pd.DataFrame()\n",
    "    for i in range(n_channels):\n",
    "        filtered_signal = iir_signal(raw.get_data()[i], order, sfreq, l_freq, h_freq, b_type)\n",
    "        filtered_eeg = pd.concat([filtered_eeg, filtered_signal], axis = 1)\n",
    "    filtered_eeg.columns = electrodes\n",
    "    return filtered_eeg\n",
    "\n",
    "def iir_signal(raw_signal, order, sfreq, l_freq, h_freq, b_type):\n",
    "    nyquist = 0.5 * sfreq\n",
    "    low = l_freq / nyquist\n",
    "    high = h_freq / nyquist\n",
    "    b, a = butter(order, [low, high], btype = b_type)\n",
    "    filtered_signal = filtfilt(b, a, raw_signal)\n",
    "    return pd.DataFrame(filtered_signal)"
   ]
  },
  {
   "cell_type": "code",
   "execution_count": null,
   "id": "e2804869",
   "metadata": {},
   "outputs": [],
   "source": []
  }
 ],
 "metadata": {
  "kernelspec": {
   "display_name": "Python 3 (ipykernel)",
   "language": "python",
   "name": "python3"
  },
  "language_info": {
   "codemirror_mode": {
    "name": "ipython",
    "version": 3
   },
   "file_extension": ".py",
   "mimetype": "text/x-python",
   "name": "python",
   "nbconvert_exporter": "python",
   "pygments_lexer": "ipython3",
   "version": "3.8.10"
  }
 },
 "nbformat": 4,
 "nbformat_minor": 5
}
