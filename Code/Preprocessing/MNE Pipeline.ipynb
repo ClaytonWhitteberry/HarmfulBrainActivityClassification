{
 "cells": [
  {
   "cell_type": "markdown",
   "id": "9c98cbb1",
   "metadata": {},
   "source": [
    "### Working on MNE Pipeline for Preprocessing and Feature Extraction  \n",
    "  \n",
    "The goal for this notebook is to get a working pipeline written that loads a sub EEG into MNE, scales the sub EEG, loads that back into MNE as a RawArray with the info from the beginning used for info, bandpass filters the scaled sub EEG, and extracts the band power features that were used in the base models. As I move forward with this project, this pipeline will have more steps added to it. This includes notch filtering, re-referencing, and artifact handling."
   ]
  },
  {
   "cell_type": "code",
   "execution_count": 1,
   "id": "796be008",
   "metadata": {},
   "outputs": [],
   "source": [
    "import numpy as np\n",
    "import pandas as pd\n",
    "import fastparquet, pyarrow\n",
    "import matplotlib.pyplot as plt\n",
    "import mne\n",
    "from mne_features.univariate import compute_pow_freq_bands"
   ]
  },
  {
   "cell_type": "code",
   "execution_count": 2,
   "id": "5e0fdc06",
   "metadata": {},
   "outputs": [],
   "source": [
    "df = pd.read_csv('by_patient.csv')"
   ]
  },
  {
   "cell_type": "markdown",
   "id": "f93a3b5b",
   "metadata": {},
   "source": [
    "Splitting metadata by activity type"
   ]
  },
  {
   "cell_type": "code",
   "execution_count": 3,
   "id": "22bde12a",
   "metadata": {},
   "outputs": [],
   "source": [
    "def activity_df(activity):\n",
    "    return pd.DataFrame(df[df['expert_consensus'] == activity]).reset_index().drop(columns = 'index')\n",
    "\n",
    "other_df = activity_df('Other')\n",
    "seizure_df = activity_df('Seizure')\n",
    "lpd_df = activity_df('LPD')\n",
    "gpd_df = activity_df('GPD')\n",
    "lrda_df = activity_df('LRDA')\n",
    "grda_df = activity_df('GRDA')"
   ]
  },
  {
   "cell_type": "markdown",
   "id": "8fbe5fca",
   "metadata": {},
   "source": [
    "Loading in specified sub eeg"
   ]
  },
  {
   "cell_type": "code",
   "execution_count": 4,
   "id": "2b32405b",
   "metadata": {},
   "outputs": [],
   "source": [
    "def get_sub_eeg(data, row):\n",
    "    whole_eeg = pd.read_parquet('train_eegs/{}.parquet'.format(data['eeg_id'][row]), engine = 'pyarrow')\n",
    "    start = int(data['eeg_label_offset_seconds'][row] * 200)\n",
    "    stop = start + 10000\n",
    "    sub_eeg = whole_eeg[start: stop].reset_index().drop(columns = 'index')\n",
    "    return sub_eeg"
   ]
  },
  {
   "cell_type": "markdown",
   "id": "24a05480",
   "metadata": {},
   "source": [
    "Loading sub eeg into MNE as a RawArray object and then setting up the entire sub EEG as one epoch so that the dimensions fit what MNE's scaler expect. After scaling, the scaled sub EEG data is loaded back into MNE as a RawArray object, but Raw Array objects are meant to be 2D. This is resolved by indexing. The first and only epoch of the scaled sub EEG is selected. Doing this takes the dimensions from (1, 20, 10000) to (20, 10000)."
   ]
  },
  {
   "cell_type": "code",
   "execution_count": 5,
   "id": "3ac4830f",
   "metadata": {},
   "outputs": [],
   "source": [
    "def initialize_eeg(data, row):\n",
    "    sub_eeg = get_sub_eeg(data, row)\n",
    "    info = mne.create_info(\n",
    "        sub_eeg.columns.to_list(),\n",
    "        ch_types=([\"eeg\"]*(len(sub_eeg.columns)-1))+['ecg'],\n",
    "        sfreq=200\n",
    "    )\n",
    "    info.set_montage(\"standard_1020\")\n",
    "\n",
    "    raw = mne.io.RawArray(\n",
    "        sub_eeg.to_numpy().T,\n",
    "        info\n",
    "    )\n",
    "    return raw\n",
    "\n",
    "def epoch_eeg(data, row):\n",
    "    raw = initialize_eeg(data, row)\n",
    "    return mne.make_fixed_length_epochs(raw, duration = 50.0)"
   ]
  },
  {
   "cell_type": "code",
   "execution_count": 6,
   "id": "b500f2bb",
   "metadata": {},
   "outputs": [],
   "source": [
    "from mne.decoding import Scaler"
   ]
  },
  {
   "cell_type": "code",
   "execution_count": 7,
   "id": "c6a442a8",
   "metadata": {},
   "outputs": [],
   "source": [
    "def mne_scale(raw_data, raw_info):\n",
    "    scaler = Scaler(scalings = 'mean')\n",
    "    scaled_eeg = scaler.fit_transform(raw_data)\n",
    "    raw_scaled = mne.io.RawArray(scaled_eeg[0], raw_info)\n",
    "    return raw_scaled"
   ]
  },
  {
   "cell_type": "markdown",
   "id": "5f3a47e8",
   "metadata": {},
   "source": [
    "### MNE Pipeline  \n",
    "  \n",
    "The goal is to have a single function that is called which will run through a series of functions and output feature data to be stored in a feature set. As of now, the pipeline loads in a sub EEG, stores that in MNE, establishes one epoch per sub EEG which encapsulates the entire sub EEG and is done simply to add a third dimension for the purpose of scaling. Then the sub EEG is scaled with MNE's scaler and the resulting sub EEG is made two dimensional and read back into MNE as a RawArray object."
   ]
  },
  {
   "cell_type": "code",
   "execution_count": 8,
   "id": "e2c1e256",
   "metadata": {},
   "outputs": [],
   "source": [
    "def load_scale(data, row):\n",
    "    epoched_raw = epoch_eeg(data, row)\n",
    "    scaled_raw = mne_scale(epoched_raw.get_data(), epoched_raw.info)\n",
    "    return scaled_raw"
   ]
  },
  {
   "cell_type": "code",
   "execution_count": 9,
   "id": "c3878a05",
   "metadata": {},
   "outputs": [
    {
     "name": "stdout",
     "output_type": "stream",
     "text": [
      "Creating RawArray with float64 data, n_channels=20, n_times=10000\n",
      "    Range : 0 ... 9999 =      0.000 ...    49.995 secs\n",
      "Ready.\n",
      "Not setting metadata\n",
      "1 matching events found\n",
      "No baseline correction applied\n",
      "0 projection items activated\n",
      "Using data from preloaded Raw for 1 events and 10000 original time points ...\n",
      "0 bad epochs dropped\n",
      "Creating RawArray with float64 data, n_channels=20, n_times=10000\n",
      "    Range : 0 ... 9999 =      0.000 ...    49.995 secs\n",
      "Ready.\n"
     ]
    }
   ],
   "source": [
    "scaled_raw = load_scale(lrda_df, 0)"
   ]
  },
  {
   "cell_type": "markdown",
   "id": "25772fc6",
   "metadata": {},
   "source": [
    "### Next Step  \n",
    "  \n",
    "The code above loads and scales a sub EEG with MNE. The next step is filtering which can be done by running scaled_raw.filter with l_freq set to 1 and h_freq set to 70. After that, I need to take the function for calculating band powers and use it in a function that loops over a random set of indexes for each activity df a generates a band power feature set."
   ]
  },
  {
   "cell_type": "code",
   "execution_count": null,
   "id": "3f76cdc7",
   "metadata": {},
   "outputs": [],
   "source": []
  }
 ],
 "metadata": {
  "kernelspec": {
   "display_name": "Python 3 (ipykernel)",
   "language": "python",
   "name": "python3"
  },
  "language_info": {
   "codemirror_mode": {
    "name": "ipython",
    "version": 3
   },
   "file_extension": ".py",
   "mimetype": "text/x-python",
   "name": "python",
   "nbconvert_exporter": "python",
   "pygments_lexer": "ipython3",
   "version": "3.8.10"
  }
 },
 "nbformat": 4,
 "nbformat_minor": 5
}
