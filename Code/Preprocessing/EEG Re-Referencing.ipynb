{
 "cells": [
  {
   "cell_type": "markdown",
   "id": "a9f7e2e7",
   "metadata": {},
   "source": [
    "### EEG Re-Referencing"
   ]
  },
  {
   "cell_type": "code",
   "execution_count": 1,
   "id": "a8839bd8",
   "metadata": {},
   "outputs": [],
   "source": [
    "import numpy as np\n",
    "import pandas as pd\n",
    "import matplotlib.pyplot as plt\n",
    "import fastparquet, pyarrow\n",
    "import mne\n",
    "from mne.decoding import Scaler\n",
    "from mne_features.univariate import compute_pow_freq_bands\n",
    "from sklearn.model_selection import train_test_split\n",
    "from sklearn.neighbors import KNeighborsClassifier\n",
    "from sklearn.metrics import classification_report"
   ]
  },
  {
   "cell_type": "code",
   "execution_count": 2,
   "id": "d6d84f0c",
   "metadata": {},
   "outputs": [],
   "source": [
    "from utils import *"
   ]
  },
  {
   "cell_type": "code",
   "execution_count": 3,
   "id": "45c1b6b8",
   "metadata": {},
   "outputs": [],
   "source": [
    "mne.set_log_level('WARNING')"
   ]
  },
  {
   "cell_type": "code",
   "execution_count": 4,
   "id": "e1472fb3",
   "metadata": {},
   "outputs": [],
   "source": [
    "df = pd.read_csv('by_patient.csv')"
   ]
  },
  {
   "cell_type": "code",
   "execution_count": 5,
   "id": "ad1ab3e7",
   "metadata": {},
   "outputs": [],
   "source": [
    "other_df = activity_df(df, 'Other', 'expert_consensus')\n",
    "seizure_df = activity_df(df, 'Seizure', 'expert_consensus')\n",
    "gpd_df = activity_df(df, 'GPD', 'expert_consensus')\n",
    "lpd_df = activity_df(df, 'LPD', 'expert_consensus')\n",
    "grda_df = activity_df(df, 'GRDA', 'expert_consensus')\n",
    "lrda_df = activity_df(df, 'LRDA', 'expert_consensus')"
   ]
  },
  {
   "cell_type": "code",
   "execution_count": 6,
   "id": "b5a17df4",
   "metadata": {},
   "outputs": [],
   "source": [
    "activity_df_list = [other_df, seizure_df, gpd_df, lpd_df, grda_df, lrda_df]"
   ]
  },
  {
   "cell_type": "code",
   "execution_count": 7,
   "id": "1f44fb7b",
   "metadata": {},
   "outputs": [],
   "source": [
    "from sklearn.preprocessing import StandardScaler"
   ]
  },
  {
   "cell_type": "code",
   "execution_count": 8,
   "id": "e6d70639",
   "metadata": {},
   "outputs": [],
   "source": [
    "#reref_df = full_band_df(2000, activity_df_list, 1, None, bandpass = True, reref = True)\n",
    "#reref_df.to_csv('avg_ref_df.csv', index = None)"
   ]
  },
  {
   "cell_type": "code",
   "execution_count": 9,
   "id": "8f3bace8",
   "metadata": {},
   "outputs": [],
   "source": [
    "X = pd.read_csv('avg_ref_df.csv')\n",
    "y = get_yvals(2000)['activity']\n",
    "\n",
    "scaler = StandardScaler()\n",
    "X = scaler.fit_transform(X)\n",
    "\n",
    "X_train, X_test, y_train, y_test = train_test_split(X, y, test_size = 0.1, random_state = 42)"
   ]
  },
  {
   "cell_type": "code",
   "execution_count": 10,
   "id": "67f26546",
   "metadata": {},
   "outputs": [
    {
     "name": "stdout",
     "output_type": "stream",
     "text": [
      "Training (EEG Re-Referencing)\n",
      "              precision    recall  f1-score   support\n",
      "\n",
      "         GPD       0.82      0.93      0.87      1794\n",
      "        GRDA       0.77      0.89      0.83      1819\n",
      "         LPD       0.77      0.88      0.82      1800\n",
      "        LRDA       0.85      0.88      0.86      1795\n",
      "       Other       0.77      0.61      0.68      1808\n",
      "     Seizure       0.92      0.68      0.78      1784\n",
      "\n",
      "    accuracy                           0.81     10800\n",
      "   macro avg       0.82      0.81      0.81     10800\n",
      "weighted avg       0.82      0.81      0.81     10800\n",
      "\n",
      "Testing (EEG Re-Referencing)\n",
      "              precision    recall  f1-score   support\n",
      "\n",
      "         GPD       0.78      0.87      0.82       206\n",
      "        GRDA       0.66      0.80      0.72       181\n",
      "         LPD       0.66      0.82      0.73       200\n",
      "        LRDA       0.73      0.81      0.77       205\n",
      "       Other       0.62      0.41      0.49       192\n",
      "     Seizure       0.78      0.53      0.63       216\n",
      "\n",
      "    accuracy                           0.71      1200\n",
      "   macro avg       0.70      0.71      0.69      1200\n",
      "weighted avg       0.71      0.71      0.70      1200\n",
      "\n"
     ]
    }
   ],
   "source": [
    "knn = KNeighborsClassifier()\n",
    "knn.fit(X_train, y_train)\n",
    "training_yhat = knn.predict(X_train)\n",
    "testing_yhat = knn.predict(X_test)\n",
    "print('Training (EEG Re-Referencing)')\n",
    "print(classification_report(y_train, training_yhat))\n",
    "print('Testing (EEG Re-Referencing)')\n",
    "print(classification_report(y_test, testing_yhat))"
   ]
  },
  {
   "cell_type": "code",
   "execution_count": 11,
   "id": "b9abd078",
   "metadata": {},
   "outputs": [],
   "source": [
    "from sklearn.metrics import accuracy_score"
   ]
  },
  {
   "cell_type": "code",
   "execution_count": 12,
   "id": "516ed5e8",
   "metadata": {},
   "outputs": [],
   "source": [
    "ref_train = accuracy_score(y_train, training_yhat).round(decimals = 3)\n",
    "ref_test = accuracy_score(y_test, testing_yhat).round(decimals = 3)"
   ]
  },
  {
   "cell_type": "code",
   "execution_count": 13,
   "id": "1e3f641b",
   "metadata": {},
   "outputs": [
    {
     "data": {
      "text/plain": [
       "(0.81, 0.707)"
      ]
     },
     "execution_count": 13,
     "metadata": {},
     "output_type": "execute_result"
    }
   ],
   "source": [
    "ref_train, ref_test"
   ]
  },
  {
   "cell_type": "code",
   "execution_count": 15,
   "id": "95bee2f3",
   "metadata": {},
   "outputs": [
    {
     "data": {
      "image/png": "[encoded data removed]",
      "text/plain": [
       "<Figure size 432x288 with 1 Axes>"
      ]
     },
     "metadata": {
      "needs_background": "light"
     },
     "output_type": "display_data"
    }
   ],
   "source": [
    "reref_scores = [0.810, 0.707]\n",
    "datasets = ['Training (0.810)', 'Testing (0.707)']\n",
    "\n",
    "plt.bar(datasets, reref_scores, color = ['skyblue', 'lightgreen'])\n",
    "plt.ylabel('Accuracy')\n",
    "plt.title('Training and Testing Accuracy After Re-Referencing')\n",
    "plt.show()"
   ]
  },
  {
   "cell_type": "code",
   "execution_count": null,
   "id": "02360a8c",
   "metadata": {},
   "outputs": [],
   "source": []
  }
 ],
 "metadata": {
  "kernelspec": {
   "display_name": "Python 3 (ipykernel)",
   "language": "python",
   "name": "python3"
  },
  "language_info": {
   "codemirror_mode": {
    "name": "ipython",
    "version": 3
   },
   "file_extension": ".py",
   "mimetype": "text/x-python",
   "name": "python",
   "nbconvert_exporter": "python",
   "pygments_lexer": "ipython3",
   "version": "3.8.10"
  }
 },
 "nbformat": 4,
 "nbformat_minor": 5
}
